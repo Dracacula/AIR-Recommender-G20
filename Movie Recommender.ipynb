{
 "cells": [
  {
   "attachments": {},
   "cell_type": "markdown",
   "metadata": {},
   "source": [
    "# Advanced Information Retrieval - Project\n",
    "\n",
    "### Organizational infos:\n",
    "* 30 Points in total\n",
    "* Deadline: 09.01.2023 23:59"
   ]
  },
  {
   "cell_type": "code",
   "execution_count": 3,
   "metadata": {},
   "outputs": [
    {
     "name": "stderr",
     "output_type": "stream",
     "text": [
      "C:\\Users\\schae\\AppData\\Local\\Programs\\Python\\Python310\\lib\\site-packages\\thefuzz\\fuzz.py:11: UserWarning: Using slow pure-python SequenceMatcher. Install python-Levenshtein to remove this warning\n",
      "  warnings.warn('Using slow pure-python SequenceMatcher. Install python-Levenshtein to remove this warning')\n"
     ]
    }
   ],
   "source": [
    "#imports\n",
    "\n",
    "import pandas as pd\n",
    "import numpy as np\n",
    "import random\n",
    "import ast\n",
    "import gensim\n",
    "from torch import nn\n",
    "import torch\n",
    "from nltk.tokenize import WhitespaceTokenizer\n",
    "from scipy.stats import pearsonr\n",
    "from thefuzz import fuzz\n",
    "from thefuzz import process"
   ]
  },
  {
   "attachments": {},
   "cell_type": "markdown",
   "metadata": {},
   "source": [
    "## Movie struct\n",
    "Create a struct that contains all  the movie relevant Information to work with.\n",
    "Could be changed at any given time.\n"
   ]
  },
  {
   "attachments": {},
   "cell_type": "markdown",
   "metadata": {},
   "source": [
    "**Define all relevante class attributes**"
   ]
  },
  {
   "cell_type": "code",
   "execution_count": 43,
   "metadata": {},
   "outputs": [],
   "source": [
    "class Movie:\n",
    "    def __init__(self, id, name, genres):\n",
    "        self.id = id\n",
    "        self.name = name\n",
    "        self.genres = genres\n",
    "        self.tagsRelevance = [0] * 1128\n",
    "        self.tagsList = []\n",
    "        self.ratingCount = 0\n",
    "        self.ratingSum = 0\n",
    "        self.rating = 0\n",
    "\n",
    "    def SetTagRelevanceVector(self, tagsRelevance):\n",
    "        self.tagsRelevance = tagsRelevance\n",
    "\n",
    "    def SetTagsList(self, tagsList):\n",
    "        self.tagsList = tagsList\n",
    "    \n",
    "    def SetSumRatings(self, userRatings):\n",
    "        self.rating = userRatings\n",
    "    \n",
    "    def AddRatingCount(self, userRating):\n",
    "        self.ratingCount += 1\n",
    "        self.ratingSum += userRating\n",
    "        self.rating = self.ratingSum / self.ratingCount\n",
    "    "
   ]
  },
  {
   "attachments": {},
   "cell_type": "markdown",
   "metadata": {},
   "source": [
    "**Create A List of Movies and a look up Table for the Genres for later usage.**"
   ]
  },
  {
   "attachments": {},
   "cell_type": "markdown",
   "metadata": {},
   "source": [
    "The Genres could also be used for a similarity measurement so i just saved the just in case.\n",
    "Also i am not to sure if genre-14 (Imax) should really be inluded. "
   ]
  },
  {
   "cell_type": "code",
   "execution_count": 44,
   "metadata": {},
   "outputs": [],
   "source": [
    "\n",
    "def CreateMovieList(lookUpGenre):\n",
    "    allMovies = {}\n",
    "    moviedocs = pd.read_csv('movies.csv')\n",
    "    lookUpIndex = 1\n",
    "\n",
    "    for i in range(len(moviedocs)):\n",
    "        movieGenres = moviedocs['genres'][i]\n",
    "        movieGenresList = movieGenres.split('|')\n",
    "        movieGenresNumericalList = []\n",
    "        for word in movieGenresList:\n",
    "            if word not in lookUpGenre:\n",
    "                lookUpGenre[word] = lookUpIndex\n",
    "                lookUpIndex += 1\n",
    "\n",
    "            movieGenresNumericalList.append(lookUpGenre[word])\n",
    "        movie = Movie(moviedocs['movieId'][i], moviedocs['title'][i], movieGenresNumericalList)\n",
    "\n",
    "        allMovies[movie.id] = movie\n",
    "    return allMovies\n",
    "    "
   ]
  },
  {
   "attachments": {},
   "cell_type": "markdown",
   "metadata": {},
   "source": [
    "**Adds the Genom Score relevances to the Movies**"
   ]
  },
  {
   "attachments": {},
   "cell_type": "markdown",
   "metadata": {},
   "source": [
    "The genom score is the relevances the tags have to the movies. We also have a csv file mapping the tags to an index.\n",
    "So i created a tags look up table."
   ]
  },
  {
   "cell_type": "code",
   "execution_count": 45,
   "metadata": {},
   "outputs": [
    {
     "name": "stdout",
     "output_type": "stream",
     "text": [
      "1\n",
      "0.0287499999999999\n"
     ]
    }
   ],
   "source": [
    "def CreateTagsLookUpTable():\n",
    "    genres = pd.read_csv('genome-tags.csv')\n",
    "    tagsLookUpTable = {}\n",
    "    for index in range(len(genres)):\n",
    "        tagsLookUpTable[genres['tagId'][index]] = genres['tag'][index]\n",
    "        index += 1\n",
    "    return tagsLookUpTable\n",
    "\n",
    "tags_lookup_table = CreateTagsLookUpTable()\n",
    "\n",
    "\n",
    "def AddGenoScoresToMovies(movieList):\n",
    "    genomeScores = pd.read_csv('genome-scores.csv')\n",
    "    movieTagsRelevance = []\n",
    "    tags = []\n",
    "    movieId = genomeScores['movieId'][0]\n",
    "    for i in range(len(genomeScores)):\n",
    "        if genomeScores['movieId'][i] != movieId:\n",
    "            movieList[movieId].SetTagRelevanceVector(movieTagsRelevance.copy())\n",
    "            movieList[movieId].SetTagsList(tags.copy())\n",
    "            movieId = genomeScores['movieId'][i]\n",
    "            movieTagsRelevance.clear()\n",
    "            tags.clear()\n",
    "\n",
    "        tags.append(tags_lookup_table[genomeScores[\"tagId\"][i]])\n",
    "        movieTagsRelevance.append(genomeScores['relevance'][i])\n",
    "    movieList[movieId].SetTagRelevanceVector(movieTagsRelevance)\n",
    "    return\n",
    "\n",
    "\n",
    "genomeScores = pd.read_csv('genome-scores.csv')\n",
    "print(genomeScores['movieId'][0])\n",
    "print(genomeScores['relevance'][0])"
   ]
  },
  {
   "attachments": {},
   "cell_type": "markdown",
   "metadata": {},
   "source": [
    "**Using all the Functions above**\n"
   ]
  },
  {
   "attachments": {},
   "cell_type": "markdown",
   "metadata": {},
   "source": [
    "well it's not takes a lot of time to add all the relevance scores..."
   ]
  },
  {
   "cell_type": "code",
   "execution_count": 46,
   "metadata": {},
   "outputs": [],
   "source": [
    "lookUpTableGenres = {}\n",
    "movies = CreateMovieList(lookUpTableGenres)\n",
    "AddGenoScoresToMovies(movies)\n",
    "lookUpTags = CreateTagsLookUpTable()\n",
    "\n"
   ]
  },
  {
   "attachments": {},
   "cell_type": "markdown",
   "metadata": {},
   "source": [
    "**Use the tags as a similarity measurement vector.**"
   ]
  },
  {
   "attachments": {},
   "cell_type": "markdown",
   "metadata": {},
   "source": [
    "Get a sorted List with a given size depending on the count. Uses the Cosine similiarity or Jaccard similarity to calculate the tags similarity between movies."
   ]
  },
  {
   "cell_type": "code",
   "execution_count": 54,
   "metadata": {},
   "outputs": [
    {
     "name": "stdout",
     "output_type": "stream",
     "text": [
      "['007', '007 (series)', '18th century', '1920s', '1930s', '1950s', '1960s', '1970s', '1980s', '19th century', '3d', '70mm', '80s', '9/11', 'aardman', 'aardman studios', 'abortion', 'absurd', 'action', 'action packed', 'adaptation', 'adapted from:book', 'adapted from:comic', 'adapted from:game', 'addiction', 'adolescence', 'adoption', 'adultery', 'adventure', 'affectionate', 'afi 100', 'afi 100 (laughs)', 'afi 100 (movie quotes)', 'africa', 'afterlife', 'aging', 'aids', 'airplane', 'airport', 'alaska', 'alcatraz', 'alcoholism', 'alien', 'alien invasion', 'aliens', 'allegory', 'almodovar', 'alone in the world', 'alter ego', 'alternate endings', 'alternate history', 'alternate reality', 'alternate universe', 'amazing cinematography', 'amazing photography', 'american civil war', 'amnesia', 'amy smart', 'android(s)/cyborg(s)', 'androids', 'animal movie', 'animals', 'animated', 'animation', 'anime', 'antarctica', 'anti-hero', 'anti-semitism', 'anti-war', 'apocalypse', 'archaeology', 'argentina', 'arms dealer', 'arnold', 'art', 'art house', 'artificial intelligence', 'artist', 'artistic', 'artsy', 'assassin', 'assassination', 'assassins', 'astronauts', 'atheism', 'atmospheric', 'australia', 'australian', 'author:alan moore', 'author:neil gaiman', 'autism', 'aviation', 'awesome', 'awesome soundtrack', 'awful', 'bad', 'bad acting', 'bad cgi', 'bad ending', 'bad plot', 'bad science', 'bad script', 'bad sequel', 'ballet', 'bank robbery', 'baseball', 'based on a book', 'based on a comic', 'based on a play', 'based on a true story', 'based on a tv show', 'based on a video game', 'based on book', 'based on comic', 'based on true story', 'basketball', 'batman', 'bdsm', 'beatles', 'beautiful', 'beautiful scenery', 'beautifully filmed', 'beauty pageant', 'beer', 'berlin', 'best of 2005', 'best war films', 'betrayal', 'better than expected', 'better than the american version', 'biblical', 'big budget', 'biographical', 'biography', 'biopic', 'birds', 'biting', 'bittersweet', 'bizarre', 'black and white', 'black comedy', 'blaxploitation', 'bleak', 'blindness', 'blood', 'bloody', 'boarding school', 'boat', 'bollywood', 'bombs', 'bond', 'book', 'book was better', 'books', 'boring', 'boring!', 'boston', 'bowling', 'boxing', 'brainwashing', 'brazil', 'breathtaking', 'brilliant', 'british', 'british comedy', 'broadway', 'brothers', 'brutal', 'brutality', 'buddy movie', 'bullshit history', 'bullying', 'business', 'c.s. lewis', 'california', 'camp', 'campy', 'canada', 'cancer', 'cannibalism', 'caper', 'capitalism', 'car chase', 'carrie-anne moss', 'cars', 'cartoon', 'casino', 'catastrophe', 'cathartic', 'catholicism', 'censorship', 'cerebral', 'cgi', 'character study', 'chase', 'cheating', 'cheerleading', 'cheesy', 'chess', 'chicago', 'chick flick', 'child abuse', 'childhood', 'children', 'china', 'chocolate', 'chris tucker', 'christian', 'christianity', 'christmas', 'cia', 'cinematography', 'circus', 'civil war', 'classic', 'classic car', 'classical music', 'claustrophobic', 'claymation', 'clever', 'clones', 'cloning', 'clowns', 'coen bros', 'coen brothers', 'cold war', 'college', 'colonialism', 'colourful', 'comedy', 'comic', 'comic book', 'comic book adaption', 'comics', 'coming of age', 'coming-of-age', 'communism', 'compassionate', 'competition', 'complex', 'complex characters', 'complicated', 'complicated plot', 'computer animation', 'computer game', 'computers', 'con artists', 'con men', 'confrontational', 'confusing', 'conspiracy', 'conspiracy theory', 'controversial', 'cooking', 'cool', 'corny', 'corporate america', 'corruption', 'costume drama', 'courage', 'court', 'courtroom', 'courtroom drama', 'crappy sequel', 'crazy', 'creativity', 'creepy', 'crime', 'crime gone awry', 'criterion', 'cross dressing', 'crude humor', 'cuba', 'cult', 'cult classic', 'cult film', 'culture clash', 'cute', 'cute!', 'cyberpunk', 'cyborgs', 'cynical', 'dance', 'dancing', 'dark', 'dark comedy', 'dark fantasy', 'dark hero', 'dark humor', 'dc comics', 'deadpan', 'death', 'death penalty', 'demons', 'depp & burton', 'depressing', 'depression', 'desert', 'destiny', 'detective', 'devil', 'dialogue', 'dialogue driven', 'dinosaurs', 'directorial debut', 'disability', 'disappointing', 'disaster', 'disney', 'disney animated feature', 'distopia', 'disturbing', 'divorce', 'doctors', 'documentary', 'dog', 'dogs', 'dolphins', 'downbeat', 'dr. seuss', 'dragon', 'dragons', 'drama', 'dramatic', 'dreamlike', 'dreams', 'dreamworks', 'drinking', 'drug abuse', 'drug addiction', 'drugs', 'dumb', 'dumb but funny', 'dynamic cgi action', 'dysfunctional family', 'dystopia', 'dystopic future', 'earnest', 'easily confused with other movie(s) (title)', 'east germany', 'eccentricity', 'ecology', 'educational', 'eerie', 'effects', 'egypt', 'emma watson', 'emotional', 'end of the world', 'england', 'enigmatic', 'ennio morricone', 'enormously long battle scene', 'ensemble cast', 'entertaining', 'entirely dialogue', 'environment', 'environmental', 'epic', 'erotic', 'espionage', 'ethnic conflict', 'evolution', 'excellent', 'excellent script', 'exceptional acting', 'exciting', 'existentialism', 'explosions', 'factual', 'fairy tale', 'fairy tales', 'fake documentary', 'family', 'family bonds', 'family drama', 'fantasy', 'fantasy world', 'farce', 'fascism', 'fashion', 'fast paced', 'father daughter relationship', 'father son relationship', 'father-son relationship', 'fbi', 'feel good movie', 'feel-good', 'fight scenes', 'fighting', 'fighting the system', 'figure skating', 'film noir', 'finnish', 'firefly', 'first contact', 'fish', 'flashbacks', 'food', 'football', 'forceful', 'foreign', 'foul language', 'fountain of youth', 'france', 'franchise', 'francis ford copolla', 'free speech', 'free to download', 'freedom', 'french', 'friendship', 'frightening', 'fun', 'fun movie', 'funniest movies', 'funny', 'funny as hell', 'future', 'futuristic', 'gambling', 'gangs', 'gangster', 'gangsters', 'gay', 'gay character', 'geek', 'geeks', 'genetics', 'genius', 'genocide', 'george orwell', 'german', 'germany', 'ghosts', 'ghosts/afterlife', 'giant robots', 'gilliam', 'girlie movie', 'glbt', 'global warming', 'god', 'golden palm', 'golf', 'good', 'good acting', 'good action', 'good dialogue', 'good music', 'good romantic comedies', 'good sequel', 'good soundtrack', 'good story', 'good versus evil', 'goofy', 'gore', 'goretastic', 'gory', 'goth', 'gothic', 'graphic design', 'graphic novel', 'gratuitous violence', 'great', 'great acting', 'great cinematography', 'great dialogue', 'great ending', 'great movie', 'great music', 'great soundtrack', 'greed', 'grim', 'grindhouse', 'gritty', 'gross-out', 'gruesome', 'guilt', 'guilty pleasure', 'gulf war', 'gunfight', 'guns', 'gypsy accent', 'hackers', 'hacking', 'halloween', 'hallucinatory', 'handycam', 'hannibal lecter', 'happy ending', 'hard to watch', 'harry potter', 'harsh', 'haunted house', 'hawaii', 'heartbreaking', 'heartwarming', 'heist', 'heroin', 'heroine', 'heroine in tight suit', 'high fantasy', 'high school', 'highly quotable', 'hilarious', 'hillarious', 'hip hop', 'historical', 'history', 'hit men', 'hitchcock', 'hitman', 'holiday', 'hollywood', 'holocaust', 'homeless', 'homophobia', 'homosexuality', 'honest', 'hong kong', 'horrible', 'horror', 'horses', 'hospital', 'hostage', 'hotel', 'humanity', 'humor', 'humorous', 'hunting', 'idealism', 'identity', 'idiotic', 'imaginary friend', 'imagination', 'imdb top 250', 'immigrants', 'immortality', 'incest', 'independent film', 'india', 'indiana jones', 'indians', 'indie', 'infidelity', 'innocence lost', 'insanity', 'inspirational', 'inspiring', 'intellectual', 'intelligent', 'intelligent sci-fi', 'intense', 'interesting', 'internet', 'interracial romance', 'intimate', 'investigation', 'iran', 'iraq', 'iraq war', 'ireland', 'irish', 'irish accent', 'ironic', 'irreverent', 'islam', 'island', 'isolation', 'israel', 'italian', 'italy', 'james bond', 'jane austen', 'japan', 'japanese', 'jay and silent bob', 'jazz', 'jesus', 'jewish', 'jews', 'journalism', 'judaism', 'jungle', 'justice', 'kick-butt women', 'kidnapping', 'kids', 'kids and family', 'king arthur', 'kubrick', 'kung fu', 'kurosawa', 'lame', 'las vegas', 'latin america', 'lawyer', 'lawyers', 'lesbian', 'life', 'life & death', 'life philosophy', 'light', 'lions', 'literary adaptation', 'literature', 'liv tyler', 'london', 'lone hero', 'loneliness', 'long', 'los angeles', 'love', 'love story', 'love triangles', 'low budget', 'lynch', 'lyrical', 'macabre', 'mad scientist', 'made for tv', 'mafia', 'magic', 'magic realism', 'male nudity', 'man versus machine', 'manipulation', 'marijuana', 'marriage', 'mars', 'martial arts', 'marvel', 'marx brothers', 'masterpiece', 'math', 'mathematics', 'maze', 'medieval', 'meditative', 'melancholic', 'melancholy', 'memory', 'memory loss', 'mental hospital', 'mental illness', 'mentor', 'metaphysics', 'mexico', 'middle east', 'midlife crisis', 'military', 'mindfuck', 'mining', 'minnesota', 'mission from god', 'mistaken identity', 'miyazaki', 'mob', 'mockumentary', 'modern fantasy', 'money', 'monkey', 'monster', 'monsters', 'monty python', 'moody', 'moon', 'moral ambiguity', 'morality', 'mother daughter relationship', 'mother-son relationship', 'motorcycle', 'mountain climbing', 'movie business', 'movielens top pick', 'moving', 'mozart', 'mtv', 'multiple storylines', 'mummy', 'muppets', 'murder', 'murder mystery', 'music', 'music business', 'musical', 'musicians', 'mutants', 'mystery', 'mythology', 'narrated', 'nasa', 'native americans', 'natural disaster', 'nature', 'nazi', 'nazis', 'neil gaiman', 'neo-nazis', 'neo-noir', 'nerds', 'new jersey', 'new orleans', 'new york', 'new york city', 'new zealand', 'ninja', 'no dialogue', 'no plot', 'nocturnal', 'noir', 'noir thriller', 'non-hollywood ending', 'non-linear', 'nonlinear', 'nostalgia', 'nostalgic', 'not as good as the first', 'not funny', 'notable nudity', 'notable soundtrack', 'nuclear', 'nuclear bomb', 'nuclear war', 'nudity', 'nudity (full frontal - brief)', 'nudity (full frontal - notable)', 'nudity (full frontal)', 'nudity (rear)', 'nudity (topless - brief)', 'nudity (topless - notable)', 'nudity (topless)', 'obsession', 'ocean', 'off-beat comedy', 'office', 'oil', 'olympics', 'ominous', 'opera', 'organized crime', 'original', 'original plot', 'orphans', 'oscar', 'oscar (best actor)', 'oscar (best actress)', 'oscar (best animated feature)', 'oscar (best cinematography)', 'oscar (best directing)', 'oscar (best editing)', 'oscar (best effects - visual effects)', 'oscar (best foreign language film)', 'oscar (best music - original score)', 'oscar (best music - original song)', 'oscar (best picture)', 'oscar (best sound)', 'oscar (best supporting actor)', 'oscar (best supporting actress)', 'oscar (best writing - screenplay written directly for the screen)', 'oscar winner', 'over the top', 'overrated', 'palestine', 'parallel universe', 'paranoia', 'paranoid', 'parenthood', 'paris', 'parody', 'passionate', 'penguins', 'perfect', 'period piece', 'peter pan', 'pg', 'pg-13', 'philip k. dick', 'philosophical', 'philosophy', 'photographer', 'photography', 'pigs', 'pirates', 'pixar', 'pixar animation', 'plot', 'plot holes', 'plot twist', 'poetry', 'poignant', 'pointless', 'poker', 'poland', 'police', 'police corruption', 'police investigation', 'political', 'political corruption', 'politics', 'pornography', 'post apocalyptic', 'post-apocalyptic', 'potential oscar nom', 'poverty', 'powerful ending', 'predictable', 'pregnancy', 'prejudice', 'prequel', 'president', 'pretentious', 'prison', 'prison escape', 'private detective', 'product placement', 'prohibition', 'propaganda', 'prostitution', 'psychedelic', 'psychiatrist', 'psychiatry', 'psychological', 'psychology', 'pulp', 'punk', 'puppets', 'queer', 'quirky', 'quotable', 'rabbits', 'race', 'race issues', 'racing', 'racism', 'radio', 'rags to riches', 'rape', 'rats', 'realistic', 'realistic action', 'reality tv', 'rebellion', 'redemption', 'reflective', 'relationships', 'religion', 'remade', 'remake', 'revenge', 'revolution', 'ridiculous', 'rio de janeiro', 'road movie', 'road trip', 'roald dahl', 'robbery', 'robert downey jr', 'robert ludlum', 'robot', 'robots', 'rock and roll', 'romance', 'romantic', 'romantic comedy', 'rome', 'runaway', 'russia', 'russian', 'sacrifice', 'sad', 'sad but good', 'samurai', 'san francisco', 'sappy', 'sarcasm', 'satire', 'satirical', 'saturday night live', 'saturn award (best science fiction film)', 'saturn award (best special effects)', 'scary', 'scenic', 'schizophrenia', 'school', 'sci fi', 'sci-fi', 'science', 'science fiction', 'scifi', 'scifi cult', 'scotland', 'screwball', 'screwball comedy', 'script', 'secret service', 'secrets', 'segregation', 'self discovery', 'sentimental', 'sequel', 'sequels', 'serial killer', 'series', 'sex', 'sex comedy', 'sexual', 'sexual abuse', 'sexuality', 'sexualized violence', 'sexy', 'shakespeare', 'shallow', 'shark', 'shopping', 'short', 'short-term memory loss', 'silent', 'silly', 'silly fun', 'simple', 'single father', 'sisters', 'skinhead', 'slackers', 'slapstick', 'slasher', 'slavery', 'slow', 'slow paced', 'small town', 'snakes', \"so bad it's funny\", \"so bad it's good\", 'soccer', 'social commentary', 'solitude', 'sophia coppola', 'south africa', 'south america', 'southern theme', 'space', 'space opera', 'space program', 'space travel', 'spaghetti western', 'spain', 'spanish', 'spanish civil war', 'special', 'special effects', 'spelling bee', 'spiders', 'spielberg', 'spies', 'splatter', 'spock', 'spoof', 'sports', 'spy', 'spying', 'stage magic', 'stand-up comedy', 'star trek', 'star wars', 'steampunk', 'stereotypes', 'stoner movie', 'stop motion', 'stop-motion', 'story', 'storytelling', 'stranded', 'strange', 'strippers', 'studio ghibli', 'stunning', 'stupid', 'stupid as hell', 'stupidity', 'stylish', 'stylized', 'submarine', 'suburbia', 'suicide', 'suicide attempt', 'super hero', 'super-hero', 'superhero', 'superheroes', 'supernatural', 'suprisingly clever', 'surfing', 'surprise ending', 'surreal', 'surrealism', 'surveillance', 'survival', 'suspense', 'suspenseful', 'swashbuckler', 'swedish', 'sweet', 'switching places', 'sword fight', 'sword fighting', 'talking animals', 'talky', 'tarantino', 'teacher', 'tear jerker', 'technology', 'teen', 'teen movie', 'teenager', 'teenagers', 'teens', 'teleportation', 'television', 'tense', 'terminal illness', 'terrorism', 'texas', 'thought-provoking', 'thriller', 'time', 'time loop', 'time travel', 'tokyo', 'tolkien', 'tom clancy', 'too long', 'too short', 'torture', 'touching', 'toys', 'tragedy', 'train', 'trains', 'transformation', 'transgender', 'travel', 'treasure', 'treasure hunt', 'tricky', 'trilogy', 'true story', 'truman capote', 'twist', 'twist ending', 'twists & turns', 'undercover cop', 'underdog', 'underrated', 'understated', 'underwater', 'unfunny', 'unintentionally funny', 'unique', 'united nations', 'unlikeable characters', 'unlikely friendships', 'unrealistic', 'unusual plot structure', 'us history', 'utopia', 'vampire', 'vampire human love', 'vampires', 'vengeance', 'very funny', 'very good', 'very interesting', 'video game', 'video game adaptation', 'video games', 'videogame', 'vienna', 'vietnam', 'vietnam war', 'view askew', 'vigilante', 'vigilantism', 'violence', 'violent', 'virginity', 'virtual reality', 'virus', 'visceral', 'visual', 'visually appealing', 'visually stunning', 'visuals', 'voodoo', 'voyeurism', 'war', 'war movie', 'wartime', 'waste of time', 'watch the credits', 'weapons', 'wedding', 'weed', 'weird', 'werewolf', 'werewolves', 'western', 'whimsical', 'wilderness', 'wine', 'wistful', 'witch', 'witches', 'witty', 'wizards', 'women', 'working class', 'workplace', 'world politics', 'world war i', 'world war ii', \"writer's life\", 'writers', 'writing', 'wuxia', 'wwii', 'zombie', 'zombies']\n"
     ]
    }
   ],
   "source": [
    "print(movies[1].tagsList)\n",
    "def calc_cosine(movieOne, movieTwo):\n",
    "\n",
    "    d_1 = 0\n",
    "    d_2 = 0\n",
    "    numerator = 0\n",
    "    for index in range(len(movieOne)):\n",
    "        numerator += movieOne[index] * movieTwo[index]\n",
    "        d_1 += movieOne[index] * movieOne[index]\n",
    "        d_2 += movieTwo[index] * movieTwo[index]\n",
    "\n",
    "    denominator = np.sqrt(d_1) * np.sqrt(d_2)\n",
    "    res = numerator / denominator\n",
    "    return res\n",
    "\n",
    "\n",
    "def jaccard_sim(movie1,movie2):\n",
    "    number_both=set(movie1).intersection(set(movie2))\n",
    "    number_oberservations_in_either = len(movie1)+len(movie2)-len(number_both)\n",
    "    similarity= float(len(number_both)) / number_oberservations_in_either\n",
    "    return similarity\n",
    "\n",
    "\n",
    "def GetTopTagsCosineSims(count, movies, query):\n",
    "\n",
    "    #empty\n",
    "    if query.tagsRelevance.count(0) == 1128:\n",
    "        return -1\n",
    "        \n",
    "    smiliarMovies = {}\n",
    "    simValues = []\n",
    "    for mID in movies:\n",
    "        if movies[mID].name == query.name or movies[mID].tagsRelevance.count(0) == 1128:\n",
    "            continue\n",
    "        sim = calc_cosine(movies[mID].tagsRelevance, query.tagsRelevance)\n",
    "        simValues.append(sim)\n",
    "        smiliarMovies[sim] = movies[mID].name\n",
    "\n",
    "    TopSimilar = {}\n",
    "\n",
    "\n",
    "    for i in range(count):\n",
    "        v = max(simValues)\n",
    "        TopSimilar[v] = smiliarMovies[v]\n",
    "        simValues.remove(v)\n",
    "    return TopSimilar\n",
    "\n",
    "def get_top_tags_jaccard_sims(count, movies, query):\n",
    "\n",
    "    if query.tagsRelevance.count(0) == 1128:\n",
    "        return -1\n",
    "\n",
    "    smiliar_movies = {}\n",
    "    sim_values = []\n",
    "    for mID in movies:\n",
    "        if movies[mID].name == query.name or movies[mID].tagsRelevance.count(0) == 1128:\n",
    "            continue\n",
    "        sim = jaccard_sim(movies[mID].tagsRelevance, query.tagsRelevance)\n",
    "        sim_values.append(sim)\n",
    "        smiliar_movies[sim] = movies[mID].name\n",
    "\n",
    "    top_similar = {}\n",
    "\n",
    "    sim_values.sort(reverse=True)\n",
    "\n",
    "    for i in range(count):\n",
    "        top_similar[sim_values[i]] = smiliar_movies[sim_values[i]]\n",
    "    return top_similar\n",
    "\n",
    "\n",
    "def PrintSimilarity(similarMovies):\n",
    "    if similarMovies != -1:\n",
    "        print(\"Query: \", query.name)\n",
    "        print(\"similar Movies: \")\n",
    "        count = 1\n",
    "        for sim in similarMovies:\n",
    "            print(count, similarMovies[sim] + \":\", sim)\n",
    "            count += 1\n",
    "    else:\n",
    "        print(\"Query deosn't have tags!\")\n"
   ]
  },
  {
   "cell_type": "markdown",
   "metadata": {
    "collapsed": false
   },
   "source": [
    "Get a sorted List with a given size depending on the count. Uses the Pearson Correlation Coefficient to calculate the tags similarity between movies."
   ]
  },
  {
   "cell_type": "code",
   "execution_count": 52,
   "metadata": {
    "collapsed": false
   },
   "outputs": [],
   "source": [
    "def calcPearsonCoefficient(movie, query):\n",
    "    correlation, _ = pearsonr(movie, query)\n",
    "    return correlation\n",
    "\n",
    "def GetTopTagsPearsonCorrelation(count, movies, query):\n",
    "\n",
    "    if query.tagsRelevance.count(0) == 1128:\n",
    "        return -1\n",
    "\n",
    "    similarity = dict()\n",
    "    for mID in movies:\n",
    "        if movies[mID].name == query.name or movies[mID].tagsRelevance.count(0) == 1128:\n",
    "            continue\n",
    "        sim = calcPearsonCoefficient(movies[mID].tagsRelevance, query.tagsRelevance)\n",
    "        similarity[movies[mID].name] = sim\n",
    "\n",
    "    top_movies = dict()\n",
    "    for key in sorted(similarity, key=similarity.get, reverse=True)[:count]:\n",
    "        top_movies[key] = similarity[key]\n",
    "\n",
    "    return top_movies\n",
    "\n",
    "def PrintPearsonCorrelation(similarMovies):\n",
    "    if similarMovies != -1:\n",
    "        print(\"\\nQuery: \", query.name)\n",
    "        print(\"similar Movies according to Pearson Correlation Coefficient: \")\n",
    "        for idx, movie_key in enumerate(similarMovies):\n",
    "            print(idx + 1, str(movie_key) + \" : \" + str(similarMovies[movie_key]))\n",
    "    else:\n",
    "        print(\"Query deosn't have tags!\")"
   ]
  },
  {
   "attachments": {},
   "cell_type": "markdown",
   "metadata": {},
   "source": [
    "**Create a query and get/prints the movies with similar tags**"
   ]
  },
  {
   "cell_type": "markdown",
   "metadata": {},
   "source": [
    "Uses the functions above to print the query result."
   ]
  },
  {
   "cell_type": "code",
   "execution_count": 53,
   "metadata": {},
   "outputs": [
    {
     "name": "stdout",
     "output_type": "stream",
     "text": [
      "Query:  Harry Potter and the Sorcerer's Stone (a.k.a. Harry Potter and the Philosopher's Stone) (2001)\n",
      "similar Movies: \n",
      "1 Harry Potter and the Chamber of Secrets (2002): 0.977978451828736\n",
      "2 Harry Potter and the Goblet of Fire (2005): 0.9697791461817978\n",
      "3 Harry Potter and the Prisoner of Azkaban (2004): 0.9688240598617508\n",
      "4 Harry Potter and the Order of the Phoenix (2007): 0.9637341256626571\n",
      "5 Harry Potter and the Deathly Hallows: Part 1 (2010): 0.9437881725876737\n",
      "6 Harry Potter and the Half-Blood Prince (2009): 0.9437512850141854\n",
      "7 Harry Potter and the Deathly Hallows: Part 2 (2011): 0.9359784057024187\n",
      "8 Chronicles of Narnia: The Lion, the Witch and the Wardrobe, The (2005): 0.8976148003424176\n",
      "9 Spiderwick Chronicles, The (2008): 0.8844944457999436\n",
      "10 Chronicles of Narnia: Prince Caspian, The (2008): 0.8802772014082358\n",
      "Query:  Harry Potter and the Sorcerer's Stone (a.k.a. Harry Potter and the Philosopher's Stone) (2001)\n",
      "similar Movies: \n",
      "1 Bird Box (2018): 0.2\n",
      "2 The Hustle (2019): 0.19936204146730463\n",
      "3 A Wrinkle in Time (2018): 0.19872476089266738\n",
      "4 Summer of 84 (2018): 0.1980881571959639\n",
      "5 Death Note Rewrite: Genshisuru Kami (2007): 0.19745222929936307\n",
      "6 Murder on the Orient Express (2017): 0.19618239660657477\n",
      "\n",
      "Query:  Harry Potter and the Sorcerer's Stone (a.k.a. Harry Potter and the Philosopher's Stone) (2001)\n",
      "similar Movies according to Pearson Correlation Coefficient: \n",
      "1 Harry Potter and the Chamber of Secrets (2002) : 0.9681462276013315\n",
      "2 Harry Potter and the Goblet of Fire (2005) : 0.9556747131508766\n",
      "3 Harry Potter and the Prisoner of Azkaban (2004) : 0.9538342215071711\n",
      "4 Harry Potter and the Order of the Phoenix (2007) : 0.9473326251234182\n",
      "5 Harry Potter and the Half-Blood Prince (2009) : 0.9177768864808546\n",
      "6 Harry Potter and the Deathly Hallows: Part 1 (2010) : 0.9170932300981532\n",
      "7 Harry Potter and the Deathly Hallows: Part 2 (2011) : 0.9047565933587378\n",
      "8 Chronicles of Narnia: The Lion, the Witch and the Wardrobe, The (2005) : 0.8474966884821409\n",
      "9 Spiderwick Chronicles, The (2008) : 0.8314586849346502\n",
      "10 Chronicles of Narnia: Prince Caspian, The (2008) : 0.8247042251381136\n"
     ]
    }
   ],
   "source": [
    "query = movies[4896]\n",
    "count = 10\n",
    "\n",
    "similarMovies = GetTopTagsCosineSims(count, movies, query)\n",
    "PrintSimilarity(similarMovies)\n",
    "\n",
    "similar_movies_with_jaccard = get_top_tags_jaccard_sims(count, movies, query)\n",
    "PrintSimilarity(similar_movies_with_jaccard)\n",
    "\n",
    "similarPearsonMovies = GetTopTagsPearsonCorrelation(count, movies, query)\n",
    "PrintPearsonCorrelation(similarPearsonMovies)\n"
   ]
  },
  {
   "attachments": {},
   "cell_type": "markdown",
   "metadata": {},
   "source": [
    "# Fuzzy Title Matching - Levenshtein\n",
    "\n",
    "Fuzzy matches the given title against all movie titles using the levenshtein distance"
   ]
  },
  {
   "cell_type": "code",
   "execution_count": 11,
   "metadata": {},
   "outputs": [
    {
     "name": "stdout",
     "output_type": "stream",
     "text": [
      "('Star Trek III: The Search for Spock (1984)', 79)\n"
     ]
    }
   ],
   "source": [
    "def fuzzyMatch(movies, user_title):\n",
    "    movie_titles = [movies[mID].name for mID in movies]\n",
    "    return process.extractOne(user_title, movie_titles, scorer=fuzz.partial_ratio)\n",
    "\n",
    "matched_title = fuzzyMatch(movies, \"Serch fo Spick\")\n",
    "print(matched_title)"
   ]
  },
  {
   "attachments": {},
   "cell_type": "markdown",
   "metadata": {},
   "source": [
    "# User Struct\n",
    "\n",
    "A struct that contains the user ratings and also the tags the user choosed for a movie."
   ]
  },
  {
   "cell_type": "code",
   "execution_count": 12,
   "metadata": {},
   "outputs": [],
   "source": [
    "class User:\n",
    "    def __init__(self, id):\n",
    "        self.id = id\n",
    "        self.movieRatings = {}\n",
    "        self.movieTags = {}\n",
    "        self.genomMovieTags = {}\n",
    "    \n",
    "    def AddRating(self, movie, rating):\n",
    "        self.movieRatings[movie] = rating\n",
    "    \n",
    "    def AddTags(self, movie, tag):\n",
    "        if movie not in self.movieTags:\n",
    "            self.movieTags[movie] = []\n",
    "        self.movieTags[movie].append(tag)\n",
    "\n",
    "    def UpdateGenomTags(self, lookUpTableGenom):\n",
    "        for movie in self.movieTags:\n",
    "            inside = list()\n",
    "            for tag in self.movieTags[movie]:\n",
    "                for values in lookUpTags:\n",
    "                    if lookUpTags[values] == tag:\n",
    "                        inside.append(values)\n",
    "                        \n",
    "            self.genomMovieTags[movie] = inside\n"
   ]
  },
  {
   "attachments": {},
   "cell_type": "markdown",
   "metadata": {},
   "source": [
    "**Creates a list in User with every movie ranked by the User the calculates the generel movie ratings**"
   ]
  },
  {
   "attachments": {},
   "cell_type": "markdown",
   "metadata": {},
   "source": [
    "takes 5 minutes..."
   ]
  },
  {
   "cell_type": "code",
   "execution_count": 13,
   "metadata": {},
   "outputs": [],
   "source": [
    "# userId,movieId,rating,timestamp\n",
    "def CreateUsers(allMovies):\n",
    "    ratings = pd.read_csv('ratings.csv')\n",
    "    UserDic = {}\n",
    "    userId = -1\n",
    "\n",
    "    for i in range(len(ratings)):\n",
    "        movie = allMovies[ratings['movieId'][i]]\n",
    "        userID = ratings['userId'][i]\n",
    "        ratingsRow = ratings['rating'][i]\n",
    "\n",
    "        if userID != userId:\n",
    "            userId = userID\n",
    "            newUser = User(userId)      \n",
    "            UserDic[newUser.id] = newUser\n",
    "\n",
    "        newUser.AddRating(movie, ratingsRow)\n",
    "        movie.AddRatingCount(ratingsRow)\n",
    "    return UserDic\n",
    "\n",
    "users = CreateUsers(movies)\n"
   ]
  },
  {
   "cell_type": "code",
   "execution_count": 14,
   "metadata": {},
   "outputs": [
    {
     "name": "stdout",
     "output_type": "stream",
     "text": [
      "Harry Potter and the Sorcerer's Stone (a.k.a. Harry Potter and the Philosopher's Stone) (2001)\n",
      "Movie Rating: 3.678158491145853\n",
      "Random User Rating:  4.0\n"
     ]
    }
   ],
   "source": [
    "# 7045,4896,4.0\n",
    "print(movies[4896].name)\n",
    "print(\"Movie Rating:\", movies[4896].rating)\n",
    "print(\"Random User Rating: \", users[7045].movieRatings[movies[4896]])\n"
   ]
  },
  {
   "attachments": {},
   "cell_type": "markdown",
   "metadata": {},
   "source": [
    "**Addind tags that user rated on movies (not every rated movie has a tag vice versa)**"
   ]
  },
  {
   "cell_type": "code",
   "execution_count": 15,
   "metadata": {},
   "outputs": [],
   "source": [
    "#userId,movieId,tag,timestamp\n",
    "def UserDefinedTag(allUsers, movies):\n",
    "    userTags = pd.read_csv('tags.csv')\n",
    "\n",
    "    activeUser = allUsers[userTags['userId'][0]]\n",
    "    \n",
    "    movie = movies[userTags['movieId'][0]]\n",
    "    for i in range(len(userTags)):\n",
    "        if activeUser.id != userTags['userId'][i]:\n",
    "            activeUser = allUsers[userTags['userId'][i]]\n",
    "\n",
    "        if movie.id != userTags['movieId'][i]:\n",
    "            movie = movies[userTags['movieId'][i]]\n",
    "\n",
    "        activeUser.AddTags(movie, userTags['tag'][i])\n",
    "       \n",
    "UserDefinedTag(users, movies) \n"
   ]
  },
  {
   "attachments": {},
   "cell_type": "markdown",
   "metadata": {},
   "source": [
    "**Adding the Genom tags in numerical form**"
   ]
  },
  {
   "cell_type": "code",
   "execution_count": 16,
   "metadata": {},
   "outputs": [],
   "source": [
    "def SetGenomTags(allUsers):\n",
    "    for userId in allUsers:\n",
    "        allUsers[userId].UpdateGenomTags(lookUpTags)\n",
    "\n",
    "SetGenomTags(users)"
   ]
  },
  {
   "attachments": {},
   "cell_type": "markdown",
   "metadata": {},
   "source": [
    "# !!! Important !!!"
   ]
  },
  {
   "attachments": {},
   "cell_type": "markdown",
   "metadata": {},
   "source": [
    "**There are some Userdefined tags that arent in the 1128 tags** Example [Hayao Miyazaki,Miyazaki]"
   ]
  },
  {
   "attachments": {},
   "cell_type": "markdown",
   "metadata": {},
   "source": [
    "Should we create a new Table for all Tags? Or should we just change them into numbers and only work with the 1128 table?"
   ]
  },
  {
   "cell_type": "code",
   "execution_count": 17,
   "metadata": {},
   "outputs": [
    {
     "name": "stdout",
     "output_type": "stream",
     "text": [
      "Genres: ['adventure', 'anime', 'ecology', 'fantasy', 'Hayao Miyazaki', 'Miyazaki', 'post-apocalyptic']\n",
      "Inside: ['adventure', 'anime', 'ecology', 'fantasy', 'post-apocalyptic']\n",
      "Inside (numeric): [29, 65, 342, 377, 803]\n",
      "Not inside: ['Miyazaki', 'Hayao Miyazaki']\n",
      "Genom Tags(inside): [29, 65, 342, 377, 803]\n"
     ]
    }
   ],
   "source": [
    "# print(\"Movie:\", movies[7099].name)\n",
    "\n",
    "def CheckIfInLoopUpTable(genresToCheck):\n",
    "    inside = list()\n",
    "    keys = []\n",
    "    for item in genresToCheck:\n",
    "        for values in lookUpTags:\n",
    "            if lookUpTags[values] == item:\n",
    "                inside.append(item)\n",
    "                keys.append(values)\n",
    "\n",
    "    outside = list(set(genresToCheck) - set(inside))\n",
    "    print(\"Genres:\", genresToCheck)\n",
    "    print(\"Inside:\", inside)\n",
    "    print(\"Inside (numeric):\", keys)\n",
    "    print(\"Not inside:\", outside)\n",
    "    return inside\n",
    "\n",
    "CheckIfInLoopUpTable(list(users[19].movieTags[movies[7099]]))\n",
    "print(\"Genom Tags(inside):\", users[19].genomMovieTags[movies[7099]])"
   ]
  },
  {
   "cell_type": "markdown",
   "metadata": {},
   "source": [
    "# TODOS\n",
    "* search depending on tags\n",
    "* search depending on title similarity with than searches for a similar movie\n",
    "* seach query for getting ranking based best movie in specific genre (There are 19 genres (readme)!!)\n",
    "* beim ML teil können wir die filme die ein User gerated hat und ein genom tag haben aufteilen in test und training und predicten wie der score sein soll\n",
    "* jaccard similarity machen mit tags (brauchen die tags zu den einzelnen filmen) und dann 0 oder 1.\n",
    "* Powerpoint presentation machen"
   ]
  },
  {
   "cell_type": "markdown",
   "source": [
    "User can insert genome tags and get movie recommendations as a result"
   ],
   "metadata": {
    "collapsed": false
   }
  },
  {
   "cell_type": "code",
   "execution_count": 40,
   "metadata": {},
   "outputs": [
    {
     "name": "stdout",
     "output_type": "stream",
     "text": [
      "{'007': <__main__.Tags object at 0x000002B4B735AFB0>, '007 (series)': <__main__.Tags object at 0x000002B4B735B280>, '18th century': <__main__.Tags object at 0x000002B4B735A740>, '1920s': <__main__.Tags object at 0x000002B4B735BCD0>, '1930s': <__main__.Tags object at 0x000002B4B735A5F0>, '1950s': <__main__.Tags object at 0x000002B4B735AF80>, '1960s': <__main__.Tags object at 0x000002B4B735A770>, '1970s': <__main__.Tags object at 0x000002B4B735A830>, '1980s': <__main__.Tags object at 0x000002B4B735AFE0>, '19th century': <__main__.Tags object at 0x000002B4B735A7D0>, '3d': <__main__.Tags object at 0x000002B4B735A320>, '70mm': <__main__.Tags object at 0x000002B4B735B490>, '80s': <__main__.Tags object at 0x000002B4B67D37C0>, '9/11': <__main__.Tags object at 0x000002B4B67D2F20>, 'aardman': <__main__.Tags object at 0x000002B4B67D3610>, 'aardman studios': <__main__.Tags object at 0x000002B4B67D2EF0>, 'abortion': <__main__.Tags object at 0x000002B4B67D3BB0>, 'absurd': <__main__.Tags object at 0x000002B4B67D3C70>, 'action': <__main__.Tags object at 0x000002B4B5EADA20>, 'action packed': <__main__.Tags object at 0x000002B4B5EAD9F0>, 'adaptation': <__main__.Tags object at 0x000002B4B5EAC6A0>, 'adapted from:book': <__main__.Tags object at 0x000002B4B5EAC700>, 'adapted from:comic': <__main__.Tags object at 0x000002B4B5EADCC0>, 'adapted from:game': <__main__.Tags object at 0x000002B4B686B730>, 'addiction': <__main__.Tags object at 0x000002B4B686B9A0>, 'adolescence': <__main__.Tags object at 0x000002B4B686BCA0>, 'adoption': <__main__.Tags object at 0x000002B4B686BEE0>, 'adultery': <__main__.Tags object at 0x000002B4B6868730>, 'adventure': <__main__.Tags object at 0x000002B4B686BEB0>, 'affectionate': <__main__.Tags object at 0x000002B4B686B970>, 'afi 100': <__main__.Tags object at 0x000002B4B686BE20>, 'afi 100 (laughs)': <__main__.Tags object at 0x000002B4B6868190>, 'afi 100 (movie quotes)': <__main__.Tags object at 0x000002B4B686B130>, 'africa': <__main__.Tags object at 0x000002B4B686B100>, 'afterlife': <__main__.Tags object at 0x000002B4B686B490>, 'aging': <__main__.Tags object at 0x000002B4B686B880>, 'aids': <__main__.Tags object at 0x000002B4B686BC70>, 'airplane': <__main__.Tags object at 0x000002B4B686B6D0>, 'airport': <__main__.Tags object at 0x000002B4B686B3D0>, 'alaska': <__main__.Tags object at 0x000002B4B686B400>, 'alcatraz': <__main__.Tags object at 0x000002B4B686B700>, 'alcoholism': <__main__.Tags object at 0x000002B4B6868250>, 'alien': <__main__.Tags object at 0x000002B4B686B940>, 'alien invasion': <__main__.Tags object at 0x000002B4B686B430>, 'aliens': <__main__.Tags object at 0x000002B4B686BC10>, 'allegory': <__main__.Tags object at 0x000002B4B68693F0>, 'almodovar': <__main__.Tags object at 0x000002B4B6869330>, 'alone in the world': <__main__.Tags object at 0x000002B4B686BE50>, 'alter ego': <__main__.Tags object at 0x000002B4B686B790>, 'alternate endings': <__main__.Tags object at 0x000002B4B686B5E0>, 'alternate history': <__main__.Tags object at 0x000002B4B686B8B0>, 'alternate reality': <__main__.Tags object at 0x000002B4B6868490>, 'alternate universe': <__main__.Tags object at 0x000002B4B686B3A0>, 'amazing cinematography': <__main__.Tags object at 0x000002B4B686B550>, 'amazing photography': <__main__.Tags object at 0x000002B4B6869CF0>, 'american civil war': <__main__.Tags object at 0x000002B4B6869360>, 'amnesia': <__main__.Tags object at 0x000002B4B686B0D0>, 'amy smart': <__main__.Tags object at 0x000002B4B6869390>, 'android(s)/cyborg(s)': <__main__.Tags object at 0x000002B4B6868FA0>, 'androids': <__main__.Tags object at 0x000002B4B68694E0>, 'animal movie': <__main__.Tags object at 0x000002B4B686B160>, 'animals': <__main__.Tags object at 0x000002B4B68693C0>, 'animated': <__main__.Tags object at 0x000002B4B6869450>, 'animation': <__main__.Tags object at 0x000002B4B68681F0>, 'anime': <__main__.Tags object at 0x000002B4B686B4C0>, 'antarctica': <__main__.Tags object at 0x000002B4B686B9D0>, 'anti-hero': <__main__.Tags object at 0x000002B4B686B4F0>, 'anti-semitism': <__main__.Tags object at 0x000002B4B686B070>, 'anti-war': <__main__.Tags object at 0x000002B4B686BA30>, 'apocalypse': <__main__.Tags object at 0x000002B4B68691B0>, 'archaeology': <__main__.Tags object at 0x000002B4B686B760>, 'argentina': <__main__.Tags object at 0x000002B4B5FB7070>, 'arms dealer': <__main__.Tags object at 0x000002B4B5FB72B0>, 'arnold': <__main__.Tags object at 0x000002B4B5FB7400>, 'art': <__main__.Tags object at 0x000002B4B5FB7490>, 'art house': <__main__.Tags object at 0x000002B4B5FB45B0>, 'artificial intelligence': <__main__.Tags object at 0x000002B4B5FB4670>, 'artist': <__main__.Tags object at 0x000002B4B5FB71F0>, 'artistic': <__main__.Tags object at 0x000002B4B5FB6DA0>, 'artsy': <__main__.Tags object at 0x000002B4B5FB6EF0>, 'assassin': <__main__.Tags object at 0x000002B4B5FB44C0>, 'assassination': <__main__.Tags object at 0x000002B4B5FB4FA0>, 'assassins': <__main__.Tags object at 0x000002B4B5FB47F0>, 'astronauts': <__main__.Tags object at 0x000002B4B5FB4580>, 'atheism': <__main__.Tags object at 0x000002B4B5FB5930>, 'atmospheric': <__main__.Tags object at 0x000002B4B5FB4AC0>, 'australia': <__main__.Tags object at 0x000002B4B5FB44F0>, 'australian': <__main__.Tags object at 0x000002B4B5FB5CC0>, 'author:alan moore': <__main__.Tags object at 0x000002B4B5FB5870>, 'author:neil gaiman': <__main__.Tags object at 0x000002B4B5FB5540>, 'autism': <__main__.Tags object at 0x000002B4B74A1CF0>, 'aviation': <__main__.Tags object at 0x000002B4B74A0CD0>, 'awesome': <__main__.Tags object at 0x000002B4B74A0370>, 'awesome soundtrack': <__main__.Tags object at 0x000002B4B74A1ED0>, 'awful': <__main__.Tags object at 0x000002B4B74A1F60>, 'bad': <__main__.Tags object at 0x000002B4B74A1E40>, 'bad acting': <__main__.Tags object at 0x000002B4B74A1690>, 'bad cgi': <__main__.Tags object at 0x000002B4B74A1450>, 'bad ending': <__main__.Tags object at 0x000002B4B74A0400>, 'bad plot': <__main__.Tags object at 0x000002B4B74A0CA0>, 'bad science': <__main__.Tags object at 0x000002B4B74A1BA0>, 'bad script': <__main__.Tags object at 0x000002B4B74A1060>, 'bad sequel': <__main__.Tags object at 0x000002B4B74A10F0>, 'ballet': <__main__.Tags object at 0x000002B4B74A13F0>, 'bank robbery': <__main__.Tags object at 0x000002B4B74A0C40>, 'baseball': <__main__.Tags object at 0x000002B4B74A1A20>, 'based on a book': <__main__.Tags object at 0x000002B4B74A0130>, 'based on a comic': <__main__.Tags object at 0x000002B4B74A0BB0>, 'based on a play': <__main__.Tags object at 0x000002B4B74A1090>, 'based on a true story': <__main__.Tags object at 0x000002B4B74A0F70>, 'based on a tv show': <__main__.Tags object at 0x000002B4B74A0490>, 'based on a video game': <__main__.Tags object at 0x000002B4B74A1300>, 'based on book': <__main__.Tags object at 0x000002B4B74A14E0>, 'based on comic': <__main__.Tags object at 0x000002B4B74A0D60>, 'based on true story': <__main__.Tags object at 0x000002B4B74A14B0>, 'basketball': <__main__.Tags object at 0x000002B4B74A0BE0>, 'batman': <__main__.Tags object at 0x000002B4B74A1FF0>, 'bdsm': <__main__.Tags object at 0x000002B4B74A1540>, 'beatles': <__main__.Tags object at 0x000002B4B74A0220>, 'beautiful': <__main__.Tags object at 0x000002B4B74A1270>, 'beautiful scenery': <__main__.Tags object at 0x000002B4B74A0A90>, 'beautifully filmed': <__main__.Tags object at 0x000002B4B74A0D30>, 'beauty pageant': <__main__.Tags object at 0x000002B4B74A0AC0>, 'beer': <__main__.Tags object at 0x000002B4B74A0E20>, 'berlin': <__main__.Tags object at 0x000002B4B74A1030>, 'best of 2005': <__main__.Tags object at 0x000002B4B74A0D90>, 'best war films': <__main__.Tags object at 0x000002B4B74A0FD0>, 'betrayal': <__main__.Tags object at 0x000002B4B74A0B50>, 'better than expected': <__main__.Tags object at 0x000002B4B74A10C0>, 'better than the american version': <__main__.Tags object at 0x000002B4B7490040>, 'biblical': <__main__.Tags object at 0x000002B4B74900A0>, 'big budget': <__main__.Tags object at 0x000002B4B7490100>, 'biographical': <__main__.Tags object at 0x000002B4B7490160>, 'biography': <__main__.Tags object at 0x000002B4B74901C0>, 'biopic': <__main__.Tags object at 0x000002B4B7490220>, 'birds': <__main__.Tags object at 0x000002B4B7490280>, 'biting': <__main__.Tags object at 0x000002B4B74902E0>, 'bittersweet': <__main__.Tags object at 0x000002B4B7490340>, 'bizarre': <__main__.Tags object at 0x000002B4B74903A0>, 'black and white': <__main__.Tags object at 0x000002B4B7490400>, 'black comedy': <__main__.Tags object at 0x000002B4B7490460>, 'blaxploitation': <__main__.Tags object at 0x000002B4B74904C0>, 'bleak': <__main__.Tags object at 0x000002B4B7490520>, 'blindness': <__main__.Tags object at 0x000002B4B7490580>, 'blood': <__main__.Tags object at 0x000002B4B74905E0>, 'bloody': <__main__.Tags object at 0x000002B4B7490640>, 'boarding school': <__main__.Tags object at 0x000002B4B74906A0>, 'boat': <__main__.Tags object at 0x000002B4B7490700>, 'bollywood': <__main__.Tags object at 0x000002B4B7490760>, 'bombs': <__main__.Tags object at 0x000002B4B74907C0>, 'bond': <__main__.Tags object at 0x000002B4B7490820>, 'book': <__main__.Tags object at 0x000002B4B7490880>, 'book was better': <__main__.Tags object at 0x000002B4B74908E0>, 'books': <__main__.Tags object at 0x000002B4B7490940>, 'boring': <__main__.Tags object at 0x000002B4B74909A0>, 'boring!': <__main__.Tags object at 0x000002B4B7490A00>, 'boston': <__main__.Tags object at 0x000002B4B7490A60>, 'bowling': <__main__.Tags object at 0x000002B4B7490AC0>, 'boxing': <__main__.Tags object at 0x000002B4B7490B20>, 'brainwashing': <__main__.Tags object at 0x000002B4B7490B80>, 'brazil': <__main__.Tags object at 0x000002B4B7490BE0>, 'breathtaking': <__main__.Tags object at 0x000002B4B7490C40>, 'brilliant': <__main__.Tags object at 0x000002B4B7490CA0>, 'british': <__main__.Tags object at 0x000002B4B7490D00>, 'british comedy': <__main__.Tags object at 0x000002B4B7490D60>, 'broadway': <__main__.Tags object at 0x000002B4B7490DC0>, 'brothers': <__main__.Tags object at 0x000002B4B7490E20>, 'brutal': <__main__.Tags object at 0x000002B4B7490E80>, 'brutality': <__main__.Tags object at 0x000002B4B7490EE0>, 'buddy movie': <__main__.Tags object at 0x000002B4B7490F40>, 'bullshit history': <__main__.Tags object at 0x000002B4B7490FA0>, 'bullying': <__main__.Tags object at 0x000002B4B7491000>, 'business': <__main__.Tags object at 0x000002B4B7491060>, 'c.s. lewis': <__main__.Tags object at 0x000002B4B74910C0>, 'california': <__main__.Tags object at 0x000002B4B7491120>, 'camp': <__main__.Tags object at 0x000002B4B7491180>, 'campy': <__main__.Tags object at 0x000002B4B74911E0>, 'canada': <__main__.Tags object at 0x000002B4B7491240>, 'cancer': <__main__.Tags object at 0x000002B4B74912A0>, 'cannibalism': <__main__.Tags object at 0x000002B4B7491300>, 'caper': <__main__.Tags object at 0x000002B4B7491360>, 'capitalism': <__main__.Tags object at 0x000002B4B74913C0>, 'car chase': <__main__.Tags object at 0x000002B4B7491420>, 'carrie-anne moss': <__main__.Tags object at 0x000002B4B7491480>, 'cars': <__main__.Tags object at 0x000002B4B74914E0>, 'cartoon': <__main__.Tags object at 0x000002B4B7491540>, 'casino': <__main__.Tags object at 0x000002B4B74915A0>, 'catastrophe': <__main__.Tags object at 0x000002B4B7491600>, 'cathartic': <__main__.Tags object at 0x000002B4B7491660>, 'catholicism': <__main__.Tags object at 0x000002B4B74916C0>, 'censorship': <__main__.Tags object at 0x000002B4B7491720>, 'cerebral': <__main__.Tags object at 0x000002B4B7491780>, 'cgi': <__main__.Tags object at 0x000002B4B74917E0>, 'character study': <__main__.Tags object at 0x000002B4B7491840>, 'chase': <__main__.Tags object at 0x000002B4B74918A0>, 'cheating': <__main__.Tags object at 0x000002B4B7491900>, 'cheerleading': <__main__.Tags object at 0x000002B4B7491960>, 'cheesy': <__main__.Tags object at 0x000002B4B74919C0>, 'chess': <__main__.Tags object at 0x000002B4B7491A20>, 'chicago': <__main__.Tags object at 0x000002B4B7491A80>, 'chick flick': <__main__.Tags object at 0x000002B4B7491AE0>, 'child abuse': <__main__.Tags object at 0x000002B4B7491B40>, 'childhood': <__main__.Tags object at 0x000002B4B7491BA0>, 'children': <__main__.Tags object at 0x000002B4B7491C00>, 'china': <__main__.Tags object at 0x000002B4B7491C60>, 'chocolate': <__main__.Tags object at 0x000002B4B7491CC0>, 'chris tucker': <__main__.Tags object at 0x000002B4B7491D20>, 'christian': <__main__.Tags object at 0x000002B4B7491D80>, 'christianity': <__main__.Tags object at 0x000002B4B7491DE0>, 'christmas': <__main__.Tags object at 0x000002B4B7491E40>, 'cia': <__main__.Tags object at 0x000002B4B7491EA0>, 'cinematography': <__main__.Tags object at 0x000002B4B7491F00>, 'circus': <__main__.Tags object at 0x000002B4B7491F60>, 'civil war': <__main__.Tags object at 0x000002B4B7491FC0>, 'classic': <__main__.Tags object at 0x000002B4B7492020>, 'classic car': <__main__.Tags object at 0x000002B4B7492080>, 'classical music': <__main__.Tags object at 0x000002B4B74920E0>, 'claustrophobic': <__main__.Tags object at 0x000002B4B7492140>, 'claymation': <__main__.Tags object at 0x000002B4B74921A0>, 'clever': <__main__.Tags object at 0x000002B4B7492200>, 'clones': <__main__.Tags object at 0x000002B4B7492260>, 'cloning': <__main__.Tags object at 0x000002B4B74922C0>, 'clowns': <__main__.Tags object at 0x000002B4B7492320>, 'coen bros': <__main__.Tags object at 0x000002B4B7492380>, 'coen brothers': <__main__.Tags object at 0x000002B4B74923E0>, 'cold war': <__main__.Tags object at 0x000002B4B7492440>, 'college': <__main__.Tags object at 0x000002B4B74924A0>, 'colonialism': <__main__.Tags object at 0x000002B4B7492500>, 'colourful': <__main__.Tags object at 0x000002B4B7492560>, 'comedy': <__main__.Tags object at 0x000002B4B74925C0>, 'comic': <__main__.Tags object at 0x000002B4B7492620>, 'comic book': <__main__.Tags object at 0x000002B4B7492680>, 'comic book adaption': <__main__.Tags object at 0x000002B4B74926E0>, 'comics': <__main__.Tags object at 0x000002B4B7492740>, 'coming of age': <__main__.Tags object at 0x000002B4B74927A0>, 'coming-of-age': <__main__.Tags object at 0x000002B4B7492800>, 'communism': <__main__.Tags object at 0x000002B4B7492860>, 'compassionate': <__main__.Tags object at 0x000002B4B74928C0>, 'competition': <__main__.Tags object at 0x000002B4B7492920>, 'complex': <__main__.Tags object at 0x000002B4B7492980>, 'complex characters': <__main__.Tags object at 0x000002B4B74929E0>, 'complicated': <__main__.Tags object at 0x000002B4B7492A40>, 'complicated plot': <__main__.Tags object at 0x000002B4B7492AA0>, 'computer animation': <__main__.Tags object at 0x000002B4B7492B00>, 'computer game': <__main__.Tags object at 0x000002B4B7492B60>, 'computers': <__main__.Tags object at 0x000002B4B7492BC0>, 'con artists': <__main__.Tags object at 0x000002B4B7492C20>, 'con men': <__main__.Tags object at 0x000002B4B7492C80>, 'confrontational': <__main__.Tags object at 0x000002B4B7492CE0>, 'confusing': <__main__.Tags object at 0x000002B4B7492D40>, 'conspiracy': <__main__.Tags object at 0x000002B4B7492DA0>, 'conspiracy theory': <__main__.Tags object at 0x000002B4B7492E00>, 'controversial': <__main__.Tags object at 0x000002B4B7492E60>, 'cooking': <__main__.Tags object at 0x000002B4B7492EC0>, 'cool': <__main__.Tags object at 0x000002B4B7492F20>, 'corny': <__main__.Tags object at 0x000002B4B7492F80>, 'corporate america': <__main__.Tags object at 0x000002B4B7492FE0>, 'corruption': <__main__.Tags object at 0x000002B4B7493040>, 'costume drama': <__main__.Tags object at 0x000002B4B74930A0>, 'courage': <__main__.Tags object at 0x000002B4B7493100>, 'court': <__main__.Tags object at 0x000002B4B7493160>, 'courtroom': <__main__.Tags object at 0x000002B4B74931C0>, 'courtroom drama': <__main__.Tags object at 0x000002B4B7493220>, 'crappy sequel': <__main__.Tags object at 0x000002B4B7493280>, 'crazy': <__main__.Tags object at 0x000002B4B74932E0>, 'creativity': <__main__.Tags object at 0x000002B4B7493340>, 'creepy': <__main__.Tags object at 0x000002B4B74933A0>, 'crime': <__main__.Tags object at 0x000002B4B7493400>, 'crime gone awry': <__main__.Tags object at 0x000002B4B7493460>, 'criterion': <__main__.Tags object at 0x000002B4B74934C0>, 'cross dressing': <__main__.Tags object at 0x000002B4B7493520>, 'crude humor': <__main__.Tags object at 0x000002B4B7493580>, 'cuba': <__main__.Tags object at 0x000002B4B74935E0>, 'cult': <__main__.Tags object at 0x000002B4B7493640>, 'cult classic': <__main__.Tags object at 0x000002B4B74936A0>, 'cult film': <__main__.Tags object at 0x000002B4B7493700>, 'culture clash': <__main__.Tags object at 0x000002B4B7493760>, 'cute': <__main__.Tags object at 0x000002B4B74937C0>, 'cute!': <__main__.Tags object at 0x000002B4B7493820>, 'cyberpunk': <__main__.Tags object at 0x000002B4B7493880>, 'cyborgs': <__main__.Tags object at 0x000002B4B74938E0>, 'cynical': <__main__.Tags object at 0x000002B4B7493940>, 'dance': <__main__.Tags object at 0x000002B4B74939A0>, 'dancing': <__main__.Tags object at 0x000002B4B7493A00>, 'dark': <__main__.Tags object at 0x000002B4B7493A60>, 'dark comedy': <__main__.Tags object at 0x000002B4B7493AC0>, 'dark fantasy': <__main__.Tags object at 0x000002B4B7493B20>, 'dark hero': <__main__.Tags object at 0x000002B4B7493B80>, 'dark humor': <__main__.Tags object at 0x000002B4B7493BE0>, 'dc comics': <__main__.Tags object at 0x000002B4B7493C40>, 'deadpan': <__main__.Tags object at 0x000002B4B7493CA0>, 'death': <__main__.Tags object at 0x000002B4B7493D00>, 'death penalty': <__main__.Tags object at 0x000002B4B7493D60>, 'demons': <__main__.Tags object at 0x000002B4B7493DC0>, 'depp & burton': <__main__.Tags object at 0x000002B4B7493E20>, 'depressing': <__main__.Tags object at 0x000002B4B7493E80>, 'depression': <__main__.Tags object at 0x000002B4B7493EE0>, 'desert': <__main__.Tags object at 0x000002B4B7493F40>, 'destiny': <__main__.Tags object at 0x000002B4B7493FA0>, 'detective': <__main__.Tags object at 0x000002B4B74D8040>, 'devil': <__main__.Tags object at 0x000002B4B74D80A0>, 'dialogue': <__main__.Tags object at 0x000002B4B74D8100>, 'dialogue driven': <__main__.Tags object at 0x000002B4B74D8160>, 'dinosaurs': <__main__.Tags object at 0x000002B4B74D81C0>, 'directorial debut': <__main__.Tags object at 0x000002B4B74D8220>, 'disability': <__main__.Tags object at 0x000002B4B74D8280>, 'disappointing': <__main__.Tags object at 0x000002B4B74D82E0>, 'disaster': <__main__.Tags object at 0x000002B4B74D8340>, 'disney': <__main__.Tags object at 0x000002B4B74D83A0>, 'disney animated feature': <__main__.Tags object at 0x000002B4B74D8400>, 'distopia': <__main__.Tags object at 0x000002B4B74D8460>, 'disturbing': <__main__.Tags object at 0x000002B4B74D84C0>, 'divorce': <__main__.Tags object at 0x000002B4B74D8520>, 'doctors': <__main__.Tags object at 0x000002B4B74D8580>, 'documentary': <__main__.Tags object at 0x000002B4B74D85E0>, 'dog': <__main__.Tags object at 0x000002B4B74D8640>, 'dogs': <__main__.Tags object at 0x000002B4B74D86A0>, 'dolphins': <__main__.Tags object at 0x000002B4B74D8700>, 'downbeat': <__main__.Tags object at 0x000002B4B74D8760>, 'dr. seuss': <__main__.Tags object at 0x000002B4B74D87C0>, 'dragon': <__main__.Tags object at 0x000002B4B74D8820>, 'dragons': <__main__.Tags object at 0x000002B4B74D8880>, 'drama': <__main__.Tags object at 0x000002B4B74D88E0>, 'dramatic': <__main__.Tags object at 0x000002B4B74D8940>, 'dreamlike': <__main__.Tags object at 0x000002B4B74D89A0>, 'dreams': <__main__.Tags object at 0x000002B4B74D8A00>, 'dreamworks': <__main__.Tags object at 0x000002B4B74D8A60>, 'drinking': <__main__.Tags object at 0x000002B4B74D8AC0>, 'drug abuse': <__main__.Tags object at 0x000002B4B74D8B20>, 'drug addiction': <__main__.Tags object at 0x000002B4B74D8B80>, 'drugs': <__main__.Tags object at 0x000002B4B74D8BE0>, 'dumb': <__main__.Tags object at 0x000002B4B74D8C40>, 'dumb but funny': <__main__.Tags object at 0x000002B4B74D8CA0>, 'dynamic cgi action': <__main__.Tags object at 0x000002B4B74D8D00>, 'dysfunctional family': <__main__.Tags object at 0x000002B4B74D8D60>, 'dystopia': <__main__.Tags object at 0x000002B4B74D8DC0>, 'dystopic future': <__main__.Tags object at 0x000002B4B74D8E20>, 'earnest': <__main__.Tags object at 0x000002B4B74D8E80>, 'easily confused with other movie(s) (title)': <__main__.Tags object at 0x000002B4B74D8EE0>, 'east germany': <__main__.Tags object at 0x000002B4B74D8F40>, 'eccentricity': <__main__.Tags object at 0x000002B4B74D8FA0>, 'ecology': <__main__.Tags object at 0x000002B4B74D9000>, 'educational': <__main__.Tags object at 0x000002B4B74D9060>, 'eerie': <__main__.Tags object at 0x000002B4B74D90C0>, 'effects': <__main__.Tags object at 0x000002B4B74D9120>, 'egypt': <__main__.Tags object at 0x000002B4B74D9180>, 'emma watson': <__main__.Tags object at 0x000002B4B74D91E0>, 'emotional': <__main__.Tags object at 0x000002B4B74D9240>, 'end of the world': <__main__.Tags object at 0x000002B4B74D92A0>, 'england': <__main__.Tags object at 0x000002B4B74D9300>, 'enigmatic': <__main__.Tags object at 0x000002B4B74D9360>, 'ennio morricone': <__main__.Tags object at 0x000002B4B74D93C0>, 'enormously long battle scene': <__main__.Tags object at 0x000002B4B74D9420>, 'ensemble cast': <__main__.Tags object at 0x000002B4B74D9480>, 'entertaining': <__main__.Tags object at 0x000002B4B74D94E0>, 'entirely dialogue': <__main__.Tags object at 0x000002B4B74D9540>, 'environment': <__main__.Tags object at 0x000002B4B74D95A0>, 'environmental': <__main__.Tags object at 0x000002B4B74D9600>, 'epic': <__main__.Tags object at 0x000002B4B74D9660>, 'erotic': <__main__.Tags object at 0x000002B4B74D96C0>, 'espionage': <__main__.Tags object at 0x000002B4B74D9720>, 'ethnic conflict': <__main__.Tags object at 0x000002B4B74D9780>, 'evolution': <__main__.Tags object at 0x000002B4B74D97E0>, 'excellent': <__main__.Tags object at 0x000002B4B74D9840>, 'excellent script': <__main__.Tags object at 0x000002B4B74D98A0>, 'exceptional acting': <__main__.Tags object at 0x000002B4B74D9900>, 'exciting': <__main__.Tags object at 0x000002B4B74D9960>, 'existentialism': <__main__.Tags object at 0x000002B4B74D99C0>, 'explosions': <__main__.Tags object at 0x000002B4B74D9A20>, 'factual': <__main__.Tags object at 0x000002B4B74D9A80>, 'fairy tale': <__main__.Tags object at 0x000002B4B74D9AE0>, 'fairy tales': <__main__.Tags object at 0x000002B4B74D9B40>, 'fake documentary': <__main__.Tags object at 0x000002B4B74D9BA0>, 'family': <__main__.Tags object at 0x000002B4B74D9C00>, 'family bonds': <__main__.Tags object at 0x000002B4B74D9C60>, 'family drama': <__main__.Tags object at 0x000002B4B74D9CC0>, 'fantasy': <__main__.Tags object at 0x000002B4B74D9D20>, 'fantasy world': <__main__.Tags object at 0x000002B4B74D9D80>, 'farce': <__main__.Tags object at 0x000002B4B74D9DE0>, 'fascism': <__main__.Tags object at 0x000002B4B74D9E40>, 'fashion': <__main__.Tags object at 0x000002B4B74D9EA0>, 'fast paced': <__main__.Tags object at 0x000002B4B74D9F00>, 'father daughter relationship': <__main__.Tags object at 0x000002B4B74D9F60>, 'father son relationship': <__main__.Tags object at 0x000002B4B74D9FC0>, 'father-son relationship': <__main__.Tags object at 0x000002B4B74DA020>, 'fbi': <__main__.Tags object at 0x000002B4B74DA080>, 'feel good movie': <__main__.Tags object at 0x000002B4B74DA0E0>, 'feel-good': <__main__.Tags object at 0x000002B4B74DA140>, 'fight scenes': <__main__.Tags object at 0x000002B4B74DA1A0>, 'fighting': <__main__.Tags object at 0x000002B4B74DA200>, 'fighting the system': <__main__.Tags object at 0x000002B4B74DA260>, 'figure skating': <__main__.Tags object at 0x000002B4B74DA2C0>, 'film noir': <__main__.Tags object at 0x000002B4B74DA320>, 'finnish': <__main__.Tags object at 0x000002B4B74DA380>, 'firefly': <__main__.Tags object at 0x000002B4B74DA3E0>, 'first contact': <__main__.Tags object at 0x000002B4B74DA440>, 'fish': <__main__.Tags object at 0x000002B4B74DA4A0>, 'flashbacks': <__main__.Tags object at 0x000002B4B74DA500>, 'food': <__main__.Tags object at 0x000002B4B74DA560>, 'football': <__main__.Tags object at 0x000002B4B74DA5C0>, 'forceful': <__main__.Tags object at 0x000002B4B74DA620>, 'foreign': <__main__.Tags object at 0x000002B4B74DA680>, 'foul language': <__main__.Tags object at 0x000002B4B74DA6E0>, 'fountain of youth': <__main__.Tags object at 0x000002B4B74DA740>, 'france': <__main__.Tags object at 0x000002B4B74DA7A0>, 'franchise': <__main__.Tags object at 0x000002B4B74DA800>, 'francis ford copolla': <__main__.Tags object at 0x000002B4B74DA860>, 'free speech': <__main__.Tags object at 0x000002B4B74DA8C0>, 'free to download': <__main__.Tags object at 0x000002B4B74DA920>, 'freedom': <__main__.Tags object at 0x000002B4B74DA980>, 'french': <__main__.Tags object at 0x000002B4B74DA9E0>, 'friendship': <__main__.Tags object at 0x000002B4B74DAA40>, 'frightening': <__main__.Tags object at 0x000002B4B74DAAA0>, 'fun': <__main__.Tags object at 0x000002B4B74DAB00>, 'fun movie': <__main__.Tags object at 0x000002B4B74DAB60>, 'funniest movies': <__main__.Tags object at 0x000002B4B74DABC0>, 'funny': <__main__.Tags object at 0x000002B4B74DAC20>, 'funny as hell': <__main__.Tags object at 0x000002B4B74DAC80>, 'future': <__main__.Tags object at 0x000002B4B74DACE0>, 'futuristic': <__main__.Tags object at 0x000002B4B74DAD40>, 'gambling': <__main__.Tags object at 0x000002B4B74DADA0>, 'gangs': <__main__.Tags object at 0x000002B4B74DAE00>, 'gangster': <__main__.Tags object at 0x000002B4B74DAE60>, 'gangsters': <__main__.Tags object at 0x000002B4B74DAEC0>, 'gay': <__main__.Tags object at 0x000002B4B74DAF20>, 'gay character': <__main__.Tags object at 0x000002B4B74DAF80>, 'geek': <__main__.Tags object at 0x000002B4B74DAFE0>, 'geeks': <__main__.Tags object at 0x000002B4B74DB040>, 'genetics': <__main__.Tags object at 0x000002B4B74DB0A0>, 'genius': <__main__.Tags object at 0x000002B4B74DB100>, 'genocide': <__main__.Tags object at 0x000002B4B74DB160>, 'george orwell': <__main__.Tags object at 0x000002B4B74DB1C0>, 'german': <__main__.Tags object at 0x000002B4B74DB220>, 'germany': <__main__.Tags object at 0x000002B4B74DB280>, 'ghosts': <__main__.Tags object at 0x000002B4B74DB2E0>, 'ghosts/afterlife': <__main__.Tags object at 0x000002B4B74DB340>, 'giant robots': <__main__.Tags object at 0x000002B4B74DB3A0>, 'gilliam': <__main__.Tags object at 0x000002B4B74DB400>, 'girlie movie': <__main__.Tags object at 0x000002B4B74DB460>, 'glbt': <__main__.Tags object at 0x000002B4B74DB4C0>, 'global warming': <__main__.Tags object at 0x000002B4B74DB520>, 'god': <__main__.Tags object at 0x000002B4B74DB580>, 'golden palm': <__main__.Tags object at 0x000002B4B74DB5E0>, 'golf': <__main__.Tags object at 0x000002B4B74DB640>, 'good': <__main__.Tags object at 0x000002B4B74DB6A0>, 'good acting': <__main__.Tags object at 0x000002B4B74DB700>, 'good action': <__main__.Tags object at 0x000002B4B74DB760>, 'good dialogue': <__main__.Tags object at 0x000002B4B74DB7C0>, 'good music': <__main__.Tags object at 0x000002B4B74DB820>, 'good romantic comedies': <__main__.Tags object at 0x000002B4B74DB880>, 'good sequel': <__main__.Tags object at 0x000002B4B74DB8E0>, 'good soundtrack': <__main__.Tags object at 0x000002B4B74DB940>, 'good story': <__main__.Tags object at 0x000002B4B74DB9A0>, 'good versus evil': <__main__.Tags object at 0x000002B4B74DBA00>, 'goofy': <__main__.Tags object at 0x000002B4B74DBA60>, 'gore': <__main__.Tags object at 0x000002B4B74DBAC0>, 'goretastic': <__main__.Tags object at 0x000002B4B74DBB20>, 'gory': <__main__.Tags object at 0x000002B4B74DBB80>, 'goth': <__main__.Tags object at 0x000002B4B74DBBE0>, 'gothic': <__main__.Tags object at 0x000002B4B74DBC40>, 'graphic design': <__main__.Tags object at 0x000002B4B74DBCA0>, 'graphic novel': <__main__.Tags object at 0x000002B4B74DBD00>, 'gratuitous violence': <__main__.Tags object at 0x000002B4B74DBD60>, 'great': <__main__.Tags object at 0x000002B4B74DBDC0>, 'great acting': <__main__.Tags object at 0x000002B4B74DBE20>, 'great cinematography': <__main__.Tags object at 0x000002B4B74DBE80>, 'great dialogue': <__main__.Tags object at 0x000002B4B74DBEE0>, 'great ending': <__main__.Tags object at 0x000002B4B74DBF40>, 'great movie': <__main__.Tags object at 0x000002B4B74DBFA0>, 'great music': <__main__.Tags object at 0x000002B4B74DC040>, 'great soundtrack': <__main__.Tags object at 0x000002B4B74DC0A0>, 'greed': <__main__.Tags object at 0x000002B4B74DC100>, 'grim': <__main__.Tags object at 0x000002B4B74DC160>, 'grindhouse': <__main__.Tags object at 0x000002B4B74DC1C0>, 'gritty': <__main__.Tags object at 0x000002B4B74DC220>, 'gross-out': <__main__.Tags object at 0x000002B4B74DC280>, 'gruesome': <__main__.Tags object at 0x000002B4B74DC2E0>, 'guilt': <__main__.Tags object at 0x000002B4B74DC340>, 'guilty pleasure': <__main__.Tags object at 0x000002B4B74DC3A0>, 'gulf war': <__main__.Tags object at 0x000002B4B74DC400>, 'gunfight': <__main__.Tags object at 0x000002B4B74DC460>, 'guns': <__main__.Tags object at 0x000002B4B74DC4C0>, 'gypsy accent': <__main__.Tags object at 0x000002B4B74DC520>, 'hackers': <__main__.Tags object at 0x000002B4B74DC580>, 'hacking': <__main__.Tags object at 0x000002B4B74DC5E0>, 'halloween': <__main__.Tags object at 0x000002B4B74DC640>, 'hallucinatory': <__main__.Tags object at 0x000002B4B74DC6A0>, 'handycam': <__main__.Tags object at 0x000002B4B74DC700>, 'hannibal lecter': <__main__.Tags object at 0x000002B4B74DC760>, 'happy ending': <__main__.Tags object at 0x000002B4B74DC7C0>, 'hard to watch': <__main__.Tags object at 0x000002B4B74DC820>, 'harry potter': <__main__.Tags object at 0x000002B4B74DC880>, 'harsh': <__main__.Tags object at 0x000002B4B74DC8E0>, 'haunted house': <__main__.Tags object at 0x000002B4B74DC940>, 'hawaii': <__main__.Tags object at 0x000002B4B74DC9A0>, 'heartbreaking': <__main__.Tags object at 0x000002B4B74DCA00>, 'heartwarming': <__main__.Tags object at 0x000002B4B74DCA60>, 'heist': <__main__.Tags object at 0x000002B4B74DCAC0>, 'heroin': <__main__.Tags object at 0x000002B4B74DCB20>, 'heroine': <__main__.Tags object at 0x000002B4B74DCB80>, 'heroine in tight suit': <__main__.Tags object at 0x000002B4B74DCBE0>, 'high fantasy': <__main__.Tags object at 0x000002B4B74DCC40>, 'high school': <__main__.Tags object at 0x000002B4B74DCCA0>, 'highly quotable': <__main__.Tags object at 0x000002B4B74DCD00>, 'hilarious': <__main__.Tags object at 0x000002B4B74DCD60>, 'hillarious': <__main__.Tags object at 0x000002B4B74DCDC0>, 'hip hop': <__main__.Tags object at 0x000002B4B74DCE20>, 'historical': <__main__.Tags object at 0x000002B4B74DCE80>, 'history': <__main__.Tags object at 0x000002B4B74DCEE0>, 'hit men': <__main__.Tags object at 0x000002B4B74DCF40>, 'hitchcock': <__main__.Tags object at 0x000002B4B74DCFA0>, 'hitman': <__main__.Tags object at 0x000002B4B74DD000>, 'holiday': <__main__.Tags object at 0x000002B4B74DD060>, 'hollywood': <__main__.Tags object at 0x000002B4B74DD0C0>, 'holocaust': <__main__.Tags object at 0x000002B4B74DD120>, 'homeless': <__main__.Tags object at 0x000002B4B74DD180>, 'homophobia': <__main__.Tags object at 0x000002B4B74DD1E0>, 'homosexuality': <__main__.Tags object at 0x000002B4B74DD240>, 'honest': <__main__.Tags object at 0x000002B4B74DD2A0>, 'hong kong': <__main__.Tags object at 0x000002B4B74DD300>, 'horrible': <__main__.Tags object at 0x000002B4B74DD360>, 'horror': <__main__.Tags object at 0x000002B4B74DD3C0>, 'horses': <__main__.Tags object at 0x000002B4B74DD420>, 'hospital': <__main__.Tags object at 0x000002B4B74DD480>, 'hostage': <__main__.Tags object at 0x000002B4B74DD4E0>, 'hotel': <__main__.Tags object at 0x000002B4B74DD540>, 'humanity': <__main__.Tags object at 0x000002B4B74DD5A0>, 'humor': <__main__.Tags object at 0x000002B4B74DD600>, 'humorous': <__main__.Tags object at 0x000002B4B74DD660>, 'hunting': <__main__.Tags object at 0x000002B4B74DD6C0>, 'idealism': <__main__.Tags object at 0x000002B4B74DD720>, 'identity': <__main__.Tags object at 0x000002B4B74DD780>, 'idiotic': <__main__.Tags object at 0x000002B4B74DD7E0>, 'imaginary friend': <__main__.Tags object at 0x000002B4B74DD840>, 'imagination': <__main__.Tags object at 0x000002B4B74DD8A0>, 'imdb top 250': <__main__.Tags object at 0x000002B4B74DD900>, 'immigrants': <__main__.Tags object at 0x000002B4B74DD960>, 'immortality': <__main__.Tags object at 0x000002B4B74DD9C0>, 'incest': <__main__.Tags object at 0x000002B4B74DDA20>, 'independent film': <__main__.Tags object at 0x000002B4B74DDA80>, 'india': <__main__.Tags object at 0x000002B4B74DDAE0>, 'indiana jones': <__main__.Tags object at 0x000002B4B74DDB40>, 'indians': <__main__.Tags object at 0x000002B4B74DDBA0>, 'indie': <__main__.Tags object at 0x000002B4B74DDC00>, 'infidelity': <__main__.Tags object at 0x000002B4B74DDC60>, 'innocence lost': <__main__.Tags object at 0x000002B4B74DDCC0>, 'insanity': <__main__.Tags object at 0x000002B4B74DDD20>, 'inspirational': <__main__.Tags object at 0x000002B4B74DDD80>, 'inspiring': <__main__.Tags object at 0x000002B4B74DDDE0>, 'intellectual': <__main__.Tags object at 0x000002B4B74DDE40>, 'intelligent': <__main__.Tags object at 0x000002B4B74DDEA0>, 'intelligent sci-fi': <__main__.Tags object at 0x000002B4B74DDF00>, 'intense': <__main__.Tags object at 0x000002B4B74DDF60>, 'interesting': <__main__.Tags object at 0x000002B4B74DDFC0>, 'internet': <__main__.Tags object at 0x000002B4B74DE020>, 'interracial romance': <__main__.Tags object at 0x000002B4B74DE080>, 'intimate': <__main__.Tags object at 0x000002B4B74DE0E0>, 'investigation': <__main__.Tags object at 0x000002B4B74DE140>, 'iran': <__main__.Tags object at 0x000002B4B74DE1A0>, 'iraq': <__main__.Tags object at 0x000002B4B74DE200>, 'iraq war': <__main__.Tags object at 0x000002B4B74DE260>, 'ireland': <__main__.Tags object at 0x000002B4B74DE2C0>, 'irish': <__main__.Tags object at 0x000002B4B74DE320>, 'irish accent': <__main__.Tags object at 0x000002B4B74DE380>, 'ironic': <__main__.Tags object at 0x000002B4B74DE3E0>, 'irreverent': <__main__.Tags object at 0x000002B4B74DE440>, 'islam': <__main__.Tags object at 0x000002B4B74DE4A0>, 'island': <__main__.Tags object at 0x000002B4B74DE500>, 'isolation': <__main__.Tags object at 0x000002B4B74DE560>, 'israel': <__main__.Tags object at 0x000002B4B74DE5C0>, 'italian': <__main__.Tags object at 0x000002B4B74DE620>, 'italy': <__main__.Tags object at 0x000002B4B74DE680>, 'james bond': <__main__.Tags object at 0x000002B4B74DE6E0>, 'jane austen': <__main__.Tags object at 0x000002B4B74DE740>, 'japan': <__main__.Tags object at 0x000002B4B74DE7A0>, 'japanese': <__main__.Tags object at 0x000002B4B74DE800>, 'jay and silent bob': <__main__.Tags object at 0x000002B4B74DE860>, 'jazz': <__main__.Tags object at 0x000002B4B74DE8C0>, 'jesus': <__main__.Tags object at 0x000002B4B74DE920>, 'jewish': <__main__.Tags object at 0x000002B4B74DE980>, 'jews': <__main__.Tags object at 0x000002B4B74DE9E0>, 'journalism': <__main__.Tags object at 0x000002B4B74DEA40>, 'judaism': <__main__.Tags object at 0x000002B4B74DEAA0>, 'jungle': <__main__.Tags object at 0x000002B4B74DEB00>, 'justice': <__main__.Tags object at 0x000002B4B74DEB60>, 'kick-butt women': <__main__.Tags object at 0x000002B4B74DEBC0>, 'kidnapping': <__main__.Tags object at 0x000002B4B74DEC20>, 'kids': <__main__.Tags object at 0x000002B4B74DEC80>, 'kids and family': <__main__.Tags object at 0x000002B4B74DECE0>, 'king arthur': <__main__.Tags object at 0x000002B4B74DED40>, 'kubrick': <__main__.Tags object at 0x000002B4B74DEDA0>, 'kung fu': <__main__.Tags object at 0x000002B4B74DEE00>, 'kurosawa': <__main__.Tags object at 0x000002B4B74DEE60>, 'lame': <__main__.Tags object at 0x000002B4B74DEEC0>, 'las vegas': <__main__.Tags object at 0x000002B4B74DEF20>, 'latin america': <__main__.Tags object at 0x000002B4B74DEF80>, 'lawyer': <__main__.Tags object at 0x000002B4B74DEFE0>, 'lawyers': <__main__.Tags object at 0x000002B4B74DF040>, 'lesbian': <__main__.Tags object at 0x000002B4B74DF0A0>, 'life': <__main__.Tags object at 0x000002B4B74DF100>, 'life & death': <__main__.Tags object at 0x000002B4B74DF160>, 'life philosophy': <__main__.Tags object at 0x000002B4B74DF1C0>, 'light': <__main__.Tags object at 0x000002B4B74DF220>, 'lions': <__main__.Tags object at 0x000002B4B74DF280>, 'literary adaptation': <__main__.Tags object at 0x000002B4B74DF2E0>, 'literature': <__main__.Tags object at 0x000002B4B74DF340>, 'liv tyler': <__main__.Tags object at 0x000002B4B74DF3A0>, 'london': <__main__.Tags object at 0x000002B4B74DF400>, 'lone hero': <__main__.Tags object at 0x000002B4B74DF460>, 'loneliness': <__main__.Tags object at 0x000002B4B74DF4C0>, 'long': <__main__.Tags object at 0x000002B4B74DF520>, 'los angeles': <__main__.Tags object at 0x000002B4B74DF580>, 'love': <__main__.Tags object at 0x000002B4B74DF5E0>, 'love story': <__main__.Tags object at 0x000002B4B74DF640>, 'love triangles': <__main__.Tags object at 0x000002B4B74DF6A0>, 'low budget': <__main__.Tags object at 0x000002B4B74DF700>, 'lynch': <__main__.Tags object at 0x000002B4B74DF760>, 'lyrical': <__main__.Tags object at 0x000002B4B74DF7C0>, 'macabre': <__main__.Tags object at 0x000002B4B74DF820>, 'mad scientist': <__main__.Tags object at 0x000002B4B74DF880>, 'made for tv': <__main__.Tags object at 0x000002B4B74DF8E0>, 'mafia': <__main__.Tags object at 0x000002B4B74DF940>, 'magic': <__main__.Tags object at 0x000002B4B74DF9A0>, 'magic realism': <__main__.Tags object at 0x000002B4B74DFA00>, 'male nudity': <__main__.Tags object at 0x000002B4B74DFA60>, 'man versus machine': <__main__.Tags object at 0x000002B4B74DFAC0>, 'manipulation': <__main__.Tags object at 0x000002B4B74DFB20>, 'marijuana': <__main__.Tags object at 0x000002B4B74DFB80>, 'marriage': <__main__.Tags object at 0x000002B4B74DFBE0>, 'mars': <__main__.Tags object at 0x000002B4B74DFC40>, 'martial arts': <__main__.Tags object at 0x000002B4B74DFCA0>, 'marvel': <__main__.Tags object at 0x000002B4B74DFD00>, 'marx brothers': <__main__.Tags object at 0x000002B4B74DFD60>, 'masterpiece': <__main__.Tags object at 0x000002B4B74DFDC0>, 'math': <__main__.Tags object at 0x000002B4B74DFE20>, 'mathematics': <__main__.Tags object at 0x000002B4B74DFE80>, 'maze': <__main__.Tags object at 0x000002B4B74DFEE0>, 'medieval': <__main__.Tags object at 0x000002B4B74DFF40>, 'meditative': <__main__.Tags object at 0x000002B4B74DFFA0>, 'melancholic': <__main__.Tags object at 0x000002B4B74E8040>, 'melancholy': <__main__.Tags object at 0x000002B4B74E80A0>, 'memory': <__main__.Tags object at 0x000002B4B74E8100>, 'memory loss': <__main__.Tags object at 0x000002B4B74E8160>, 'mental hospital': <__main__.Tags object at 0x000002B4B74E81C0>, 'mental illness': <__main__.Tags object at 0x000002B4B74E8220>, 'mentor': <__main__.Tags object at 0x000002B4B74E8280>, 'metaphysics': <__main__.Tags object at 0x000002B4B74E82E0>, 'mexico': <__main__.Tags object at 0x000002B4B74E8340>, 'middle east': <__main__.Tags object at 0x000002B4B74E83A0>, 'midlife crisis': <__main__.Tags object at 0x000002B4B74E8400>, 'military': <__main__.Tags object at 0x000002B4B74E8460>, 'mindfuck': <__main__.Tags object at 0x000002B4B74E84C0>, 'mining': <__main__.Tags object at 0x000002B4B74E8520>, 'minnesota': <__main__.Tags object at 0x000002B4B74E8580>, 'mission from god': <__main__.Tags object at 0x000002B4B74E85E0>, 'mistaken identity': <__main__.Tags object at 0x000002B4B74E8640>, 'miyazaki': <__main__.Tags object at 0x000002B4B74E86A0>, 'mob': <__main__.Tags object at 0x000002B4B74E8700>, 'mockumentary': <__main__.Tags object at 0x000002B4B74E8760>, 'modern fantasy': <__main__.Tags object at 0x000002B4B74E87C0>, 'money': <__main__.Tags object at 0x000002B4B74E8820>, 'monkey': <__main__.Tags object at 0x000002B4B74E8880>, 'monster': <__main__.Tags object at 0x000002B4B74E88E0>, 'monsters': <__main__.Tags object at 0x000002B4B74E8940>, 'monty python': <__main__.Tags object at 0x000002B4B74E89A0>, 'moody': <__main__.Tags object at 0x000002B4B74E8A00>, 'moon': <__main__.Tags object at 0x000002B4B74E8A60>, 'moral ambiguity': <__main__.Tags object at 0x000002B4B74E8AC0>, 'morality': <__main__.Tags object at 0x000002B4B74E8B20>, 'mother daughter relationship': <__main__.Tags object at 0x000002B4B74E8B80>, 'mother-son relationship': <__main__.Tags object at 0x000002B4B74E8BE0>, 'motorcycle': <__main__.Tags object at 0x000002B4B74E8C40>, 'mountain climbing': <__main__.Tags object at 0x000002B4B74E8CA0>, 'movie business': <__main__.Tags object at 0x000002B4B74E8D00>, 'movielens top pick': <__main__.Tags object at 0x000002B4B74E8D60>, 'moving': <__main__.Tags object at 0x000002B4B74E8DC0>, 'mozart': <__main__.Tags object at 0x000002B4B74E8E20>, 'mtv': <__main__.Tags object at 0x000002B4B74E8E80>, 'multiple storylines': <__main__.Tags object at 0x000002B4B74E8EE0>, 'mummy': <__main__.Tags object at 0x000002B4B74E8F40>, 'muppets': <__main__.Tags object at 0x000002B4B74E8FA0>, 'murder': <__main__.Tags object at 0x000002B4B74E9000>, 'murder mystery': <__main__.Tags object at 0x000002B4B74E9060>, 'music': <__main__.Tags object at 0x000002B4B74E90C0>, 'music business': <__main__.Tags object at 0x000002B4B74E9120>, 'musical': <__main__.Tags object at 0x000002B4B74E9180>, 'musicians': <__main__.Tags object at 0x000002B4B74E91E0>, 'mutants': <__main__.Tags object at 0x000002B4B74E9240>, 'mystery': <__main__.Tags object at 0x000002B4B74E92A0>, 'mythology': <__main__.Tags object at 0x000002B4B74E9300>, 'narrated': <__main__.Tags object at 0x000002B4B74E9360>, 'nasa': <__main__.Tags object at 0x000002B4B74E93C0>, 'native americans': <__main__.Tags object at 0x000002B4B74E9420>, 'natural disaster': <__main__.Tags object at 0x000002B4B74E9480>, 'nature': <__main__.Tags object at 0x000002B4B74E94E0>, 'nazi': <__main__.Tags object at 0x000002B4B74E9540>, 'nazis': <__main__.Tags object at 0x000002B4B74E95A0>, 'neil gaiman': <__main__.Tags object at 0x000002B4B74E9600>, 'neo-nazis': <__main__.Tags object at 0x000002B4B74E9660>, 'neo-noir': <__main__.Tags object at 0x000002B4B74E96C0>, 'nerds': <__main__.Tags object at 0x000002B4B74E9720>, 'new jersey': <__main__.Tags object at 0x000002B4B74E9780>, 'new orleans': <__main__.Tags object at 0x000002B4B74E97E0>, 'new york': <__main__.Tags object at 0x000002B4B74E9840>, 'new york city': <__main__.Tags object at 0x000002B4B74E98A0>, 'new zealand': <__main__.Tags object at 0x000002B4B74E9900>, 'ninja': <__main__.Tags object at 0x000002B4B74E9960>, 'no dialogue': <__main__.Tags object at 0x000002B4B74E99C0>, 'no plot': <__main__.Tags object at 0x000002B4B74E9A20>, 'nocturnal': <__main__.Tags object at 0x000002B4B74E9A80>, 'noir': <__main__.Tags object at 0x000002B4B74E9AE0>, 'noir thriller': <__main__.Tags object at 0x000002B4B74E9B40>, 'non-hollywood ending': <__main__.Tags object at 0x000002B4B74E9BA0>, 'non-linear': <__main__.Tags object at 0x000002B4B74E9C00>, 'nonlinear': <__main__.Tags object at 0x000002B4B74E9C60>, 'nostalgia': <__main__.Tags object at 0x000002B4B74E9CC0>, 'nostalgic': <__main__.Tags object at 0x000002B4B74E9D20>, 'not as good as the first': <__main__.Tags object at 0x000002B4B74E9D80>, 'not funny': <__main__.Tags object at 0x000002B4B74E9DE0>, 'notable nudity': <__main__.Tags object at 0x000002B4B74E9E40>, 'notable soundtrack': <__main__.Tags object at 0x000002B4B74E9EA0>, 'nuclear': <__main__.Tags object at 0x000002B4B74E9F00>, 'nuclear bomb': <__main__.Tags object at 0x000002B4B74E9F60>, 'nuclear war': <__main__.Tags object at 0x000002B4B74E9FC0>, 'nudity': <__main__.Tags object at 0x000002B4B74EA020>, 'nudity (full frontal - brief)': <__main__.Tags object at 0x000002B4B74EA080>, 'nudity (full frontal - notable)': <__main__.Tags object at 0x000002B4B74EA0E0>, 'nudity (full frontal)': <__main__.Tags object at 0x000002B4B74EA140>, 'nudity (rear)': <__main__.Tags object at 0x000002B4B74EA1A0>, 'nudity (topless - brief)': <__main__.Tags object at 0x000002B4B74EA200>, 'nudity (topless - notable)': <__main__.Tags object at 0x000002B4B74EA260>, 'nudity (topless)': <__main__.Tags object at 0x000002B4B74EA2C0>, 'obsession': <__main__.Tags object at 0x000002B4B74EA320>, 'ocean': <__main__.Tags object at 0x000002B4B74EA380>, 'off-beat comedy': <__main__.Tags object at 0x000002B4B74EA3E0>, 'office': <__main__.Tags object at 0x000002B4B74EA440>, 'oil': <__main__.Tags object at 0x000002B4B74EA4A0>, 'olympics': <__main__.Tags object at 0x000002B4B74EA500>, 'ominous': <__main__.Tags object at 0x000002B4B74EA560>, 'opera': <__main__.Tags object at 0x000002B4B74EA5C0>, 'organized crime': <__main__.Tags object at 0x000002B4B74EA620>, 'original': <__main__.Tags object at 0x000002B4B74EA680>, 'original plot': <__main__.Tags object at 0x000002B4B74EA6E0>, 'orphans': <__main__.Tags object at 0x000002B4B74EA740>, 'oscar': <__main__.Tags object at 0x000002B4B74EA7A0>, 'oscar (best actor)': <__main__.Tags object at 0x000002B4B74EA800>, 'oscar (best actress)': <__main__.Tags object at 0x000002B4B74EA860>, 'oscar (best animated feature)': <__main__.Tags object at 0x000002B4B74EA8C0>, 'oscar (best cinematography)': <__main__.Tags object at 0x000002B4B74EA920>, 'oscar (best directing)': <__main__.Tags object at 0x000002B4B74EA980>, 'oscar (best editing)': <__main__.Tags object at 0x000002B4B74EA9E0>, 'oscar (best effects - visual effects)': <__main__.Tags object at 0x000002B4B74EAA40>, 'oscar (best foreign language film)': <__main__.Tags object at 0x000002B4B74EAAA0>, 'oscar (best music - original score)': <__main__.Tags object at 0x000002B4B74EAB00>, 'oscar (best music - original song)': <__main__.Tags object at 0x000002B4B74EAB60>, 'oscar (best picture)': <__main__.Tags object at 0x000002B4B74EABC0>, 'oscar (best sound)': <__main__.Tags object at 0x000002B4B74EAC20>, 'oscar (best supporting actor)': <__main__.Tags object at 0x000002B4B74EAC80>, 'oscar (best supporting actress)': <__main__.Tags object at 0x000002B4B74EACE0>, 'oscar (best writing - screenplay written directly for the screen)': <__main__.Tags object at 0x000002B4B74EAD40>, 'oscar winner': <__main__.Tags object at 0x000002B4B74EADA0>, 'over the top': <__main__.Tags object at 0x000002B4B74EAE00>, 'overrated': <__main__.Tags object at 0x000002B4B74EAE60>, 'palestine': <__main__.Tags object at 0x000002B4B74EAEC0>, 'parallel universe': <__main__.Tags object at 0x000002B4B74EAF20>, 'paranoia': <__main__.Tags object at 0x000002B4B74EAF80>, 'paranoid': <__main__.Tags object at 0x000002B4B74EAFE0>, 'parenthood': <__main__.Tags object at 0x000002B4B74EB040>, 'paris': <__main__.Tags object at 0x000002B4B74EB0A0>, 'parody': <__main__.Tags object at 0x000002B4B74EB100>, 'passionate': <__main__.Tags object at 0x000002B4B74EB160>, 'penguins': <__main__.Tags object at 0x000002B4B74EB1C0>, 'perfect': <__main__.Tags object at 0x000002B4B74EB220>, 'period piece': <__main__.Tags object at 0x000002B4B74EB280>, 'peter pan': <__main__.Tags object at 0x000002B4B74EB2E0>, 'pg': <__main__.Tags object at 0x000002B4B74EB340>, 'pg-13': <__main__.Tags object at 0x000002B4B74EB3A0>, 'philip k. dick': <__main__.Tags object at 0x000002B4B74EB400>, 'philosophical': <__main__.Tags object at 0x000002B4B74EB460>, 'philosophy': <__main__.Tags object at 0x000002B4B74EB4C0>, 'photographer': <__main__.Tags object at 0x000002B4B74EB520>, 'photography': <__main__.Tags object at 0x000002B4B74EB580>, 'pigs': <__main__.Tags object at 0x000002B4B74EB5E0>, 'pirates': <__main__.Tags object at 0x000002B4B74EB640>, 'pixar': <__main__.Tags object at 0x000002B4B74EB6A0>, 'pixar animation': <__main__.Tags object at 0x000002B4B74EB700>, 'plot': <__main__.Tags object at 0x000002B4B74EB760>, 'plot holes': <__main__.Tags object at 0x000002B4B74EB7C0>, 'plot twist': <__main__.Tags object at 0x000002B4B74EB820>, 'poetry': <__main__.Tags object at 0x000002B4B74EB880>, 'poignant': <__main__.Tags object at 0x000002B4B74EB8E0>, 'pointless': <__main__.Tags object at 0x000002B4B74EB940>, 'poker': <__main__.Tags object at 0x000002B4B74EB9A0>, 'poland': <__main__.Tags object at 0x000002B4B74EBA00>, 'police': <__main__.Tags object at 0x000002B4B74EBA60>, 'police corruption': <__main__.Tags object at 0x000002B4B74EBAC0>, 'police investigation': <__main__.Tags object at 0x000002B4B74EBB20>, 'political': <__main__.Tags object at 0x000002B4B74EBB80>, 'political corruption': <__main__.Tags object at 0x000002B4B74EBBE0>, 'politics': <__main__.Tags object at 0x000002B4B74EBC40>, 'pornography': <__main__.Tags object at 0x000002B4B74EBCA0>, 'post apocalyptic': <__main__.Tags object at 0x000002B4B74EBD00>, 'post-apocalyptic': <__main__.Tags object at 0x000002B4B74EBD60>, 'potential oscar nom': <__main__.Tags object at 0x000002B4B74EBDC0>, 'poverty': <__main__.Tags object at 0x000002B4B74EBE20>, 'powerful ending': <__main__.Tags object at 0x000002B4B74EBE80>, 'predictable': <__main__.Tags object at 0x000002B4B74EBEE0>, 'pregnancy': <__main__.Tags object at 0x000002B4B74EBF40>, 'prejudice': <__main__.Tags object at 0x000002B4B74EBFA0>, 'prequel': <__main__.Tags object at 0x000002B4B74F0040>, 'president': <__main__.Tags object at 0x000002B4B74F00A0>, 'pretentious': <__main__.Tags object at 0x000002B4B74F0100>, 'prison': <__main__.Tags object at 0x000002B4B74F0160>, 'prison escape': <__main__.Tags object at 0x000002B4B74F01C0>, 'private detective': <__main__.Tags object at 0x000002B4B74F0220>, 'product placement': <__main__.Tags object at 0x000002B4B74F0280>, 'prohibition': <__main__.Tags object at 0x000002B4B74F02E0>, 'propaganda': <__main__.Tags object at 0x000002B4B74F0340>, 'prostitution': <__main__.Tags object at 0x000002B4B74F03A0>, 'psychedelic': <__main__.Tags object at 0x000002B4B74F0400>, 'psychiatrist': <__main__.Tags object at 0x000002B4B74F0460>, 'psychiatry': <__main__.Tags object at 0x000002B4B74F04C0>, 'psychological': <__main__.Tags object at 0x000002B4B74F0520>, 'psychology': <__main__.Tags object at 0x000002B4B74F0580>, 'pulp': <__main__.Tags object at 0x000002B4B74F05E0>, 'punk': <__main__.Tags object at 0x000002B4B74F0640>, 'puppets': <__main__.Tags object at 0x000002B4B74F06A0>, 'queer': <__main__.Tags object at 0x000002B4B74F0700>, 'quirky': <__main__.Tags object at 0x000002B4B74F0760>, 'quotable': <__main__.Tags object at 0x000002B4B74F07C0>, 'rabbits': <__main__.Tags object at 0x000002B4B74F0820>, 'race': <__main__.Tags object at 0x000002B4B74F0880>, 'race issues': <__main__.Tags object at 0x000002B4B74F08E0>, 'racing': <__main__.Tags object at 0x000002B4B74F0940>, 'racism': <__main__.Tags object at 0x000002B4B74F09A0>, 'radio': <__main__.Tags object at 0x000002B4B74F0A00>, 'rags to riches': <__main__.Tags object at 0x000002B4B74F0A60>, 'rape': <__main__.Tags object at 0x000002B4B74F0AC0>, 'rats': <__main__.Tags object at 0x000002B4B74F0B20>, 'realistic': <__main__.Tags object at 0x000002B4B74F0B80>, 'realistic action': <__main__.Tags object at 0x000002B4B74F0BE0>, 'reality tv': <__main__.Tags object at 0x000002B4B74F0C40>, 'rebellion': <__main__.Tags object at 0x000002B4B74F0CA0>, 'redemption': <__main__.Tags object at 0x000002B4B74F0D00>, 'reflective': <__main__.Tags object at 0x000002B4B74F0D60>, 'relationships': <__main__.Tags object at 0x000002B4B74F0DC0>, 'religion': <__main__.Tags object at 0x000002B4B74F0E20>, 'remade': <__main__.Tags object at 0x000002B4B74F0E80>, 'remake': <__main__.Tags object at 0x000002B4B74F0EE0>, 'revenge': <__main__.Tags object at 0x000002B4B74F0F40>, 'revolution': <__main__.Tags object at 0x000002B4B74F0FA0>, 'ridiculous': <__main__.Tags object at 0x000002B4B74F1000>, 'rio de janeiro': <__main__.Tags object at 0x000002B4B74F1060>, 'road movie': <__main__.Tags object at 0x000002B4B74F10C0>, 'road trip': <__main__.Tags object at 0x000002B4B74F1120>, 'roald dahl': <__main__.Tags object at 0x000002B4B74F1180>, 'robbery': <__main__.Tags object at 0x000002B4B74F11E0>, 'robert downey jr': <__main__.Tags object at 0x000002B4B74F1240>, 'robert ludlum': <__main__.Tags object at 0x000002B4B74F12A0>, 'robot': <__main__.Tags object at 0x000002B4B74F1300>, 'robots': <__main__.Tags object at 0x000002B4B74F1360>, 'rock and roll': <__main__.Tags object at 0x000002B4B74F13C0>, 'romance': <__main__.Tags object at 0x000002B4B74F1420>, 'romantic': <__main__.Tags object at 0x000002B4B74F1480>, 'romantic comedy': <__main__.Tags object at 0x000002B4B74F14E0>, 'rome': <__main__.Tags object at 0x000002B4B74F1540>, 'runaway': <__main__.Tags object at 0x000002B4B74F15A0>, 'russia': <__main__.Tags object at 0x000002B4B74F1600>, 'russian': <__main__.Tags object at 0x000002B4B74F1660>, 'sacrifice': <__main__.Tags object at 0x000002B4B74F16C0>, 'sad': <__main__.Tags object at 0x000002B4B74F1720>, 'sad but good': <__main__.Tags object at 0x000002B4B74F1780>, 'samurai': <__main__.Tags object at 0x000002B4B74F17E0>, 'san francisco': <__main__.Tags object at 0x000002B4B74F1840>, 'sappy': <__main__.Tags object at 0x000002B4B74F18A0>, 'sarcasm': <__main__.Tags object at 0x000002B4B74F1900>, 'satire': <__main__.Tags object at 0x000002B4B74F1960>, 'satirical': <__main__.Tags object at 0x000002B4B74F19C0>, 'saturday night live': <__main__.Tags object at 0x000002B4B74F1A20>, 'saturn award (best science fiction film)': <__main__.Tags object at 0x000002B4B74F1A80>, 'saturn award (best special effects)': <__main__.Tags object at 0x000002B4B74F1AE0>, 'scary': <__main__.Tags object at 0x000002B4B74F1B40>, 'scenic': <__main__.Tags object at 0x000002B4B74F1BA0>, 'schizophrenia': <__main__.Tags object at 0x000002B4B74F1C00>, 'school': <__main__.Tags object at 0x000002B4B74F1C60>, 'sci fi': <__main__.Tags object at 0x000002B4B74F1CC0>, 'sci-fi': <__main__.Tags object at 0x000002B4B74F1D20>, 'science': <__main__.Tags object at 0x000002B4B74F1D80>, 'science fiction': <__main__.Tags object at 0x000002B4B74F1DE0>, 'scifi': <__main__.Tags object at 0x000002B4B74F1E40>, 'scifi cult': <__main__.Tags object at 0x000002B4B74F1EA0>, 'scotland': <__main__.Tags object at 0x000002B4B74F1F00>, 'screwball': <__main__.Tags object at 0x000002B4B74F1F60>, 'screwball comedy': <__main__.Tags object at 0x000002B4B74F1FC0>, 'script': <__main__.Tags object at 0x000002B4B74F2020>, 'secret service': <__main__.Tags object at 0x000002B4B74F2080>, 'secrets': <__main__.Tags object at 0x000002B4B74F20E0>, 'segregation': <__main__.Tags object at 0x000002B4B74F2140>, 'self discovery': <__main__.Tags object at 0x000002B4B74F21A0>, 'sentimental': <__main__.Tags object at 0x000002B4B74F2200>, 'sequel': <__main__.Tags object at 0x000002B4B74F2260>, 'sequels': <__main__.Tags object at 0x000002B4B74F22C0>, 'serial killer': <__main__.Tags object at 0x000002B4B74F2320>, 'series': <__main__.Tags object at 0x000002B4B74F2380>, 'sex': <__main__.Tags object at 0x000002B4B74F23E0>, 'sex comedy': <__main__.Tags object at 0x000002B4B74F2440>, 'sexual': <__main__.Tags object at 0x000002B4B74F24A0>, 'sexual abuse': <__main__.Tags object at 0x000002B4B74F2500>, 'sexuality': <__main__.Tags object at 0x000002B4B74F2560>, 'sexualized violence': <__main__.Tags object at 0x000002B4B74F25C0>, 'sexy': <__main__.Tags object at 0x000002B4B74F2620>, 'shakespeare': <__main__.Tags object at 0x000002B4B74F2680>, 'shallow': <__main__.Tags object at 0x000002B4B74F26E0>, 'shark': <__main__.Tags object at 0x000002B4B74F2740>, 'shopping': <__main__.Tags object at 0x000002B4B74F27A0>, 'short': <__main__.Tags object at 0x000002B4B74F2800>, 'short-term memory loss': <__main__.Tags object at 0x000002B4B74F2860>, 'silent': <__main__.Tags object at 0x000002B4B74F28C0>, 'silly': <__main__.Tags object at 0x000002B4B74F2920>, 'silly fun': <__main__.Tags object at 0x000002B4B74F2980>, 'simple': <__main__.Tags object at 0x000002B4B74F29E0>, 'single father': <__main__.Tags object at 0x000002B4B74F2A40>, 'sisters': <__main__.Tags object at 0x000002B4B74F2AA0>, 'skinhead': <__main__.Tags object at 0x000002B4B74F2B00>, 'slackers': <__main__.Tags object at 0x000002B4B74F2B60>, 'slapstick': <__main__.Tags object at 0x000002B4B74F2BC0>, 'slasher': <__main__.Tags object at 0x000002B4B74F2C20>, 'slavery': <__main__.Tags object at 0x000002B4B74F2C80>, 'slow': <__main__.Tags object at 0x000002B4B74F2CE0>, 'slow paced': <__main__.Tags object at 0x000002B4B74F2D40>, 'small town': <__main__.Tags object at 0x000002B4B74F2DA0>, 'snakes': <__main__.Tags object at 0x000002B4B74F2E00>, \"so bad it's funny\": <__main__.Tags object at 0x000002B4B74F2E60>, \"so bad it's good\": <__main__.Tags object at 0x000002B4B74F2EC0>, 'soccer': <__main__.Tags object at 0x000002B4B74F2F20>, 'social commentary': <__main__.Tags object at 0x000002B4B74F2F80>, 'solitude': <__main__.Tags object at 0x000002B4B74F2FE0>, 'sophia coppola': <__main__.Tags object at 0x000002B4B74F3040>, 'south africa': <__main__.Tags object at 0x000002B4B74F30A0>, 'south america': <__main__.Tags object at 0x000002B4B74F3100>, 'southern theme': <__main__.Tags object at 0x000002B4B74F3160>, 'space': <__main__.Tags object at 0x000002B4B74F31C0>, 'space opera': <__main__.Tags object at 0x000002B4B74F3220>, 'space program': <__main__.Tags object at 0x000002B4B74F3280>, 'space travel': <__main__.Tags object at 0x000002B4B74F32E0>, 'spaghetti western': <__main__.Tags object at 0x000002B4B74F3340>, 'spain': <__main__.Tags object at 0x000002B4B74F33A0>, 'spanish': <__main__.Tags object at 0x000002B4B74F3400>, 'spanish civil war': <__main__.Tags object at 0x000002B4B74F3460>, 'special': <__main__.Tags object at 0x000002B4B74F34C0>, 'special effects': <__main__.Tags object at 0x000002B4B74F3520>, 'spelling bee': <__main__.Tags object at 0x000002B4B74F3580>, 'spiders': <__main__.Tags object at 0x000002B4B74F35E0>, 'spielberg': <__main__.Tags object at 0x000002B4B74F3640>, 'spies': <__main__.Tags object at 0x000002B4B74F36A0>, 'splatter': <__main__.Tags object at 0x000002B4B74F3700>, 'spock': <__main__.Tags object at 0x000002B4B74F3760>, 'spoof': <__main__.Tags object at 0x000002B4B74F37C0>, 'sports': <__main__.Tags object at 0x000002B4B74F3820>, 'spy': <__main__.Tags object at 0x000002B4B74F3880>, 'spying': <__main__.Tags object at 0x000002B4B74F38E0>, 'stage magic': <__main__.Tags object at 0x000002B4B74F3940>, 'stand-up comedy': <__main__.Tags object at 0x000002B4B74F39A0>, 'star trek': <__main__.Tags object at 0x000002B4B74F3A00>, 'star wars': <__main__.Tags object at 0x000002B4B74F3A60>, 'steampunk': <__main__.Tags object at 0x000002B4B74F3AC0>, 'stereotypes': <__main__.Tags object at 0x000002B4B74F3B20>, 'stoner movie': <__main__.Tags object at 0x000002B4B74F3B80>, 'stop motion': <__main__.Tags object at 0x000002B4B74F3BE0>, 'stop-motion': <__main__.Tags object at 0x000002B4B74F3C40>, 'story': <__main__.Tags object at 0x000002B4B74F3CA0>, 'storytelling': <__main__.Tags object at 0x000002B4B74F3D00>, 'stranded': <__main__.Tags object at 0x000002B4B74F3D60>, 'strange': <__main__.Tags object at 0x000002B4B74F3DC0>, 'strippers': <__main__.Tags object at 0x000002B4B74F3E20>, 'studio ghibli': <__main__.Tags object at 0x000002B4B74F3E80>, 'stunning': <__main__.Tags object at 0x000002B4B74F3EE0>, 'stupid': <__main__.Tags object at 0x000002B4B74F3F40>, 'stupid as hell': <__main__.Tags object at 0x000002B4B74F3FA0>, 'stupidity': <__main__.Tags object at 0x000002B4B74F4040>, 'stylish': <__main__.Tags object at 0x000002B4B74F40A0>, 'stylized': <__main__.Tags object at 0x000002B4B74F4100>, 'submarine': <__main__.Tags object at 0x000002B4B74F4160>, 'suburbia': <__main__.Tags object at 0x000002B4B74F41C0>, 'suicide': <__main__.Tags object at 0x000002B4B74F4220>, 'suicide attempt': <__main__.Tags object at 0x000002B4B74F4280>, 'super hero': <__main__.Tags object at 0x000002B4B74F42E0>, 'super-hero': <__main__.Tags object at 0x000002B4B74F4340>, 'superhero': <__main__.Tags object at 0x000002B4B74F43A0>, 'superheroes': <__main__.Tags object at 0x000002B4B74F4400>, 'supernatural': <__main__.Tags object at 0x000002B4B74F4460>, 'suprisingly clever': <__main__.Tags object at 0x000002B4B74F44C0>, 'surfing': <__main__.Tags object at 0x000002B4B74F4520>, 'surprise ending': <__main__.Tags object at 0x000002B4B74F4580>, 'surreal': <__main__.Tags object at 0x000002B4B74F45E0>, 'surrealism': <__main__.Tags object at 0x000002B4B74F4640>, 'surveillance': <__main__.Tags object at 0x000002B4B74F46A0>, 'survival': <__main__.Tags object at 0x000002B4B74F4700>, 'suspense': <__main__.Tags object at 0x000002B4B74F4760>, 'suspenseful': <__main__.Tags object at 0x000002B4B74F47C0>, 'swashbuckler': <__main__.Tags object at 0x000002B4B74F4820>, 'swedish': <__main__.Tags object at 0x000002B4B74F4880>, 'sweet': <__main__.Tags object at 0x000002B4B74F48E0>, 'switching places': <__main__.Tags object at 0x000002B4B74F4940>, 'sword fight': <__main__.Tags object at 0x000002B4B74F49A0>, 'sword fighting': <__main__.Tags object at 0x000002B4B74F4A00>, 'talking animals': <__main__.Tags object at 0x000002B4B74F4A60>, 'talky': <__main__.Tags object at 0x000002B4B74F4AC0>, 'tarantino': <__main__.Tags object at 0x000002B4B74F4B20>, 'teacher': <__main__.Tags object at 0x000002B4B74F4B80>, 'tear jerker': <__main__.Tags object at 0x000002B4B74F4BE0>, 'technology': <__main__.Tags object at 0x000002B4B74F4C40>, 'teen': <__main__.Tags object at 0x000002B4B74F4CA0>, 'teen movie': <__main__.Tags object at 0x000002B4B74F4D00>, 'teenager': <__main__.Tags object at 0x000002B4B74F4D60>, 'teenagers': <__main__.Tags object at 0x000002B4B74F4DC0>, 'teens': <__main__.Tags object at 0x000002B4B74F4E20>, 'teleportation': <__main__.Tags object at 0x000002B4B74F4E80>, 'television': <__main__.Tags object at 0x000002B4B74F4EE0>, 'tense': <__main__.Tags object at 0x000002B4B74F4F40>, 'terminal illness': <__main__.Tags object at 0x000002B4B74F4FA0>, 'terrorism': <__main__.Tags object at 0x000002B4B74F5000>, 'texas': <__main__.Tags object at 0x000002B4B74F5060>, 'thought-provoking': <__main__.Tags object at 0x000002B4B74F50C0>, 'thriller': <__main__.Tags object at 0x000002B4B74F5120>, 'time': <__main__.Tags object at 0x000002B4B74F5180>, 'time loop': <__main__.Tags object at 0x000002B4B74F51E0>, 'time travel': <__main__.Tags object at 0x000002B4B74F5240>, 'tokyo': <__main__.Tags object at 0x000002B4B74F52A0>, 'tolkien': <__main__.Tags object at 0x000002B4B74F5300>, 'tom clancy': <__main__.Tags object at 0x000002B4B74F5360>, 'too long': <__main__.Tags object at 0x000002B4B74F53C0>, 'too short': <__main__.Tags object at 0x000002B4B74F5420>, 'torture': <__main__.Tags object at 0x000002B4B74F5480>, 'touching': <__main__.Tags object at 0x000002B4B74F54E0>, 'toys': <__main__.Tags object at 0x000002B4B74F5540>, 'tragedy': <__main__.Tags object at 0x000002B4B74F55A0>, 'train': <__main__.Tags object at 0x000002B4B74F5600>, 'trains': <__main__.Tags object at 0x000002B4B74F5660>, 'transformation': <__main__.Tags object at 0x000002B4B74F56C0>, 'transgender': <__main__.Tags object at 0x000002B4B74F5720>, 'travel': <__main__.Tags object at 0x000002B4B74F5780>, 'treasure': <__main__.Tags object at 0x000002B4B74F57E0>, 'treasure hunt': <__main__.Tags object at 0x000002B4B74F5840>, 'tricky': <__main__.Tags object at 0x000002B4B74F58A0>, 'trilogy': <__main__.Tags object at 0x000002B4B74F5900>, 'true story': <__main__.Tags object at 0x000002B4B74F5960>, 'truman capote': <__main__.Tags object at 0x000002B4B74F59C0>, 'twist': <__main__.Tags object at 0x000002B4B74F5A20>, 'twist ending': <__main__.Tags object at 0x000002B4B74F5A80>, 'twists & turns': <__main__.Tags object at 0x000002B4B74F5AE0>, 'undercover cop': <__main__.Tags object at 0x000002B4B74F5B40>, 'underdog': <__main__.Tags object at 0x000002B4B74F5BA0>, 'underrated': <__main__.Tags object at 0x000002B4B74F5C00>, 'understated': <__main__.Tags object at 0x000002B4B74F5C60>, 'underwater': <__main__.Tags object at 0x000002B4B74F5CC0>, 'unfunny': <__main__.Tags object at 0x000002B4B74F5D20>, 'unintentionally funny': <__main__.Tags object at 0x000002B4B74F5D80>, 'unique': <__main__.Tags object at 0x000002B4B74F5DE0>, 'united nations': <__main__.Tags object at 0x000002B4B74F5E40>, 'unlikeable characters': <__main__.Tags object at 0x000002B4B74F5EA0>, 'unlikely friendships': <__main__.Tags object at 0x000002B4B74F5F00>, 'unrealistic': <__main__.Tags object at 0x000002B4B74F5F60>, 'unusual plot structure': <__main__.Tags object at 0x000002B4B74F5FC0>, 'us history': <__main__.Tags object at 0x000002B4B74F6020>, 'utopia': <__main__.Tags object at 0x000002B4B74F6080>, 'vampire': <__main__.Tags object at 0x000002B4B74F60E0>, 'vampire human love': <__main__.Tags object at 0x000002B4B74F6140>, 'vampires': <__main__.Tags object at 0x000002B4B74F61A0>, 'vengeance': <__main__.Tags object at 0x000002B4B74F6200>, 'very funny': <__main__.Tags object at 0x000002B4B74F6260>, 'very good': <__main__.Tags object at 0x000002B4B74F62C0>, 'very interesting': <__main__.Tags object at 0x000002B4B74F6320>, 'video game': <__main__.Tags object at 0x000002B4B74F6380>, 'video game adaptation': <__main__.Tags object at 0x000002B4B74F63E0>, 'video games': <__main__.Tags object at 0x000002B4B74F6440>, 'videogame': <__main__.Tags object at 0x000002B4B74F64A0>, 'vienna': <__main__.Tags object at 0x000002B4B74F6500>, 'vietnam': <__main__.Tags object at 0x000002B4B74F6560>, 'vietnam war': <__main__.Tags object at 0x000002B4B74F65C0>, 'view askew': <__main__.Tags object at 0x000002B4B74F6620>, 'vigilante': <__main__.Tags object at 0x000002B4B74F6680>, 'vigilantism': <__main__.Tags object at 0x000002B4B74F66E0>, 'violence': <__main__.Tags object at 0x000002B4B74F6740>, 'violent': <__main__.Tags object at 0x000002B4B74F67A0>, 'virginity': <__main__.Tags object at 0x000002B4B74F6800>, 'virtual reality': <__main__.Tags object at 0x000002B4B74F6860>, 'virus': <__main__.Tags object at 0x000002B4B74F68C0>, 'visceral': <__main__.Tags object at 0x000002B4B74F6920>, 'visual': <__main__.Tags object at 0x000002B4B74F6980>, 'visually appealing': <__main__.Tags object at 0x000002B4B74F69E0>, 'visually stunning': <__main__.Tags object at 0x000002B4B74F6A40>, 'visuals': <__main__.Tags object at 0x000002B4B74F6AA0>, 'voodoo': <__main__.Tags object at 0x000002B4B74F6B00>, 'voyeurism': <__main__.Tags object at 0x000002B4B74F6B60>, 'war': <__main__.Tags object at 0x000002B4B74F6BC0>, 'war movie': <__main__.Tags object at 0x000002B4B74F6C20>, 'wartime': <__main__.Tags object at 0x000002B4B74F6C80>, 'waste of time': <__main__.Tags object at 0x000002B4B74F6CE0>, 'watch the credits': <__main__.Tags object at 0x000002B4B74F6D40>, 'weapons': <__main__.Tags object at 0x000002B4B74F6DA0>, 'wedding': <__main__.Tags object at 0x000002B4B74F6E00>, 'weed': <__main__.Tags object at 0x000002B4B74F6E60>, 'weird': <__main__.Tags object at 0x000002B4B74F6EC0>, 'werewolf': <__main__.Tags object at 0x000002B4B74F6F20>, 'werewolves': <__main__.Tags object at 0x000002B4B74F6F80>, 'western': <__main__.Tags object at 0x000002B4B74F6FE0>, 'whimsical': <__main__.Tags object at 0x000002B4B74F7040>, 'wilderness': <__main__.Tags object at 0x000002B4B74F70A0>, 'wine': <__main__.Tags object at 0x000002B4B74F7100>, 'wistful': <__main__.Tags object at 0x000002B4B74F7160>, 'witch': <__main__.Tags object at 0x000002B4B74F71C0>, 'witches': <__main__.Tags object at 0x000002B4B74F7220>, 'witty': <__main__.Tags object at 0x000002B4B74F7280>, 'wizards': <__main__.Tags object at 0x000002B4B74F72E0>, 'women': <__main__.Tags object at 0x000002B4B74F7340>, 'working class': <__main__.Tags object at 0x000002B4B74F73A0>, 'workplace': <__main__.Tags object at 0x000002B4B74F7400>, 'world politics': <__main__.Tags object at 0x000002B4B74F7460>, 'world war i': <__main__.Tags object at 0x000002B4B74F74C0>, 'world war ii': <__main__.Tags object at 0x000002B4B74F7520>, \"writer's life\": <__main__.Tags object at 0x000002B4B74F7580>, 'writers': <__main__.Tags object at 0x000002B4B74F75E0>, 'writing': <__main__.Tags object at 0x000002B4B74F7640>, 'wuxia': <__main__.Tags object at 0x000002B4B74F76A0>, 'wwii': <__main__.Tags object at 0x000002B4B74F7700>, 'zombie': <__main__.Tags object at 0x000002B4B74F7760>, 'zombies': <__main__.Tags object at 0x000002B4B74F77C0>}\n"
     ]
    }
   ],
   "source": [
    "\n",
    "class Tags:\n",
    "    def __init__(self, tag_id, tag_name):\n",
    "        self.tags_relevance = [0] * 1128\n",
    "        self.tag_id = tag_id\n",
    "        self.tag_name = tag_name\n",
    "\n",
    "    def set_tag_relevance_vector(self, tags_relevance):\n",
    "        self.tags_relevance = tags_relevance\n",
    "\n",
    "\n",
    "\n",
    "def create_tag_list():\n",
    "    tags_dict = {}\n",
    "    genome_tags = pd.read_csv('genome-tags.csv')\n",
    "\n",
    "    for i in range(len(genome_tags)):\n",
    "\n",
    "        tag = Tags(genome_tags['tagId'][i], genome_tags['tag'][i])\n",
    "        tags_dict[tag.tag_name] = tag\n",
    "\n",
    "    return tags_dict\n",
    "\n",
    "\n",
    "def create_tags_id_lookup_table():\n",
    "    genres = pd.read_csv('genome-tags.csv')\n",
    "    tags_lookup_table = {}\n",
    "    for index in range(len(genres)):\n",
    "        tags_lookup_table[genres['tag'][index]] = genres['tagId'][index]\n",
    "        index += 1\n",
    "    return tags_lookup_table\n",
    "\n",
    "\n",
    "lookup_table_tags = create_tags_id_lookup_table()\n",
    "tags_list = create_tag_list()\n",
    "\n",
    "\n",
    "#\n",
    "\n",
    "\n",
    "\n",
    "def user_tag_search(tag_list):\n",
    "    pass\n",
    "\n",
    "\n"
   ]
  },
  {
   "cell_type": "code",
   "execution_count": null,
   "outputs": [],
   "source": [],
   "metadata": {
    "collapsed": false
   }
  }
 ],
 "metadata": {
  "kernelspec": {
   "display_name": ".venv",
   "language": "python",
   "name": "python3"
  },
  "language_info": {
   "codemirror_mode": {
    "name": "ipython",
    "version": 3
   },
   "file_extension": ".py",
   "mimetype": "text/x-python",
   "name": "python",
   "nbconvert_exporter": "python",
   "pygments_lexer": "ipython3",
   "version": "3.10.7"
  },
  "vscode": {
   "interpreter": {
    "hash": "1f6f13b05dbb56b424638b5b05df7e75f24b9a95478ea20b2b714e16a407293f"
   }
  }
 },
 "nbformat": 4,
 "nbformat_minor": 4
}
