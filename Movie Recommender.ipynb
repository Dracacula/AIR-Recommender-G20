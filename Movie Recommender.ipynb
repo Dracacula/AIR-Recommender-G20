{
 "cells": [
  {
   "attachments": {},
   "cell_type": "markdown",
   "metadata": {
    "pycharm": {
     "name": "#%% md\n"
    }
   },
   "source": [
    "# Advanced Information Retrieval - Project\n",
    "\n",
    "### Organizational infos:\n",
    "* 30 Points in total\n",
    "* Deadline: 09.01.2023 23:59"
   ]
  },
  {
   "cell_type": "code",
   "execution_count": 141,
   "metadata": {
    "pycharm": {
     "name": "#%%\n"
    }
   },
   "outputs": [],
   "source": [
    "#imports \n",
    "import pandas as pd\n",
    "import numpy as np\n",
    "import random\n",
    "import ast\n",
    "\n",
    "from torch import nn\n",
    "import torch\n",
    "from nltk.tokenize import WhitespaceTokenizer\n"
   ]
  },
  {
   "attachments": {},
   "cell_type": "markdown",
   "metadata": {
    "pycharm": {
     "name": "#%% md\n"
    }
   },
   "source": [
    "## Movie struct\n",
    "Create a struct that contains all  the movie relevant Information to work with.\n",
    "Could be changed at any given time.\n"
   ]
  },
  {
   "attachments": {},
   "cell_type": "markdown",
   "metadata": {
    "pycharm": {
     "name": "#%% md\n"
    }
   },
   "source": [
    "**Define all relevante class attributes**"
   ]
  },
  {
   "cell_type": "code",
   "execution_count": 183,
   "metadata": {},
   "outputs": [],
   "source": [
    "class Movie:\n",
    "    def __init__(self, id, name, genres):\n",
    "        self.id = id\n",
    "        self.name = name\n",
    "        self.genres = genres\n",
    "        self.tagsRelevance = [0] * 1128\n",
    "\n",
    "    def SetTagRelevanceVector(self, tagsRelevance):\n",
    "        self.tagsRelevance = tagsRelevance\n",
    "    \n",
    "    def SetSumRatings(self, userRatings):\n",
    "        self.rating = userRatings"
   ]
  },
  {
   "attachments": {},
   "cell_type": "markdown",
   "metadata": {},
   "source": [
    "**Create A List of Movies and a look up Table for the Genres for later usage.**"
   ]
  },
  {
   "attachments": {},
   "cell_type": "markdown",
   "metadata": {},
   "source": [
    "The Genres could also be used for a similarity measurement so i just saved the just in case.\n",
    "Also i am not to sure if genre-14 (Imax) should really be inluded. "
   ]
  },
  {
   "cell_type": "code",
   "execution_count": 143,
   "metadata": {},
   "outputs": [],
   "source": [
    "\n",
    "def CreateMovieList(lookUpGenre):\n",
    "    allMovies = {}\n",
    "    moviedocs = pd.read_csv('movies.csv')\n",
    "    lookUpIndex = 1\n",
    "\n",
    "    for i in range(len(moviedocs)):\n",
    "        movieGenres = moviedocs['genres'][i]\n",
    "        movieGenresList = movieGenres.split('|')\n",
    "        movieGenresNumericalList = []\n",
    "        for word in movieGenresList:\n",
    "            if word not in lookUpGenre:\n",
    "                lookUpGenre[word] = lookUpIndex\n",
    "                lookUpIndex += 1\n",
    "\n",
    "            movieGenresNumericalList.append(lookUpGenre[word])\n",
    "        movie = Movie(moviedocs['movieId'][i], moviedocs['title'][i], movieGenresNumericalList)\n",
    "\n",
    "        allMovies[movie.id] = movie\n",
    "    return allMovies\n",
    "    "
   ]
  },
  {
   "attachments": {},
   "cell_type": "markdown",
   "metadata": {},
   "source": [
    "**Adds the Genom Score relevances to the Movies**"
   ]
  },
  {
   "attachments": {},
   "cell_type": "markdown",
   "metadata": {},
   "source": [
    "The genom score is the relevances the tags have to the movies. We also have a csv file mapping the tags to an index.\n",
    "So i created a tags look up table."
   ]
  },
  {
   "cell_type": "code",
   "execution_count": 144,
   "metadata": {},
   "outputs": [],
   "source": [
    "def AddGenoScoresToMovies(movieList):\n",
    "    genomeScores = pd.read_csv('genome-scores.csv')\n",
    "    movieTagsRelevance = []\n",
    "    movieId = genomeScores['movieId'][0]\n",
    "    for i in range(len(genomeScores)):\n",
    "        if genomeScores['movieId'][i] != movieId:\n",
    "            movieList[movieId].SetTagRelevanceVector(movieTagsRelevance.copy())\n",
    "            movieId = genomeScores['movieId'][i]\n",
    "            movieTagsRelevance.clear()\n",
    "        \n",
    "        movieTagsRelevance.append(genomeScores['relevance'][i])\n",
    "    movieList[movieId].SetTagRelevanceVector(movieTagsRelevance)\n",
    "    return\n",
    "\n",
    "def CreateTagsLookUpTable():\n",
    "    genres = pd.read_csv('genome-tags.csv')\n",
    "    tagsLookUpTable = {}\n",
    "    for index in range(len(genres)):\n",
    "        tagsLookUpTable[genres['tagId'][index]] = genres['tag'][index]\n",
    "        index += 1\n",
    "    return tagsLookUpTable"
   ]
  },
  {
   "attachments": {},
   "cell_type": "markdown",
   "metadata": {
    "pycharm": {
     "name": "#%% md\n"
    }
   },
   "source": [
    "**Using all the Functions above**\n"
   ]
  },
  {
   "cell_type": "markdown",
   "metadata": {},
   "source": [
    "well it's not takes a loot of time to add all the relevance scores..."
   ]
  },
  {
   "cell_type": "code",
   "execution_count": 145,
   "metadata": {
    "pycharm": {
     "name": "#%%\n"
    }
   },
   "outputs": [],
   "source": [
    "lookUpTableGenres = {}\n",
    "movies = CreateMovieList(lookUpTableGenres)\n",
    "AddGenoScoresToMovies(movies)\n",
    "lookUpTags = CreateTagsLookUpTable()\n"
   ]
  },
  {
   "attachments": {},
   "cell_type": "markdown",
   "metadata": {},
   "source": [
    "**Use the tags as a similarity measurement vector.**"
   ]
  },
  {
   "attachments": {},
   "cell_type": "markdown",
   "metadata": {},
   "source": [
    "Get a sorted List with a given size depending on the count. Uses the Cosine similiarity to calculate the tags similarity between movies."
   ]
  },
  {
   "cell_type": "code",
   "execution_count": 178,
   "metadata": {
    "pycharm": {
     "name": "#%%\n"
    }
   },
   "outputs": [],
   "source": [
    "\n",
    "def calc_cosine(movieOne, movieTwo):\n",
    "\n",
    "    d_1 = 0\n",
    "    d_2 = 0\n",
    "    numerator = 0\n",
    "    for index in range(len(movieOne)):\n",
    "        numerator += movieOne[index] * movieTwo[index]\n",
    "        d_1 += movieOne[index] * movieOne[index]\n",
    "        d_2 += movieTwo[index] * movieTwo[index]\n",
    "\n",
    "    denominator = np.sqrt(d_1) * np.sqrt(d_2)\n",
    "    res = numerator / denominator\n",
    "    return res\n",
    "\n",
    "\n",
    "def GetTopTagsCosineSims(count, movies, query):\n",
    "    \n",
    "    if query.tagsRelevance.count(0) == 1128:\n",
    "        return -1\n",
    "        \n",
    "    smiliarMovies = {}\n",
    "    simValues = []\n",
    "    \n",
    "    for mID in movies:\n",
    "        if movies[mID].name == query.name or movies[mID].tagsRelevance.count(0) == 1128:\n",
    "            continue\n",
    "        # print(movies[mID].id)\n",
    "        sim = calc_cosine(movies[mID].tagsRelevance, query.tagsRelevance)\n",
    "        simValues.append(sim)\n",
    "        smiliarMovies[sim] = movies[mID].name\n",
    "\n",
    "    TopSimilar = {}\n",
    "    for i in range(count):\n",
    "        v = max(simValues)\n",
    "        TopSimilar[v] = smiliarMovies[v]\n",
    "        simValues.remove(v)\n",
    "    return TopSimilar\n",
    "\n",
    "def PrintCosineSimilarity(similarMovies):\n",
    "    if similarMovies != -1:\n",
    "        print(\"Query: \", query.name)\n",
    "        print(\"similar Movies: \")\n",
    "        count = 1\n",
    "        for sim in similarMovies:\n",
    "            print(count, similarMovies[sim] + \":\", sim)\n",
    "            count += 1\n",
    "    else:\n",
    "        print(\"Query deosn't have tags!\")\n"
   ]
  },
  {
   "attachments": {},
   "cell_type": "markdown",
   "metadata": {},
   "source": [
    "**Create a query and get/prints the movies with similar tags**"
   ]
  },
  {
   "cell_type": "markdown",
   "metadata": {},
   "source": [
    "Uses the functions above to print the query result."
   ]
  },
  {
   "cell_type": "code",
   "execution_count": 182,
   "metadata": {},
   "outputs": [
    {
     "name": "stdout",
     "output_type": "stream",
     "text": [
      "Query:  Nixon (1995)\n",
      "similar Movies: \n",
      "1 W. (2008): 0.898684222596803\n",
      "2 Frost/Nixon (2008): 0.8962395213875662\n",
      "3 All the Way (2016): 0.8767361489669332\n",
      "4 Game Change (2012): 0.8752736941131876\n",
      "5 Recount (2008): 0.8728194328037542\n",
      "6 Jackie (2016): 0.8687068652182196\n",
      "7 JFK (1991): 0.8653865668089108\n",
      "8 Selma (2014): 0.8602333401779444\n",
      "9 Last King of Scotland, The (2006): 0.8600663714796437\n",
      "10 Primary Colors (1998): 0.8574306675812458\n"
     ]
    }
   ],
   "source": [
    "query = movies[14]\n",
    "count = 10\n",
    "\n",
    "similarMovies = GetTopTagsCosineSims(count, movies, query)\n",
    "PrintCosineSimilarity(similarMovies)\n"
   ]
  },
  {
   "attachments": {},
   "cell_type": "markdown",
   "metadata": {},
   "source": [
    "# User Struct ...NOT FINISHED...\n",
    "\n",
    "A struct that contains the user ratings and also the tags the user choosed for a movie."
   ]
  },
  {
   "cell_type": "code",
   "execution_count": 208,
   "metadata": {},
   "outputs": [],
   "source": [
    "class User:\n",
    "    def __init__(self, id, usersMovieDic):\n",
    "        self.id = id\n",
    "        self.usersMovieDic = usersMovieDic\n",
    "\n",
    "    def SetTag(self, tagsRelevance):\n",
    "        self.tagsRelevance = tagsRelevance\n",
    "\n",
    "class UserMovieRating:\n",
    "    def __init__(self, id, rating):\n",
    "        self.id = id\n",
    "        self.rating = rating\n",
    "        tags = 0\n",
    "\n",
    "    def SetTags(self, tags):\n",
    "        self.tags = tags"
   ]
  },
  {
   "attachments": {},
   "cell_type": "markdown",
   "metadata": {},
   "source": [
    "**Creates a list in User with every movie ranked by the User**"
   ]
  },
  {
   "attachments": {},
   "cell_type": "markdown",
   "metadata": {},
   "source": [
    "takes 4 minutes..."
   ]
  },
  {
   "cell_type": "code",
   "execution_count": 222,
   "metadata": {},
   "outputs": [],
   "source": [
    "# userId,movieId,rating,timestamp\n",
    "def CreateUsers():\n",
    "    ratings = pd.read_csv('ratings.csv')\n",
    "    UserDic = {}\n",
    "    allUserRatings = {}\n",
    "    userId = ratings['userId'][0]\n",
    "    for i in range(len(ratings)):\n",
    "        if ratings['userId'][i] != userId:\n",
    "            newUser = User(userId, allUserRatings.copy())      \n",
    "            userId = ratings['userId'][i]\n",
    "            UserDic[newUser.id] = newUser\n",
    "            allUserRatings.clear()\n",
    "\n",
    "        movie = UserMovieRating(ratings['movieId'][i], ratings['rating'][i])\n",
    "        allUserRatings[movie.id] = movie\n",
    "\n",
    "    newUser = User(userId, allUserRatings.copy())\n",
    "    UserDic[newUser.id] = newUser\n",
    "\n",
    "    return UserDic\n",
    "\n",
    "\n",
    "users = CreateUsers()\n"
   ]
  },
  {
   "attachments": {},
   "cell_type": "markdown",
   "metadata": {},
   "source": [
    "**[not finished part] not every rated movie has a tag vice versa have to rework the User struct**"
   ]
  },
  {
   "cell_type": "code",
   "execution_count": 224,
   "metadata": {},
   "outputs": [
    {
     "name": "stdout",
     "output_type": "stream",
     "text": [
      "2\n",
      "4\n",
      "5\n",
      "6\n",
      "7\n",
      "10\n",
      "11\n"
     ]
    },
    {
     "ename": "KeyError",
     "evalue": "164909",
     "output_type": "error",
     "traceback": [
      "\u001b[1;31m---------------------------------------------------------------------------\u001b[0m",
      "\u001b[1;31mKeyError\u001b[0m                                  Traceback (most recent call last)",
      "Cell \u001b[1;32mIn [224], line 22\u001b[0m\n\u001b[0;32m     17\u001b[0m         tagsToAdd\u001b[39m.\u001b[39mappend(userTags[\u001b[39m'\u001b[39m\u001b[39mtag\u001b[39m\u001b[39m'\u001b[39m][i])\n\u001b[0;32m     19\u001b[0m     activeUser\u001b[39m.\u001b[39muserMovieDic[userTags[\u001b[39m'\u001b[39m\u001b[39mmovieId\u001b[39m\u001b[39m'\u001b[39m][i]]\u001b[39m.\u001b[39mSetTags(tagsToAdd\u001b[39m.\u001b[39mcopy())\n\u001b[1;32m---> 22\u001b[0m UserDefinedTag(users) \n",
      "Cell \u001b[1;32mIn [224], line 12\u001b[0m, in \u001b[0;36mUserDefinedTag\u001b[1;34m(allUsers)\u001b[0m\n\u001b[0;32m     10\u001b[0m \u001b[39mif\u001b[39;00m movieId \u001b[39m!=\u001b[39m userTags[\u001b[39m'\u001b[39m\u001b[39mmovieId\u001b[39m\u001b[39m'\u001b[39m][i] \u001b[39mor\u001b[39;00m activeUser\u001b[39m.\u001b[39mid \u001b[39m!=\u001b[39m userTags[\u001b[39m'\u001b[39m\u001b[39muserId\u001b[39m\u001b[39m'\u001b[39m][i]:\n\u001b[0;32m     11\u001b[0m     \u001b[39mprint\u001b[39m(i)\n\u001b[1;32m---> 12\u001b[0m     activeUser\u001b[39m.\u001b[39;49musersMovieDic[userTags[\u001b[39m'\u001b[39;49m\u001b[39mmovieId\u001b[39;49m\u001b[39m'\u001b[39;49m][i]]\u001b[39m.\u001b[39mSetTags(tagsToAdd\u001b[39m.\u001b[39mcopy())\n\u001b[0;32m     13\u001b[0m     tagsToAdd\u001b[39m.\u001b[39mclear()\n\u001b[0;32m     14\u001b[0m     movieId \u001b[39m=\u001b[39m userTags[\u001b[39m'\u001b[39m\u001b[39mmovieId\u001b[39m\u001b[39m'\u001b[39m][i]\n",
      "\u001b[1;31mKeyError\u001b[0m: 164909"
     ]
    }
   ],
   "source": [
    "#userId,movieId,tag,timestamp\n",
    "def UserDefinedTag(allUsers):\n",
    "    userTags = pd.read_csv('tags.csv')\n",
    "\n",
    "    activeUser = allUsers[userTags['userId'][0]]\n",
    "    tagsToAdd = []  ##first without lookuptable\n",
    "    \n",
    "    movieId = userTags['movieId'][0]\n",
    "    for i in range(len(userTags)):\n",
    "        if movieId != userTags['movieId'][i] or activeUser.id != userTags['userId'][i]:\n",
    "            print(i)\n",
    "            activeUser.usersMovieDic[userTags['movieId'][i]].SetTags(tagsToAdd.copy())\n",
    "            tagsToAdd.clear()\n",
    "            movieId = userTags['movieId'][i]\n",
    "            activeUser = allUsers[userTags['userId'][i]]\n",
    "\n",
    "        tagsToAdd.append(userTags['tag'][i])\n",
    "    \n",
    "    activeUser.userMovieDic[userTags['movieId'][i]].SetTags(tagsToAdd.copy())\n",
    "\n",
    "\n",
    "UserDefinedTag(users) \n"
   ]
  },
  {
   "cell_type": "markdown",
   "metadata": {},
   "source": [
    "# Diffenrent Query ideas\n",
    "* search depending on tags\n",
    "* search depending on title similarity with than searches for a similar movie\n",
    "* seach query for getting ranking based best movie in specific genre"
   ]
  },
  {
   "cell_type": "code",
   "execution_count": null,
   "metadata": {},
   "outputs": [],
   "source": []
  }
 ],
 "metadata": {
  "kernelspec": {
   "display_name": "Python 3.10.8 64-bit (microsoft store)",
   "language": "python",
   "name": "python3"
  },
  "language_info": {
   "codemirror_mode": {
    "name": "ipython",
    "version": 3
   },
   "file_extension": ".py",
   "mimetype": "text/x-python",
   "name": "python",
   "nbconvert_exporter": "python",
   "pygments_lexer": "ipython3",
   "version": "3.10.9"
  },
  "vscode": {
   "interpreter": {
    "hash": "da3ac80dfd32d6bcda3ee285f394072c7bb8dfa40397edd1d8e4ae25456395eb"
   }
  }
 },
 "nbformat": 4,
 "nbformat_minor": 4
}
