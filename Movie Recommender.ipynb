{
 "cells": [
  {
   "attachments": {},
   "cell_type": "markdown",
   "metadata": {},
   "source": [
    "# Advanced Information Retrieval - Project\n",
    "\n",
    "### Organizational infos:\n",
    "* 30 Points in total\n",
    "* Deadline: 09.01.2023 23:59"
   ]
  },
  {
   "cell_type": "code",
   "execution_count": null,
   "metadata": {},
   "outputs": [],
   "source": [
    "#imports\n",
    "\n",
    "import pandas as pd\n",
    "import numpy as np\n",
    "import random\n",
    "import ast\n",
    "import gensim\n",
    "from torch import nn\n",
    "import torch\n",
    "from nltk.tokenize import WhitespaceTokenizer\n",
    "from scipy.stats import pearsonr\n",
    "from thefuzz import fuzz\n",
    "from thefuzz import process"
   ]
  },
  {
   "attachments": {},
   "cell_type": "markdown",
   "metadata": {},
   "source": [
    "## Movie struct\n",
    "Create a struct that contains all  the movie relevant Information to work with.\n",
    "Could be changed at any given time.\n"
   ]
  },
  {
   "attachments": {},
   "cell_type": "markdown",
   "metadata": {},
   "source": [
    "**Define all relevante class attributes**"
   ]
  },
  {
   "cell_type": "code",
   "execution_count": null,
   "metadata": {},
   "outputs": [],
   "source": [
    "class Movie:\n",
    "    def __init__(self, id, name, genres):\n",
    "        self.id = id\n",
    "        self.name = name\n",
    "        self.genres = genres\n",
    "        self.tagsRelevance = [0] * 1128\n",
    "        self.tagsList = []\n",
    "        self.ratingCount = 0\n",
    "        self.ratingSum = 0\n",
    "        self.rating = 0\n",
    "\n",
    "    def SetTagRelevanceVector(self, tagsRelevance):\n",
    "        self.tagsRelevance = tagsRelevance\n",
    "\n",
    "    def SetTagsList(self, tagsList):\n",
    "        self.tagsList = tagsList\n",
    "    \n",
    "    def SetSumRatings(self, userRatings):\n",
    "        self.rating = userRatings\n",
    "    \n",
    "    def AddRatingCount(self, userRating):\n",
    "        self.ratingCount += 1\n",
    "        self.ratingSum += userRating\n",
    "        self.rating = self.ratingSum / self.ratingCount\n",
    "    "
   ]
  },
  {
   "attachments": {},
   "cell_type": "markdown",
   "metadata": {},
   "source": [
    "**Create A List of Movies and a look up Table for the Genres for later usage.**"
   ]
  },
  {
   "attachments": {},
   "cell_type": "markdown",
   "metadata": {},
   "source": [
    "The Genres could also be used for a similarity measurement so i just saved the just in case.\n",
    "Also i am not to sure if genre-14 (Imax) should really be inluded. "
   ]
  },
  {
   "cell_type": "code",
   "execution_count": null,
   "metadata": {},
   "outputs": [],
   "source": [
    "\n",
    "def CreateMovieList(lookUpGenre):\n",
    "    allMovies = {}\n",
    "    moviedocs = pd.read_csv('movies.csv')\n",
    "    lookUpIndex = 1\n",
    "\n",
    "    for i in range(len(moviedocs)):\n",
    "        movieGenres = moviedocs['genres'][i]\n",
    "        movieGenresList = movieGenres.split('|')\n",
    "        movieGenresNumericalList = []\n",
    "        for word in movieGenresList:\n",
    "            if word not in lookUpGenre:\n",
    "                lookUpGenre[word] = lookUpIndex\n",
    "                lookUpIndex += 1\n",
    "\n",
    "            movieGenresNumericalList.append(lookUpGenre[word])\n",
    "        movie = Movie(moviedocs['movieId'][i], moviedocs['title'][i], movieGenresNumericalList)\n",
    "\n",
    "        allMovies[movie.id] = movie\n",
    "    return allMovies\n",
    "    "
   ]
  },
  {
   "attachments": {},
   "cell_type": "markdown",
   "metadata": {},
   "source": [
    "**Adds the Genom Score relevances to the Movies**"
   ]
  },
  {
   "attachments": {},
   "cell_type": "markdown",
   "metadata": {},
   "source": [
    "The genom score is the relevances the tags have to the movies. We also have a csv file mapping the tags to an index.\n",
    "So i created a tags look up table."
   ]
  },
  {
   "cell_type": "code",
   "execution_count": null,
   "metadata": {},
   "outputs": [],
   "source": [
    "def CreateTagsLookUpTable():\n",
    "    genres = pd.read_csv('genome-tags.csv')\n",
    "    tagsLookUpTable = {}\n",
    "    for index in range(len(genres)):\n",
    "        tagsLookUpTable[genres['tagId'][index]] = genres['tag'][index]\n",
    "        index += 1\n",
    "    return tagsLookUpTable\n",
    "\n",
    "tags_lookup_table = CreateTagsLookUpTable()\n",
    "\n",
    "\n",
    "def AddGenoScoresToMovies(movieList):\n",
    "    genomeScores = pd.read_csv('genome-scores.csv')\n",
    "    movieTagsRelevance = []\n",
    "    tags = []\n",
    "    movieId = genomeScores['movieId'][0]\n",
    "    for i in range(len(genomeScores)):\n",
    "        if genomeScores['movieId'][i] != movieId:\n",
    "            movieList[movieId].SetTagRelevanceVector(movieTagsRelevance.copy())\n",
    "            movieList[movieId].SetTagsList(tags.copy())\n",
    "            movieId = genomeScores['movieId'][i]\n",
    "            movieTagsRelevance.clear()\n",
    "            tags.clear()\n",
    "\n",
    "        tags.append(tags_lookup_table[genomeScores[\"tagId\"][i]])\n",
    "        movieTagsRelevance.append(genomeScores['relevance'][i])\n",
    "    movieList[movieId].SetTagRelevanceVector(movieTagsRelevance)\n",
    "    return\n",
    "\n",
    "\n",
    "genomeScores = pd.read_csv('genome-scores.csv')\n",
    "print(genomeScores['movieId'][0])\n",
    "print(genomeScores['relevance'][0])"
   ]
  },
  {
   "attachments": {},
   "cell_type": "markdown",
   "metadata": {},
   "source": [
    "**Using all the Functions above**\n"
   ]
  },
  {
   "attachments": {},
   "cell_type": "markdown",
   "metadata": {},
   "source": [
    "well it's not takes a lot of time to add all the relevance scores..."
   ]
  },
  {
   "cell_type": "code",
   "execution_count": null,
   "metadata": {},
   "outputs": [],
   "source": [
    "lookUpTableGenres = {}\n",
    "movies = CreateMovieList(lookUpTableGenres)\n",
    "AddGenoScoresToMovies(movies)\n",
    "lookUpTags = CreateTagsLookUpTable()\n",
    "\n"
   ]
  },
  {
   "attachments": {},
   "cell_type": "markdown",
   "metadata": {},
   "source": [
    "**Use the tags as a similarity measurement vector.**"
   ]
  },
  {
   "attachments": {},
   "cell_type": "markdown",
   "metadata": {},
   "source": [
    "Get a sorted List with a given size depending on the count. Uses the Cosine similiarity or Jaccard similarity to calculate the tags similarity between movies."
   ]
  },
  {
   "cell_type": "code",
   "execution_count": null,
   "metadata": {},
   "outputs": [],
   "source": [
    "print(movies[1].tagsList)\n",
    "def calc_cosine(movieOne, movieTwo):\n",
    "\n",
    "    d_1 = 0\n",
    "    d_2 = 0\n",
    "    numerator = 0\n",
    "    for index in range(len(movieOne)):\n",
    "        numerator += movieOne[index] * movieTwo[index]\n",
    "        d_1 += movieOne[index] * movieOne[index]\n",
    "        d_2 += movieTwo[index] * movieTwo[index]\n",
    "\n",
    "    denominator = np.sqrt(d_1) * np.sqrt(d_2)\n",
    "    res = numerator / denominator\n",
    "    return res\n",
    "\n",
    "\n",
    "def jaccard_sim(movie1,movie2):\n",
    "    number_both=set(movie1).intersection(set(movie2))\n",
    "    number_oberservations_in_either = len(movie1)+len(movie2)-len(number_both)\n",
    "    similarity= float(len(number_both)) / number_oberservations_in_either\n",
    "    return similarity\n",
    "\n",
    "\n",
    "def GetTopTagsCosineSims(count, movies, query):\n",
    "\n",
    "    #empty\n",
    "    if query.tagsRelevance.count(0) == 1128:\n",
    "        return -1\n",
    "        \n",
    "    smiliarMovies = {}\n",
    "    simValues = []\n",
    "    for mID in movies:\n",
    "        if movies[mID].name == query.name or movies[mID].tagsRelevance.count(0) == 1128:\n",
    "            continue\n",
    "        sim = calc_cosine(movies[mID].tagsRelevance, query.tagsRelevance)\n",
    "        simValues.append(sim)\n",
    "        smiliarMovies[sim] = movies[mID].name\n",
    "\n",
    "    TopSimilar = {}\n",
    "\n",
    "\n",
    "    for i in range(count):\n",
    "        v = max(simValues)\n",
    "        TopSimilar[v] = smiliarMovies[v]\n",
    "        simValues.remove(v)\n",
    "    return TopSimilar\n",
    "\n",
    "def get_top_tags_jaccard_sims(count, movies, query):\n",
    "\n",
    "    if query.tagsRelevance.count(0) == 1128:\n",
    "        return -1\n",
    "\n",
    "    smiliar_movies = {}\n",
    "    sim_values = []\n",
    "    for mID in movies:\n",
    "        if movies[mID].name == query.name or movies[mID].tagsRelevance.count(0) == 1128:\n",
    "            continue\n",
    "        sim = jaccard_sim(movies[mID].tagsRelevance, query.tagsRelevance)\n",
    "        sim_values.append(sim)\n",
    "        smiliar_movies[sim] = movies[mID].name\n",
    "\n",
    "    top_similar = {}\n",
    "\n",
    "    sim_values.sort(reverse=True)\n",
    "\n",
    "    for i in range(count):\n",
    "        top_similar[sim_values[i]] = smiliar_movies[sim_values[i]]\n",
    "    return top_similar\n",
    "\n",
    "\n",
    "def PrintSimilarity(similarMovies):\n",
    "    if similarMovies != -1:\n",
    "        #print(\"Query: \", query.name)\n",
    "        print(\"similar Movies: \")\n",
    "        count = 1\n",
    "        for sim in similarMovies:\n",
    "            print(count, similarMovies[sim] + \":\", sim)\n",
    "            count += 1\n",
    "    else:\n",
    "        print(\"Query deosn't have tags!\")\n"
   ]
  },
  {
   "cell_type": "markdown",
   "metadata": {
    "collapsed": false
   },
   "source": [
    "Get a sorted List with a given size depending on the count. Uses the Pearson Correlation Coefficient to calculate the tags similarity between movies."
   ]
  },
  {
   "cell_type": "code",
   "execution_count": null,
   "metadata": {
    "collapsed": false
   },
   "outputs": [],
   "source": [
    "def calcPearsonCoefficient(movie, query):\n",
    "    correlation, _ = pearsonr(movie, query)\n",
    "    return correlation\n",
    "\n",
    "def GetTopTagsPearsonCorrelation(count, movies, query):\n",
    "\n",
    "    if query.tagsRelevance.count(0) == 1128:\n",
    "        return -1\n",
    "\n",
    "    similarity = dict()\n",
    "    for mID in movies:\n",
    "        if movies[mID].name == query.name or movies[mID].tagsRelevance.count(0) == 1128:\n",
    "            continue\n",
    "        sim = calcPearsonCoefficient(movies[mID].tagsRelevance, query.tagsRelevance)\n",
    "        similarity[movies[mID].name] = sim\n",
    "\n",
    "    top_movies = dict()\n",
    "    for key in sorted(similarity, key=similarity.get, reverse=True)[:count]:\n",
    "        top_movies[key] = similarity[key]\n",
    "\n",
    "    return top_movies\n",
    "\n",
    "def PrintPearsonCorrelation(similarMovies):\n",
    "    if similarMovies != -1:\n",
    "        print(\"\\nQuery: \", query.name)\n",
    "        print(\"similar Movies according to Pearson Correlation Coefficient: \")\n",
    "        for idx, movie_key in enumerate(similarMovies):\n",
    "            print(idx + 1, str(movie_key) + \" : \" + str(similarMovies[movie_key]))\n",
    "    else:\n",
    "        print(\"Query deosn't have tags!\")"
   ]
  },
  {
   "attachments": {},
   "cell_type": "markdown",
   "metadata": {},
   "source": [
    "**Create a query and get/prints the movies with similar tags**"
   ]
  },
  {
   "cell_type": "markdown",
   "metadata": {},
   "source": [
    "Uses the functions above to print the query result."
   ]
  },
  {
   "cell_type": "code",
   "execution_count": null,
   "metadata": {},
   "outputs": [],
   "source": [
    "query = movies[4896]\n",
    "count = 10\n",
    "\n",
    "similarMovies = GetTopTagsCosineSims(count, movies, query)\n",
    "PrintSimilarity(similarMovies)\n",
    "\n",
    "similar_movies_with_jaccard = get_top_tags_jaccard_sims(count, movies, query)\n",
    "PrintSimilarity(similar_movies_with_jaccard)\n",
    "\n",
    "similarPearsonMovies = GetTopTagsPearsonCorrelation(count, movies, query)\n",
    "PrintPearsonCorrelation(similarPearsonMovies)\n"
   ]
  },
  {
   "attachments": {},
   "cell_type": "markdown",
   "metadata": {},
   "source": [
    "# Fuzzy Title Matching - Levenshtein\n",
    "\n",
    "Fuzzy matches the given title against all movie titles using the levenshtein distance"
   ]
  },
  {
   "cell_type": "code",
   "execution_count": null,
   "metadata": {},
   "outputs": [],
   "source": [
    "def fuzzyMatch(movies, user_title):\n",
    "    movie_titles = [movies[mID].name for mID in movies]\n",
    "    return process.extractOne(user_title, movie_titles, scorer=fuzz.partial_ratio)\n",
    "\n",
    "\n",
    "def GetMovieByName(searchQuery):\n",
    "    query = fuzzyMatch(movies, searchQuery)\n",
    "    searchedMovie = movies[1]\n",
    "    for movie in movies:\n",
    "        if movies[movie].name == query[0]:\n",
    "            searchedMovie = movies[movie]\n",
    "            break\n",
    "    return searchedMovie\n",
    "\n",
    "matched_title = fuzzyMatch(movies, \"Serch fo Spick\")\n",
    "print(matched_title)\n",
    "print(GetMovieByName(\"pider human\").name)"
   ]
  },
  {
   "attachments": {},
   "cell_type": "markdown",
   "metadata": {},
   "source": [
    "# Fuzzy Title Matching - TF-IDF w. Cosine Similarity\n",
    "Fuzzy matches the given title against all movies title using tf-idf and the cosine similarity measure"
   ]
  },
  {
   "cell_type": "code",
   "execution_count": null,
   "metadata": {},
   "outputs": [],
   "source": [
    "from sklearn.metrics.pairwise import cosine_similarity\n",
    "\n",
    "def getTitleTokens(title):\n",
    "    title = title.lower()\n",
    "    return [title[idx] + title[idx + 1] for idx in range(len(title) - 1)]\n",
    "\n",
    "def getAllDistinctTitleTokens(titles):\n",
    "    title_tokens = set()\n",
    "    for title in titles:\n",
    "        title_tokens.update(getTitleTokens(title))\n",
    "    return sorted(title_tokens)\n",
    "\n",
    "def getTF(titles, title_tokens):\n",
    "    tf_dict = dict.fromkeys(title_tokens, 0)\n",
    "    for title in titles:\n",
    "        for token in set(getTitleTokens(title)):\n",
    "            tf_dict[token] += 1\n",
    "    return tf_dict\n",
    "\n",
    "def getIDF(termFrequencyDict, num_titles, title_tokens):\n",
    "    idf_dict = dict.fromkeys(title_tokens, 0)\n",
    "    for token in title_tokens:\n",
    "        idf_dict[token] = np.log10(num_titles / (termFrequencyDict[token]))\n",
    "    return idf_dict\n",
    "\n",
    "def getTFIDF(title, title_tokens, idf_dict):\n",
    "    tfidf_dict = dict.fromkeys(title_tokens, 0)\n",
    "    for token in set(getTitleTokens(title)):\n",
    "        tfidf_dict[token] += idf_dict[token]\n",
    "    return tfidf_dict\n",
    "\n",
    "def getMostSimilarTitles(similarty_dict, top_num):\n",
    "    top_titles = dict()\n",
    "    for key in sorted(similarty_dict, key=similarty_dict.get, reverse=True)[:top_num]:\n",
    "        top_titles[key] = similarty_dict[key]\n",
    "    return top_titles\n",
    "\n",
    "def cosineSimilarity(vector1, vector2):\n",
    "    d_1 = 0\n",
    "    d_2 = 0\n",
    "    numerator = 0\n",
    "    for v1, v2 in zip(vector1, vector2):\n",
    "        numerator += v1 * v2\n",
    "        d_1 += v1 ** 2\n",
    "        d_2 += v2 ** 2\n",
    "\n",
    "    d1_euclid = np.sqrt(d_1)\n",
    "    d2_euclid = np.sqrt(d_2)\n",
    "    denominator = (d1_euclid * d2_euclid) if (d1_euclid * d2_euclid) >= 0 else -(d1_euclid * d2_euclid)\n",
    "    return numerator / denominator\n",
    "    \n",
    "\n",
    "def fuzzyMatchTFIDF(user_title, titles):\n",
    "    titles = set([movies[mID].name for mID in movies] + [user_title])\n",
    "    title_tokens = getAllDistinctTitleTokens(titles)\n",
    "\n",
    "    tf_dict = getTF(titles, title_tokens)\n",
    "    idf_dict = getIDF(tf_dict, len(titles), title_tokens)\n",
    "    \n",
    "    user_title_dict = dict.fromkeys(title_tokens, 0)\n",
    "    for token in getTitleTokens(user_title):\n",
    "        user_title_dict[token] += idf_dict[token]\n",
    "\n",
    "    current_title_dict = dict.fromkeys(title_tokens, 0)\n",
    "    titles.remove(user_title)\n",
    "    similarity_dict = dict()\n",
    "    for title in titles:\n",
    "        current_title_dict = getTFIDF(title, title_tokens, idf_dict)\n",
    "        similarity_dict[title] = cosine_similarity([list(current_title_dict.values())], [list(user_title_dict.values())])[0][0]\n",
    "\n",
    "    return similarity_dict\n",
    "\n",
    "similarity_dict = fuzzyMatchTFIDF(\"Ded and living\", movies)\n",
    "top_similar_titles = getMostSimilarTitles(similarity_dict, 10)\n",
    "print(top_similar_titles)\n"
   ]
  },
  {
   "attachments": {},
   "cell_type": "markdown",
   "metadata": {},
   "source": [
    "# User Struct\n",
    "\n",
    "A struct that contains the user ratings and also the tags the user choosed for a movie."
   ]
  },
  {
   "cell_type": "code",
   "execution_count": null,
   "metadata": {},
   "outputs": [],
   "source": [
    "class User:\n",
    "    def __init__(self, id):\n",
    "        self.id = id\n",
    "        self.movieRatings = {}\n",
    "        self.movieTags = {}\n",
    "        self.genomMovieTags = {}\n",
    "    \n",
    "    def AddRating(self, movie, rating):\n",
    "        self.movieRatings[movie] = rating\n",
    "    \n",
    "    def AddTags(self, movie, tag):\n",
    "        if movie not in self.movieTags:\n",
    "            self.movieTags[movie] = []\n",
    "        self.movieTags[movie].append(tag)\n",
    "\n",
    "    def UpdateGenomTags(self, lookUpTableGenom):\n",
    "        for movie in self.movieTags:\n",
    "            inside = list()\n",
    "            for tag in self.movieTags[movie]:\n",
    "                for values in lookUpTags:\n",
    "                    if lookUpTags[values] == tag:\n",
    "                        inside.append(values)\n",
    "                        \n",
    "            self.genomMovieTags[movie] = inside\n"
   ]
  },
  {
   "attachments": {},
   "cell_type": "markdown",
   "metadata": {},
   "source": [
    "**Creates a list in User with every movie ranked by the User the calculates the generel movie ratings**"
   ]
  },
  {
   "attachments": {},
   "cell_type": "markdown",
   "metadata": {},
   "source": [
    "takes 5 minutes..."
   ]
  },
  {
   "cell_type": "code",
   "execution_count": null,
   "metadata": {},
   "outputs": [],
   "source": [
    "# userId,movieId,rating,timestamp\n",
    "def CreateUsers(allMovies):\n",
    "    ratings = pd.read_csv('ratings.csv')\n",
    "    UserDic = {}\n",
    "    userId = -1\n",
    "\n",
    "    for i in range(len(ratings)):\n",
    "        movie = allMovies[ratings['movieId'][i]]\n",
    "        userID = ratings['userId'][i]\n",
    "        ratingsRow = ratings['rating'][i]\n",
    "\n",
    "        if userID != userId:\n",
    "            userId = userID\n",
    "            newUser = User(userId)      \n",
    "            UserDic[newUser.id] = newUser\n",
    "\n",
    "        newUser.AddRating(movie, ratingsRow)\n",
    "        movie.AddRatingCount(ratingsRow)\n",
    "    return UserDic\n",
    "\n",
    "users = CreateUsers(movies)\n"
   ]
  },
  {
   "cell_type": "code",
   "execution_count": null,
   "metadata": {},
   "outputs": [],
   "source": [
    "# 7045,4896,4.0\n",
    "print(movies[4896].name)\n",
    "print(\"Movie Rating:\", movies[4896].rating)\n",
    "print(\"Random User Rating: \", users[7045].movieRatings[movies[4896]])\n"
   ]
  },
  {
   "attachments": {},
   "cell_type": "markdown",
   "metadata": {},
   "source": [
    "**Addind tags that user rated on movies (not every rated movie has a tag vice versa)**"
   ]
  },
  {
   "cell_type": "code",
   "execution_count": null,
   "metadata": {},
   "outputs": [],
   "source": [
    "#userId,movieId,tag,timestamp\n",
    "def UserDefinedTag(allUsers, movies):\n",
    "    userTags = pd.read_csv('tags.csv')\n",
    "\n",
    "    activeUser = allUsers[userTags['userId'][0]]\n",
    "    \n",
    "    movie = movies[userTags['movieId'][0]]\n",
    "    for i in range(len(userTags)):\n",
    "        if activeUser.id != userTags['userId'][i]:\n",
    "            activeUser = allUsers[userTags['userId'][i]]\n",
    "\n",
    "        if movie.id != userTags['movieId'][i]:\n",
    "            movie = movies[userTags['movieId'][i]]\n",
    "\n",
    "        activeUser.AddTags(movie, userTags['tag'][i])\n",
    "       \n",
    "UserDefinedTag(users, movies) \n"
   ]
  },
  {
   "attachments": {},
   "cell_type": "markdown",
   "metadata": {},
   "source": [
    "**Adding the Genom tags in numerical form**"
   ]
  },
  {
   "cell_type": "code",
   "execution_count": null,
   "metadata": {},
   "outputs": [],
   "source": [
    "def SetGenomTags(allUsers):\n",
    "    for userId in allUsers:\n",
    "        allUsers[userId].UpdateGenomTags(lookUpTags)\n",
    "\n",
    "SetGenomTags(users)"
   ]
  },
  {
   "attachments": {},
   "cell_type": "markdown",
   "metadata": {},
   "source": [
    "# !!! Important !!!"
   ]
  },
  {
   "attachments": {},
   "cell_type": "markdown",
   "metadata": {},
   "source": [
    "**There are some Userdefined tags that arent in the 1128 tags** Example [Hayao Miyazaki,Miyazaki]"
   ]
  },
  {
   "attachments": {},
   "cell_type": "markdown",
   "metadata": {},
   "source": [
    "Should we create a new Table for all Tags? Or should we just change them into numbers and only work with the 1128 table?"
   ]
  },
  {
   "cell_type": "code",
   "execution_count": null,
   "metadata": {},
   "outputs": [],
   "source": [
    "# print(\"Movie:\", movies[7099].name)\n",
    "\n",
    "def CheckIfInLoopUpTable(genresToCheck):\n",
    "    inside = list()\n",
    "    keys = []\n",
    "    for item in genresToCheck:\n",
    "        for values in lookUpTags:\n",
    "            if lookUpTags[values] == item:\n",
    "                inside.append(item)\n",
    "                keys.append(values)\n",
    "\n",
    "    outside = list(set(genresToCheck) - set(inside))\n",
    "    print(\"Genres:\", genresToCheck)\n",
    "    print(\"Inside:\", inside)\n",
    "    print(\"Inside (numeric):\", keys)\n",
    "    print(\"Not inside:\", outside)\n",
    "    return inside\n",
    "\n",
    "CheckIfInLoopUpTable(list(users[19].movieTags[movies[7099]]))\n",
    "print(\"Genom Tags(inside):\", users[19].genomMovieTags[movies[7099]])"
   ]
  },
  {
   "cell_type": "markdown",
   "metadata": {},
   "source": [
    "# TODOS\n",
    "* search depending on tags\n",
    "* search depending on title similarity with than searches for a similar movie\n",
    "* seach query for getting ranking based best movie in specific genre (There are 19 genres (readme)!!)\n",
    "* beim ML teil können wir die filme die ein User gerated hat und ein genom tag haben aufteilen in test und training und predicten wie der score sein soll\n",
    "* jaccard similarity machen mit tags (brauchen die tags zu den einzelnen filmen) und dann 0 oder 1.\n",
    "* Powerpoint presentation machen"
   ]
  },
  {
   "cell_type": "markdown",
   "metadata": {
    "collapsed": false
   },
   "source": [
    "Tags class and lookup table for tag name and id"
   ]
  },
  {
   "cell_type": "code",
   "execution_count": null,
   "metadata": {},
   "outputs": [],
   "source": [
    "\n",
    "class Tags:\n",
    "    def __init__(self, tag_id, tag_name):\n",
    "        self.tags_relevance = [0] * 1128\n",
    "        self.tag_id = tag_id\n",
    "        self.tag_name = tag_name\n",
    "\n",
    "    def set_tag_relevance_vector(self, tags_relevance):\n",
    "        self.tags_relevance = tags_relevance\n",
    "\n",
    "\n",
    "\n",
    "def create_tag_list():\n",
    "    tags_dict = {}\n",
    "    genome_tags = pd.read_csv('genome-tags.csv')\n",
    "\n",
    "    for i in range(len(genome_tags)):\n",
    "\n",
    "        tag = Tags(genome_tags['tagId'][i], genome_tags['tag'][i])\n",
    "        tags_dict[tag.tag_name] = tag\n",
    "\n",
    "    return tags_dict\n",
    "\n",
    "\n",
    "def create_tags_id_lookup_table():\n",
    "    genres = pd.read_csv('genome-tags.csv')\n",
    "    tags_lookup_table = {}\n",
    "    for index in range(len(genres)):\n",
    "        tags_lookup_table[genres['tag'][index]] = genres['tagId'][index]\n",
    "        index += 1\n",
    "    return tags_lookup_table\n",
    "\n",
    "\n",
    "lookup_table_tags = create_tags_id_lookup_table()\n",
    "tags_list = create_tag_list()\n",
    "\n",
    "\n"
   ]
  },
  {
   "cell_type": "code",
   "execution_count": null,
   "metadata": {
    "collapsed": false
   },
   "outputs": [],
   "source": [
    "def user_tag_search(tags_test, movies, count):\n",
    "\n",
    "    tags_counter_vector = [0] * 1128\n",
    "\n",
    "    for tag in tags_test:\n",
    "        tags_counter_vector[lookup_table_tags[tag]] = 1\n",
    "\n",
    "    similar_movies = {}\n",
    "    sim_values = []\n",
    "    for mID in movies:\n",
    "        if movies[mID].tagsRelevance.count(0) == 1128:\n",
    "            continue\n",
    "        sim = calc_cosine(movies[mID].tagsRelevance, tags_counter_vector)\n",
    "        sim_values.append(sim)\n",
    "        similar_movies[sim] = movies[mID].name\n",
    "\n",
    "    top_similar = {}\n",
    "    sim_values.sort(reverse=True)\n",
    "\n",
    "    for i in range(count):\n",
    "        top_similar[sim_values[i]] = similar_movies[sim_values[i]]\n",
    "    return top_similar\n",
    "\n"
   ]
  },
  {
   "cell_type": "markdown",
   "metadata": {
    "collapsed": false
   },
   "source": [
    "User can use the function user_tag_search to insert genome tags and get movie recommendations as a result"
   ]
  },
  {
   "cell_type": "code",
   "execution_count": null,
   "metadata": {
    "collapsed": false
   },
   "outputs": [],
   "source": [
    "\n",
    "user_tag_result = user_tag_search([\"action\", \"action packed\"], movies, 10)\n",
    "PrintSimilarity(user_tag_result)"
   ]
  },
  {
   "attachments": {},
   "cell_type": "markdown",
   "metadata": {},
   "source": [
    "**Getting top Movies rated movies in specified genre can set a min user rating counter**"
   ]
  },
  {
   "cell_type": "code",
   "execution_count": null,
   "metadata": {},
   "outputs": [],
   "source": [
    "def GetMoviesWithGenre(movies, querys):\n",
    "    lenght = len(querys)\n",
    "    queryIds = [lookUpTableGenres[item] for item in querys]\n",
    "    moviesWithOnly = []\n",
    "    skipMovie = False\n",
    "    \n",
    "    for movie in movies:\n",
    "        for id in queryIds:\n",
    "            if id not in movies[movie].genres or len(movies[movie].genres) != lenght:\n",
    "                skipMovie = True\n",
    "                break\n",
    "        if not skipMovie:\n",
    "            moviesWithOnly.append(movies[movie])\n",
    "        skipMovie = False\n",
    "    return moviesWithOnly\n",
    "\n",
    "\n",
    "def GetHighestRanking(count, minRatingCount, genres):\n",
    "    movie_titles = [key for key in lookUpTableGenres]\n",
    "\n",
    "    queryGenre = []\n",
    "    for genre in genres:\n",
    "        titelSearch = process.extractOne(genre, movie_titles, scorer=fuzz.partial_ratio)\n",
    "        if titelSearch[1] < 80:\n",
    "            continue\n",
    "        queryGenre.append(titelSearch[0])\n",
    "\n",
    "    if len(queryGenre) == 0 or '(no genres listed)' in queryGenre:\n",
    "        queryGenre = ['(no genres listed)']\n",
    "\n",
    "    prestr = \"[\"\n",
    "    for index in range(len(queryGenre)):\n",
    "        prestr += f\"{queryGenre[index]}({lookUpTableGenres[queryGenre[index]]})\"\n",
    "        if index + 1 < len(queryGenre):\n",
    "            prestr += \", \"\n",
    "    prestr += \"]\"\n",
    "\n",
    "    print(f\"Searching for the {count} best {prestr} movies with at least {minRatingCount} User-ratings:\")\n",
    "    simGenreMovies = GetMoviesWithGenre(movies, queryGenre)\n",
    "    allRankings = {}\n",
    "    ratingsList = []\n",
    "\n",
    "    for movie in simGenreMovies:\n",
    "        if movie.ratingCount < minRatingCount:\n",
    "            continue\n",
    "        if movie.rating not in allRankings:\n",
    "            allRankings[movie.rating] = []\n",
    "            if movie.rating not in ratingsList:\n",
    "                ratingsList.append(movie.rating)\n",
    "        allRankings[movie.rating].append(movie)\n",
    "\n",
    "    ratingsList.sort(reverse=True)\n",
    "    returnRanking = []\n",
    "    while len(returnRanking) < count and len(ratingsList) != 0:\n",
    "        value = max(ratingsList)\n",
    "        index = 0\n",
    "        for movie in allRankings[value]:\n",
    "            index += 1\n",
    "            # print(movie.name)\n",
    "            returnRanking.append(movie)\n",
    "            if len(returnRanking) >= count:\n",
    "                break\n",
    "        ratingsList.remove(value)       \n",
    "\n",
    "    return returnRanking\n",
    "\n",
    "def getGenreID(name):\n",
    "    for id in lookUpTableGenres:\n",
    "        if name == lookUpTableGenres[id]:\n",
    "            return id\n",
    "    return -1\n"
   ]
  },
  {
   "attachments": {},
   "cell_type": "markdown",
   "metadata": {},
   "source": [
    "Insert a num of max ranking and then add how many user rantings the movie must at least have and the genres"
   ]
  },
  {
   "cell_type": "code",
   "execution_count": null,
   "metadata": {},
   "outputs": [],
   "source": [
    "movieRanked = GetHighestRanking(10, 10, ['fantay' , 'harror', 'come'])\n",
    "\n",
    "index = 1\n",
    "for item in movieRanked:\n",
    "    print(f\"{index}. Titel: {item.name} | Users: {item.ratingCount} | Genres: {item.genres} | Rating {item.rating:.2f}\")\n",
    "    index += 1\n"
   ]
  },
  {
   "cell_type": "markdown",
   "source": [
    "**Adds the User tags to the Movies**"
   ],
   "metadata": {
    "collapsed": false
   }
  },
  {
   "cell_type": "code",
   "execution_count": 1,
   "outputs": [
    {
     "ename": "NameError",
     "evalue": "name 'pd' is not defined",
     "output_type": "error",
     "traceback": [
      "\u001B[1;31m---------------------------------------------------------------------------\u001B[0m",
      "\u001B[1;31mNameError\u001B[0m                                 Traceback (most recent call last)",
      "Cell \u001B[1;32mIn[1], line 17\u001B[0m\n\u001B[0;32m     12\u001B[0m         tags_lookup_table[tags[\u001B[38;5;124m'\u001B[39m\u001B[38;5;124mmovieId\u001B[39m\u001B[38;5;124m'\u001B[39m][index]]\u001B[38;5;241m.\u001B[39mappend(tags[\u001B[38;5;124m'\u001B[39m\u001B[38;5;124mtag\u001B[39m\u001B[38;5;124m'\u001B[39m][index])\n\u001B[0;32m     14\u001B[0m     \u001B[38;5;28;01mreturn\u001B[39;00m \u001B[38;5;28mset\u001B[39m(tags_lookup_table)\n\u001B[1;32m---> 17\u001B[0m lookup_table_tags \u001B[38;5;241m=\u001B[39m \u001B[43mcreate_movie_id_tags_lookup_table\u001B[49m\u001B[43m(\u001B[49m\u001B[43m)\u001B[49m\n\u001B[0;32m     19\u001B[0m \u001B[38;5;28mprint\u001B[39m(\u001B[38;5;28mset\u001B[39m(lookup_table_tags[\u001B[38;5;241m260\u001B[39m]))\n",
      "Cell \u001B[1;32mIn[1], line 2\u001B[0m, in \u001B[0;36mcreate_movie_id_tags_lookup_table\u001B[1;34m()\u001B[0m\n\u001B[0;32m      1\u001B[0m \u001B[38;5;28;01mdef\u001B[39;00m \u001B[38;5;21mcreate_movie_id_tags_lookup_table\u001B[39m():\n\u001B[1;32m----> 2\u001B[0m     tags \u001B[38;5;241m=\u001B[39m \u001B[43mpd\u001B[49m\u001B[38;5;241m.\u001B[39mread_csv(\u001B[38;5;124m'\u001B[39m\u001B[38;5;124mtags.csv\u001B[39m\u001B[38;5;124m'\u001B[39m)\n\u001B[0;32m      3\u001B[0m     tags_lookup_table \u001B[38;5;241m=\u001B[39m {}\n\u001B[0;32m      4\u001B[0m     movie_ids_set \u001B[38;5;241m=\u001B[39m \u001B[38;5;28mset\u001B[39m()\n",
      "\u001B[1;31mNameError\u001B[0m: name 'pd' is not defined"
     ]
    }
   ],
   "source": [
    "\n",
    "def create_movie_id_tags_lookup_table():\n",
    "    tags = pd.read_csv('tags.csv')\n",
    "    tags_lookup_table = {}\n",
    "    movie_ids_set = set()\n",
    "    movie_id = -1\n",
    "    for index in range(len(tags)):\n",
    "\n",
    "        if tags['movieId'][index] != movie_id and tags['movieId'][index] not in movie_ids_set:\n",
    "            tags_lookup_table[tags['movieId'][index]] = []\n",
    "            movie_id = tags['movieId'][index]\n",
    "        movie_ids_set.add(movie_id)\n",
    "        tags_lookup_table[tags['movieId'][index]].append(tags['tag'][index])\n",
    "\n",
    "    return set(tags_lookup_table)\n",
    "\n",
    "\n",
    "lookup_table_tags = create_movie_id_tags_lookup_table()\n",
    "\n",
    "print(set(lookup_table_tags[260]))\n"
   ],
   "metadata": {
    "collapsed": false
   }
  },
  {
   "cell_type": "markdown",
   "source": [
    "**Similarity between movies using Jaccard similarity with the User Tags**"
   ],
   "metadata": {
    "collapsed": false
   }
  },
  {
   "cell_type": "code",
   "execution_count": null,
   "outputs": [],
   "source": [
    "def get_top_tags_jaccard_sims_with_user_tags(count, movies, query):\n",
    "\n",
    "\n",
    "    smiliar_movies = {}\n",
    "    sim_values = []\n",
    "    for mID in movies:\n",
    "        if movies[mID].name == query.name:\n",
    "            continue\n",
    "        if mID not in lookup_table_tags or query.id not in lookup_table_tags:\n",
    "            continue\n",
    "\n",
    "        sim = jaccard_sim(lookup_table_tags[mID], lookup_table_tags[query.id])\n",
    "        sim_values.append(sim)\n",
    "        smiliar_movies[sim] = movies[mID].name\n",
    "\n",
    "    top_similar = {}\n",
    "\n",
    "    sim_values.sort(reverse=True)\n",
    "\n",
    "    for i in range(count):\n",
    "        top_similar[sim_values[i]] = smiliar_movies[sim_values[i]]\n",
    "    return top_similar\n",
    "\n",
    "count = 10\n",
    "query = movies[4896] #harry potter\n",
    "similar_movies_with_jaccard = get_top_tags_jaccard_sims_with_user_tags(count, movies, query)\n",
    "PrintSimilarity(similar_movies_with_jaccard)"
   ],
   "metadata": {
    "collapsed": false
   }
  }
 ],
 "metadata": {
  "kernelspec": {
   "display_name": "Python 3",
   "language": "python",
   "name": "python3"
  },
  "language_info": {
   "codemirror_mode": {
    "name": "ipython",
    "version": 3
   },
   "file_extension": ".py",
   "mimetype": "text/x-python",
   "name": "python",
   "nbconvert_exporter": "python",
   "pygments_lexer": "ipython3",
   "version": "3.10.9"
  },
  "vscode": {
   "interpreter": {
    "hash": "da3ac80dfd32d6bcda3ee285f394072c7bb8dfa40397edd1d8e4ae25456395eb"
   }
  }
 },
 "nbformat": 4,
 "nbformat_minor": 4
}
