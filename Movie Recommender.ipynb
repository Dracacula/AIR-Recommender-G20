{
 "cells": [
  {
   "attachments": {},
   "cell_type": "markdown",
   "metadata": {
    "pycharm": {
     "name": "#%% md\n"
    }
   },
   "source": [
    "# Advanced Information Retrieval - Project\n",
    "\n",
    "### Organizational infos:\n",
    "* 30 Points in total\n",
    "* Deadline: 09.01.2023 23:59"
   ]
  },
  {
   "cell_type": "code",
   "execution_count": 202,
   "metadata": {},
   "outputs": [],
   "source": [
    "#imports \n",
    "import pandas as pd\n",
    "import numpy as np\n",
    "import random\n",
    "import ast\n",
    "import gensim\n",
    "from torch import nn\n",
    "import torch\n",
    "from nltk.tokenize import WhitespaceTokenizer\n",
    "from scipy.stats import pearsonr"
   ]
  },
  {
   "attachments": {},
   "cell_type": "markdown",
   "metadata": {
    "pycharm": {
     "name": "#%% md\n"
    }
   },
   "source": [
    "## Movie struct\n",
    "Create a struct that contains all  the movie relevant Information to work with.\n",
    "Could be changed at any given time.\n"
   ]
  },
  {
   "attachments": {},
   "cell_type": "markdown",
   "metadata": {
    "pycharm": {
     "name": "#%% md\n"
    }
   },
   "source": [
    "**Define all relevante class attributes**"
   ]
  },
  {
   "cell_type": "code",
   "execution_count": 203,
   "metadata": {},
   "outputs": [],
   "source": [
    "class Movie:\n",
    "    def __init__(self, id, name, genres):\n",
    "        self.id = id\n",
    "        self.name = name\n",
    "        self.genres = genres\n",
    "        self.tagsRelevance = [0] * 1128\n",
    "        self.ratingCount = 0\n",
    "        self.ratingSum = 0\n",
    "        self.rating = 0\n",
    "\n",
    "    def SetTagRelevanceVector(self, tagsRelevance):\n",
    "        self.tagsRelevance = tagsRelevance\n",
    "    \n",
    "    def SetSumRatings(self, userRatings):\n",
    "        self.rating = userRatings\n",
    "    \n",
    "    def AddRatingCount(self, userRating):\n",
    "        self.ratingCount += 1\n",
    "        self.ratingSum += userRating\n",
    "        self.rating = self.ratingSum / self.ratingCount\n",
    "    "
   ]
  },
  {
   "attachments": {},
   "cell_type": "markdown",
   "metadata": {},
   "source": [
    "**Create A List of Movies and a look up Table for the Genres for later usage.**"
   ]
  },
  {
   "attachments": {},
   "cell_type": "markdown",
   "metadata": {},
   "source": [
    "The Genres could also be used for a similarity measurement so i just saved the just in case.\n",
    "Also i am not to sure if genre-14 (Imax) should really be inluded. "
   ]
  },
  {
   "cell_type": "code",
   "execution_count": 204,
   "metadata": {},
   "outputs": [],
   "source": [
    "\n",
    "def CreateMovieList(lookUpGenre):\n",
    "    allMovies = {}\n",
    "    moviedocs = pd.read_csv('movies.csv')\n",
    "    lookUpIndex = 1\n",
    "\n",
    "    for i in range(len(moviedocs)):\n",
    "        movieGenres = moviedocs['genres'][i]\n",
    "        movieGenresList = movieGenres.split('|')\n",
    "        movieGenresNumericalList = []\n",
    "        for word in movieGenresList:\n",
    "            if word not in lookUpGenre:\n",
    "                lookUpGenre[word] = lookUpIndex\n",
    "                lookUpIndex += 1\n",
    "\n",
    "            movieGenresNumericalList.append(lookUpGenre[word])\n",
    "        movie = Movie(moviedocs['movieId'][i], moviedocs['title'][i], movieGenresNumericalList)\n",
    "\n",
    "        allMovies[movie.id] = movie\n",
    "    return allMovies\n",
    "    "
   ]
  },
  {
   "attachments": {},
   "cell_type": "markdown",
   "metadata": {},
   "source": [
    "**Adds the Genom Score relevances to the Movies**"
   ]
  },
  {
   "attachments": {},
   "cell_type": "markdown",
   "metadata": {},
   "source": [
    "The genom score is the relevances the tags have to the movies. We also have a csv file mapping the tags to an index.\n",
    "So i created a tags look up table."
   ]
  },
  {
   "cell_type": "code",
   "execution_count": 205,
   "metadata": {},
   "outputs": [],
   "source": [
    "def AddGenoScoresToMovies(movieList):\n",
    "    genomeScores = pd.read_csv('genome-scores.csv')\n",
    "    movieTagsRelevance = []\n",
    "    movieId = genomeScores['movieId'][0]\n",
    "    for i in range(len(genomeScores)):\n",
    "        if genomeScores['movieId'][i] != movieId:\n",
    "            movieList[movieId].SetTagRelevanceVector(movieTagsRelevance.copy())\n",
    "            movieId = genomeScores['movieId'][i]\n",
    "            movieTagsRelevance.clear()\n",
    "        \n",
    "        movieTagsRelevance.append(genomeScores['relevance'][i])\n",
    "    movieList[movieId].SetTagRelevanceVector(movieTagsRelevance)\n",
    "    return\n",
    "\n",
    "def CreateTagsLookUpTable():\n",
    "    genres = pd.read_csv('genome-tags.csv')\n",
    "    tagsLookUpTable = {}\n",
    "    for index in range(len(genres)):\n",
    "        tagsLookUpTable[genres['tagId'][index]] = genres['tag'][index]\n",
    "        index += 1\n",
    "    return tagsLookUpTable"
   ]
  },
  {
   "attachments": {},
   "cell_type": "markdown",
   "metadata": {
    "pycharm": {
     "name": "#%% md\n"
    }
   },
   "source": [
    "**Using all the Functions above**\n"
   ]
  },
  {
   "attachments": {},
   "cell_type": "markdown",
   "metadata": {},
   "source": [
    "well it's not takes a lot of time to add all the relevance scores..."
   ]
  },
  {
   "cell_type": "code",
   "execution_count": 206,
   "metadata": {
    "pycharm": {
     "name": "#%%\n"
    }
   },
   "outputs": [
    {
     "ename": "FileNotFoundError",
     "evalue": "[Errno 2] No such file or directory: 'movies.csv'",
     "output_type": "error",
     "traceback": [
      "\u001B[1;31m---------------------------------------------------------------------------\u001B[0m",
      "\u001B[1;31mFileNotFoundError\u001B[0m                         Traceback (most recent call last)",
      "Cell \u001B[1;32mIn[206], line 2\u001B[0m\n\u001B[0;32m      1\u001B[0m lookUpTableGenres \u001B[38;5;241m=\u001B[39m {}\n\u001B[1;32m----> 2\u001B[0m movies \u001B[38;5;241m=\u001B[39m \u001B[43mCreateMovieList\u001B[49m\u001B[43m(\u001B[49m\u001B[43mlookUpTableGenres\u001B[49m\u001B[43m)\u001B[49m\n\u001B[0;32m      3\u001B[0m AddGenoScoresToMovies(movies)\n\u001B[0;32m      4\u001B[0m lookUpTags \u001B[38;5;241m=\u001B[39m CreateTagsLookUpTable()\n",
      "Cell \u001B[1;32mIn[204], line 3\u001B[0m, in \u001B[0;36mCreateMovieList\u001B[1;34m(lookUpGenre)\u001B[0m\n\u001B[0;32m      1\u001B[0m \u001B[38;5;28;01mdef\u001B[39;00m \u001B[38;5;21mCreateMovieList\u001B[39m(lookUpGenre):\n\u001B[0;32m      2\u001B[0m     allMovies \u001B[38;5;241m=\u001B[39m {}\n\u001B[1;32m----> 3\u001B[0m     moviedocs \u001B[38;5;241m=\u001B[39m \u001B[43mpd\u001B[49m\u001B[38;5;241;43m.\u001B[39;49m\u001B[43mread_csv\u001B[49m\u001B[43m(\u001B[49m\u001B[38;5;124;43m'\u001B[39;49m\u001B[38;5;124;43mmovies.csv\u001B[39;49m\u001B[38;5;124;43m'\u001B[39;49m\u001B[43m)\u001B[49m\n\u001B[0;32m      4\u001B[0m     lookUpIndex \u001B[38;5;241m=\u001B[39m \u001B[38;5;241m1\u001B[39m\n\u001B[0;32m      6\u001B[0m     \u001B[38;5;28;01mfor\u001B[39;00m i \u001B[38;5;129;01min\u001B[39;00m \u001B[38;5;28mrange\u001B[39m(\u001B[38;5;28mlen\u001B[39m(moviedocs)):\n",
      "File \u001B[1;32mC:\\Python\\lib\\site-packages\\pandas\\util\\_decorators.py:211\u001B[0m, in \u001B[0;36mdeprecate_kwarg.<locals>._deprecate_kwarg.<locals>.wrapper\u001B[1;34m(*args, **kwargs)\u001B[0m\n\u001B[0;32m    209\u001B[0m     \u001B[38;5;28;01melse\u001B[39;00m:\n\u001B[0;32m    210\u001B[0m         kwargs[new_arg_name] \u001B[38;5;241m=\u001B[39m new_arg_value\n\u001B[1;32m--> 211\u001B[0m \u001B[38;5;28;01mreturn\u001B[39;00m func(\u001B[38;5;241m*\u001B[39margs, \u001B[38;5;241m*\u001B[39m\u001B[38;5;241m*\u001B[39mkwargs)\n",
      "File \u001B[1;32mC:\\Python\\lib\\site-packages\\pandas\\util\\_decorators.py:331\u001B[0m, in \u001B[0;36mdeprecate_nonkeyword_arguments.<locals>.decorate.<locals>.wrapper\u001B[1;34m(*args, **kwargs)\u001B[0m\n\u001B[0;32m    325\u001B[0m \u001B[38;5;28;01mif\u001B[39;00m \u001B[38;5;28mlen\u001B[39m(args) \u001B[38;5;241m>\u001B[39m num_allow_args:\n\u001B[0;32m    326\u001B[0m     warnings\u001B[38;5;241m.\u001B[39mwarn(\n\u001B[0;32m    327\u001B[0m         msg\u001B[38;5;241m.\u001B[39mformat(arguments\u001B[38;5;241m=\u001B[39m_format_argument_list(allow_args)),\n\u001B[0;32m    328\u001B[0m         \u001B[38;5;167;01mFutureWarning\u001B[39;00m,\n\u001B[0;32m    329\u001B[0m         stacklevel\u001B[38;5;241m=\u001B[39mfind_stack_level(),\n\u001B[0;32m    330\u001B[0m     )\n\u001B[1;32m--> 331\u001B[0m \u001B[38;5;28;01mreturn\u001B[39;00m func(\u001B[38;5;241m*\u001B[39margs, \u001B[38;5;241m*\u001B[39m\u001B[38;5;241m*\u001B[39mkwargs)\n",
      "File \u001B[1;32mC:\\Python\\lib\\site-packages\\pandas\\io\\parsers\\readers.py:950\u001B[0m, in \u001B[0;36mread_csv\u001B[1;34m(filepath_or_buffer, sep, delimiter, header, names, index_col, usecols, squeeze, prefix, mangle_dupe_cols, dtype, engine, converters, true_values, false_values, skipinitialspace, skiprows, skipfooter, nrows, na_values, keep_default_na, na_filter, verbose, skip_blank_lines, parse_dates, infer_datetime_format, keep_date_col, date_parser, dayfirst, cache_dates, iterator, chunksize, compression, thousands, decimal, lineterminator, quotechar, quoting, doublequote, escapechar, comment, encoding, encoding_errors, dialect, error_bad_lines, warn_bad_lines, on_bad_lines, delim_whitespace, low_memory, memory_map, float_precision, storage_options)\u001B[0m\n\u001B[0;32m    935\u001B[0m kwds_defaults \u001B[38;5;241m=\u001B[39m _refine_defaults_read(\n\u001B[0;32m    936\u001B[0m     dialect,\n\u001B[0;32m    937\u001B[0m     delimiter,\n\u001B[1;32m   (...)\u001B[0m\n\u001B[0;32m    946\u001B[0m     defaults\u001B[38;5;241m=\u001B[39m{\u001B[38;5;124m\"\u001B[39m\u001B[38;5;124mdelimiter\u001B[39m\u001B[38;5;124m\"\u001B[39m: \u001B[38;5;124m\"\u001B[39m\u001B[38;5;124m,\u001B[39m\u001B[38;5;124m\"\u001B[39m},\n\u001B[0;32m    947\u001B[0m )\n\u001B[0;32m    948\u001B[0m kwds\u001B[38;5;241m.\u001B[39mupdate(kwds_defaults)\n\u001B[1;32m--> 950\u001B[0m \u001B[38;5;28;01mreturn\u001B[39;00m \u001B[43m_read\u001B[49m\u001B[43m(\u001B[49m\u001B[43mfilepath_or_buffer\u001B[49m\u001B[43m,\u001B[49m\u001B[43m \u001B[49m\u001B[43mkwds\u001B[49m\u001B[43m)\u001B[49m\n",
      "File \u001B[1;32mC:\\Python\\lib\\site-packages\\pandas\\io\\parsers\\readers.py:605\u001B[0m, in \u001B[0;36m_read\u001B[1;34m(filepath_or_buffer, kwds)\u001B[0m\n\u001B[0;32m    602\u001B[0m _validate_names(kwds\u001B[38;5;241m.\u001B[39mget(\u001B[38;5;124m\"\u001B[39m\u001B[38;5;124mnames\u001B[39m\u001B[38;5;124m\"\u001B[39m, \u001B[38;5;28;01mNone\u001B[39;00m))\n\u001B[0;32m    604\u001B[0m \u001B[38;5;66;03m# Create the parser.\u001B[39;00m\n\u001B[1;32m--> 605\u001B[0m parser \u001B[38;5;241m=\u001B[39m TextFileReader(filepath_or_buffer, \u001B[38;5;241m*\u001B[39m\u001B[38;5;241m*\u001B[39mkwds)\n\u001B[0;32m    607\u001B[0m \u001B[38;5;28;01mif\u001B[39;00m chunksize \u001B[38;5;129;01mor\u001B[39;00m iterator:\n\u001B[0;32m    608\u001B[0m     \u001B[38;5;28;01mreturn\u001B[39;00m parser\n",
      "File \u001B[1;32mC:\\Python\\lib\\site-packages\\pandas\\io\\parsers\\readers.py:1442\u001B[0m, in \u001B[0;36mTextFileReader.__init__\u001B[1;34m(self, f, engine, **kwds)\u001B[0m\n\u001B[0;32m   1439\u001B[0m     \u001B[38;5;28mself\u001B[39m\u001B[38;5;241m.\u001B[39moptions[\u001B[38;5;124m\"\u001B[39m\u001B[38;5;124mhas_index_names\u001B[39m\u001B[38;5;124m\"\u001B[39m] \u001B[38;5;241m=\u001B[39m kwds[\u001B[38;5;124m\"\u001B[39m\u001B[38;5;124mhas_index_names\u001B[39m\u001B[38;5;124m\"\u001B[39m]\n\u001B[0;32m   1441\u001B[0m \u001B[38;5;28mself\u001B[39m\u001B[38;5;241m.\u001B[39mhandles: IOHandles \u001B[38;5;241m|\u001B[39m \u001B[38;5;28;01mNone\u001B[39;00m \u001B[38;5;241m=\u001B[39m \u001B[38;5;28;01mNone\u001B[39;00m\n\u001B[1;32m-> 1442\u001B[0m \u001B[38;5;28mself\u001B[39m\u001B[38;5;241m.\u001B[39m_engine \u001B[38;5;241m=\u001B[39m \u001B[38;5;28;43mself\u001B[39;49m\u001B[38;5;241;43m.\u001B[39;49m\u001B[43m_make_engine\u001B[49m\u001B[43m(\u001B[49m\u001B[43mf\u001B[49m\u001B[43m,\u001B[49m\u001B[43m \u001B[49m\u001B[38;5;28;43mself\u001B[39;49m\u001B[38;5;241;43m.\u001B[39;49m\u001B[43mengine\u001B[49m\u001B[43m)\u001B[49m\n",
      "File \u001B[1;32mC:\\Python\\lib\\site-packages\\pandas\\io\\parsers\\readers.py:1735\u001B[0m, in \u001B[0;36mTextFileReader._make_engine\u001B[1;34m(self, f, engine)\u001B[0m\n\u001B[0;32m   1733\u001B[0m     \u001B[38;5;28;01mif\u001B[39;00m \u001B[38;5;124m\"\u001B[39m\u001B[38;5;124mb\u001B[39m\u001B[38;5;124m\"\u001B[39m \u001B[38;5;129;01mnot\u001B[39;00m \u001B[38;5;129;01min\u001B[39;00m mode:\n\u001B[0;32m   1734\u001B[0m         mode \u001B[38;5;241m+\u001B[39m\u001B[38;5;241m=\u001B[39m \u001B[38;5;124m\"\u001B[39m\u001B[38;5;124mb\u001B[39m\u001B[38;5;124m\"\u001B[39m\n\u001B[1;32m-> 1735\u001B[0m \u001B[38;5;28mself\u001B[39m\u001B[38;5;241m.\u001B[39mhandles \u001B[38;5;241m=\u001B[39m \u001B[43mget_handle\u001B[49m\u001B[43m(\u001B[49m\n\u001B[0;32m   1736\u001B[0m \u001B[43m    \u001B[49m\u001B[43mf\u001B[49m\u001B[43m,\u001B[49m\n\u001B[0;32m   1737\u001B[0m \u001B[43m    \u001B[49m\u001B[43mmode\u001B[49m\u001B[43m,\u001B[49m\n\u001B[0;32m   1738\u001B[0m \u001B[43m    \u001B[49m\u001B[43mencoding\u001B[49m\u001B[38;5;241;43m=\u001B[39;49m\u001B[38;5;28;43mself\u001B[39;49m\u001B[38;5;241;43m.\u001B[39;49m\u001B[43moptions\u001B[49m\u001B[38;5;241;43m.\u001B[39;49m\u001B[43mget\u001B[49m\u001B[43m(\u001B[49m\u001B[38;5;124;43m\"\u001B[39;49m\u001B[38;5;124;43mencoding\u001B[39;49m\u001B[38;5;124;43m\"\u001B[39;49m\u001B[43m,\u001B[49m\u001B[43m \u001B[49m\u001B[38;5;28;43;01mNone\u001B[39;49;00m\u001B[43m)\u001B[49m\u001B[43m,\u001B[49m\n\u001B[0;32m   1739\u001B[0m \u001B[43m    \u001B[49m\u001B[43mcompression\u001B[49m\u001B[38;5;241;43m=\u001B[39;49m\u001B[38;5;28;43mself\u001B[39;49m\u001B[38;5;241;43m.\u001B[39;49m\u001B[43moptions\u001B[49m\u001B[38;5;241;43m.\u001B[39;49m\u001B[43mget\u001B[49m\u001B[43m(\u001B[49m\u001B[38;5;124;43m\"\u001B[39;49m\u001B[38;5;124;43mcompression\u001B[39;49m\u001B[38;5;124;43m\"\u001B[39;49m\u001B[43m,\u001B[49m\u001B[43m \u001B[49m\u001B[38;5;28;43;01mNone\u001B[39;49;00m\u001B[43m)\u001B[49m\u001B[43m,\u001B[49m\n\u001B[0;32m   1740\u001B[0m \u001B[43m    \u001B[49m\u001B[43mmemory_map\u001B[49m\u001B[38;5;241;43m=\u001B[39;49m\u001B[38;5;28;43mself\u001B[39;49m\u001B[38;5;241;43m.\u001B[39;49m\u001B[43moptions\u001B[49m\u001B[38;5;241;43m.\u001B[39;49m\u001B[43mget\u001B[49m\u001B[43m(\u001B[49m\u001B[38;5;124;43m\"\u001B[39;49m\u001B[38;5;124;43mmemory_map\u001B[39;49m\u001B[38;5;124;43m\"\u001B[39;49m\u001B[43m,\u001B[49m\u001B[43m \u001B[49m\u001B[38;5;28;43;01mFalse\u001B[39;49;00m\u001B[43m)\u001B[49m\u001B[43m,\u001B[49m\n\u001B[0;32m   1741\u001B[0m \u001B[43m    \u001B[49m\u001B[43mis_text\u001B[49m\u001B[38;5;241;43m=\u001B[39;49m\u001B[43mis_text\u001B[49m\u001B[43m,\u001B[49m\n\u001B[0;32m   1742\u001B[0m \u001B[43m    \u001B[49m\u001B[43merrors\u001B[49m\u001B[38;5;241;43m=\u001B[39;49m\u001B[38;5;28;43mself\u001B[39;49m\u001B[38;5;241;43m.\u001B[39;49m\u001B[43moptions\u001B[49m\u001B[38;5;241;43m.\u001B[39;49m\u001B[43mget\u001B[49m\u001B[43m(\u001B[49m\u001B[38;5;124;43m\"\u001B[39;49m\u001B[38;5;124;43mencoding_errors\u001B[39;49m\u001B[38;5;124;43m\"\u001B[39;49m\u001B[43m,\u001B[49m\u001B[43m \u001B[49m\u001B[38;5;124;43m\"\u001B[39;49m\u001B[38;5;124;43mstrict\u001B[39;49m\u001B[38;5;124;43m\"\u001B[39;49m\u001B[43m)\u001B[49m\u001B[43m,\u001B[49m\n\u001B[0;32m   1743\u001B[0m \u001B[43m    \u001B[49m\u001B[43mstorage_options\u001B[49m\u001B[38;5;241;43m=\u001B[39;49m\u001B[38;5;28;43mself\u001B[39;49m\u001B[38;5;241;43m.\u001B[39;49m\u001B[43moptions\u001B[49m\u001B[38;5;241;43m.\u001B[39;49m\u001B[43mget\u001B[49m\u001B[43m(\u001B[49m\u001B[38;5;124;43m\"\u001B[39;49m\u001B[38;5;124;43mstorage_options\u001B[39;49m\u001B[38;5;124;43m\"\u001B[39;49m\u001B[43m,\u001B[49m\u001B[43m \u001B[49m\u001B[38;5;28;43;01mNone\u001B[39;49;00m\u001B[43m)\u001B[49m\u001B[43m,\u001B[49m\n\u001B[0;32m   1744\u001B[0m \u001B[43m\u001B[49m\u001B[43m)\u001B[49m\n\u001B[0;32m   1745\u001B[0m \u001B[38;5;28;01massert\u001B[39;00m \u001B[38;5;28mself\u001B[39m\u001B[38;5;241m.\u001B[39mhandles \u001B[38;5;129;01mis\u001B[39;00m \u001B[38;5;129;01mnot\u001B[39;00m \u001B[38;5;28;01mNone\u001B[39;00m\n\u001B[0;32m   1746\u001B[0m f \u001B[38;5;241m=\u001B[39m \u001B[38;5;28mself\u001B[39m\u001B[38;5;241m.\u001B[39mhandles\u001B[38;5;241m.\u001B[39mhandle\n",
      "File \u001B[1;32mC:\\Python\\lib\\site-packages\\pandas\\io\\common.py:856\u001B[0m, in \u001B[0;36mget_handle\u001B[1;34m(path_or_buf, mode, encoding, compression, memory_map, is_text, errors, storage_options)\u001B[0m\n\u001B[0;32m    851\u001B[0m \u001B[38;5;28;01melif\u001B[39;00m \u001B[38;5;28misinstance\u001B[39m(handle, \u001B[38;5;28mstr\u001B[39m):\n\u001B[0;32m    852\u001B[0m     \u001B[38;5;66;03m# Check whether the filename is to be opened in binary mode.\u001B[39;00m\n\u001B[0;32m    853\u001B[0m     \u001B[38;5;66;03m# Binary mode does not support 'encoding' and 'newline'.\u001B[39;00m\n\u001B[0;32m    854\u001B[0m     \u001B[38;5;28;01mif\u001B[39;00m ioargs\u001B[38;5;241m.\u001B[39mencoding \u001B[38;5;129;01mand\u001B[39;00m \u001B[38;5;124m\"\u001B[39m\u001B[38;5;124mb\u001B[39m\u001B[38;5;124m\"\u001B[39m \u001B[38;5;129;01mnot\u001B[39;00m \u001B[38;5;129;01min\u001B[39;00m ioargs\u001B[38;5;241m.\u001B[39mmode:\n\u001B[0;32m    855\u001B[0m         \u001B[38;5;66;03m# Encoding\u001B[39;00m\n\u001B[1;32m--> 856\u001B[0m         handle \u001B[38;5;241m=\u001B[39m \u001B[38;5;28;43mopen\u001B[39;49m\u001B[43m(\u001B[49m\n\u001B[0;32m    857\u001B[0m \u001B[43m            \u001B[49m\u001B[43mhandle\u001B[49m\u001B[43m,\u001B[49m\n\u001B[0;32m    858\u001B[0m \u001B[43m            \u001B[49m\u001B[43mioargs\u001B[49m\u001B[38;5;241;43m.\u001B[39;49m\u001B[43mmode\u001B[49m\u001B[43m,\u001B[49m\n\u001B[0;32m    859\u001B[0m \u001B[43m            \u001B[49m\u001B[43mencoding\u001B[49m\u001B[38;5;241;43m=\u001B[39;49m\u001B[43mioargs\u001B[49m\u001B[38;5;241;43m.\u001B[39;49m\u001B[43mencoding\u001B[49m\u001B[43m,\u001B[49m\n\u001B[0;32m    860\u001B[0m \u001B[43m            \u001B[49m\u001B[43merrors\u001B[49m\u001B[38;5;241;43m=\u001B[39;49m\u001B[43merrors\u001B[49m\u001B[43m,\u001B[49m\n\u001B[0;32m    861\u001B[0m \u001B[43m            \u001B[49m\u001B[43mnewline\u001B[49m\u001B[38;5;241;43m=\u001B[39;49m\u001B[38;5;124;43m\"\u001B[39;49m\u001B[38;5;124;43m\"\u001B[39;49m\u001B[43m,\u001B[49m\n\u001B[0;32m    862\u001B[0m \u001B[43m        \u001B[49m\u001B[43m)\u001B[49m\n\u001B[0;32m    863\u001B[0m     \u001B[38;5;28;01melse\u001B[39;00m:\n\u001B[0;32m    864\u001B[0m         \u001B[38;5;66;03m# Binary mode\u001B[39;00m\n\u001B[0;32m    865\u001B[0m         handle \u001B[38;5;241m=\u001B[39m \u001B[38;5;28mopen\u001B[39m(handle, ioargs\u001B[38;5;241m.\u001B[39mmode)\n",
      "\u001B[1;31mFileNotFoundError\u001B[0m: [Errno 2] No such file or directory: 'movies.csv'"
     ]
    }
   ],
   "source": [
    "lookUpTableGenres = {}\n",
    "movies = CreateMovieList(lookUpTableGenres)\n",
    "AddGenoScoresToMovies(movies)\n",
    "lookUpTags = CreateTagsLookUpTable()\n"
   ]
  },
  {
   "attachments": {},
   "cell_type": "markdown",
   "metadata": {},
   "source": [
    "**Use the tags as a similarity measurement vector.**"
   ]
  },
  {
   "attachments": {},
   "cell_type": "markdown",
   "metadata": {},
   "source": [
    "Get a sorted List with a given size depending on the count. Uses the Cosine similiarity or Jaccard similarity to calculate the tags similarity between movies."
   ]
  },
  {
   "cell_type": "code",
   "execution_count": null,
   "metadata": {
    "pycharm": {
     "name": "#%%\n"
    }
   },
   "outputs": [],
   "source": [
    "\n",
    "def calc_cosine(movieOne, movieTwo):\n",
    "\n",
    "    d_1 = 0\n",
    "    d_2 = 0\n",
    "    numerator = 0\n",
    "    for index in range(len(movieOne)):\n",
    "        numerator += movieOne[index] * movieTwo[index]\n",
    "        d_1 += movieOne[index] * movieOne[index]\n",
    "        d_2 += movieTwo[index] * movieTwo[index]\n",
    "\n",
    "    denominator = np.sqrt(d_1) * np.sqrt(d_2)\n",
    "    res = numerator / denominator\n",
    "    return res\n",
    "\n",
    "\n",
    "\n",
    "def GetTopTagsCosineSims(count, movies, query):\n",
    "    \n",
    "    if query.tagsRelevance.count(0) == 1128:\n",
    "        return -1\n",
    "        \n",
    "    smiliarMovies = {}\n",
    "    simValues = []\n",
    "    for mID in movies:\n",
    "        if movies[mID].name == query.name or movies[mID].tagsRelevance.count(0) == 1128:\n",
    "            continue\n",
    "        sim = calc_cosine(movies[mID].tagsRelevance, query.tagsRelevance)\n",
    "        simValues.append(sim)\n",
    "        smiliarMovies[sim] = movies[mID].name\n",
    "\n",
    "    TopSimilar = {}\n",
    "\n",
    "\n",
    "    for i in range(count):\n",
    "        v = max(simValues)\n",
    "        TopSimilar[v] = smiliarMovies[v]\n",
    "        simValues.remove(v)\n",
    "    return TopSimilar\n",
    "\n",
    "def get_top_tags_jaccard_sims(count, movies, query):\n",
    "\n",
    "    if query.tagsRelevance.count(0) == 1128:\n",
    "        return -1\n",
    "\n",
    "    smiliar_movies = {}\n",
    "    sim_values = []\n",
    "    for mID in movies:\n",
    "        if movies[mID].name == query.name or movies[mID].tagsRelevance.count(0) == 1128:\n",
    "            continue\n",
    "        sim = calc_cosine(movies[mID].tagsRelevance, query.tagsRelevance)\n",
    "        sim_values.append(sim)\n",
    "        smiliar_movies[sim] = movies[mID].name\n",
    "\n",
    "    top_similar = {}\n",
    "\n",
    "    sim_values.sort()\n",
    "\n",
    "    for i in range(count):\n",
    "        top_similar[sim_values[i]] = smiliar_movies[sim_values[i]]\n",
    "    return top_similar\n",
    "\n",
    "\n",
    "def PrintSimilarity(similarMovies):\n",
    "    if similarMovies != -1:\n",
    "        print(\"Query: \", query.name)\n",
    "        print(\"similar Movies: \")\n",
    "        count = 1\n",
    "        for sim in similarMovies:\n",
    "            print(count, similarMovies[sim] + \":\", sim)\n",
    "            count += 1\n",
    "    else:\n",
    "        print(\"Query deosn't have tags!\")\n"
   ]
  },
  {
   "cell_type": "markdown",
   "source": [
    "Get a sorted List with a given size depending on the count. Uses the Pearson Correlation Coefficient to calculate the tags similarity between movies."
   ],
   "metadata": {
    "collapsed": false
   }
  },
  {
   "cell_type": "code",
   "execution_count": null,
   "outputs": [],
   "source": [
    "def calcPearsonCoefficient(movie, query):\n",
    "    correlation, _ = pearsonr(movie, query)\n",
    "    return correlation\n",
    "\n",
    "def GetTopTagsPearsonCorrelation(count, movies, query):\n",
    "\n",
    "    if query.tagsRelevance.count(0) == 1128:\n",
    "        return -1\n",
    "\n",
    "    similarity = dict()\n",
    "    for mID in movies:\n",
    "        if movies[mID].name == query.name or movies[mID].tagsRelevance.count(0) == 1128:\n",
    "            continue\n",
    "        sim = calcPearsonCoefficient(movies[mID].tagsRelevance, query.tagsRelevance)\n",
    "        similarity[movies[mID].name] = sim\n",
    "\n",
    "    top_movies = dict()\n",
    "    for key in sorted(similarity, key=similarity.get, reverse=True)[:count]:\n",
    "        top_movies[key] = similarity[key]\n",
    "\n",
    "    return top_movies\n",
    "\n",
    "def PrintPearsonCorrelation(similarMovies):\n",
    "    if similarMovies != -1:\n",
    "        print(\"\\nQuery: \", query.name)\n",
    "        print(\"similar Movies according to Pearson Correlation Coefficient: \")\n",
    "        for idx, movie_key in enumerate(similarMovies):\n",
    "            print(idx + 1, str(movie_key) + \" : \" + str(similarMovies[movie_key]))\n",
    "    else:\n",
    "        print(\"Query deosn't have tags!\")"
   ],
   "metadata": {
    "collapsed": false
   }
  },
  {
   "attachments": {},
   "cell_type": "markdown",
   "metadata": {},
   "source": [
    "**Create a query and get/prints the movies with similar tags**"
   ]
  },
  {
   "cell_type": "markdown",
   "metadata": {},
   "source": [
    "Uses the functions above to print the query result."
   ]
  },
  {
   "cell_type": "code",
   "execution_count": null,
   "metadata": {},
   "outputs": [],
   "source": [
    "query = movies[4896]\n",
    "count = 10\n",
    "\n",
    "similarMovies = GetTopTagsCosineSims(count, movies, query)\n",
    "PrintSimilarity(similarMovies)\n",
    "\n",
    "similar_movies_with_jaccard = get_top_tags_jaccard_sims(count, movies, query)\n",
    "PrintSimilarity(similar_movies_with_jaccard)\n",
    "\n",
    "similarPearsonMovies = GetTopTagsPearsonCorrelation(count, movies, query)\n",
    "PrintPearsonCorrelation(similarPearsonMovies)\n"
   ]
  },
  {
   "attachments": {},
   "cell_type": "markdown",
   "metadata": {},
   "source": [
    "# User Struct\n",
    "\n",
    "A struct that contains the user ratings and also the tags the user choosed for a movie."
   ]
  },
  {
   "cell_type": "code",
   "execution_count": null,
   "metadata": {},
   "outputs": [],
   "source": [
    "class User:\n",
    "    def __init__(self, id):\n",
    "        self.id = id\n",
    "        self.movieRatings = {}\n",
    "        self.movieTags = {}\n",
    "        self.genomMovieTags = {}\n",
    "    \n",
    "    def AddRating(self, movie, rating):\n",
    "        self.movieRatings[movie] = rating\n",
    "    \n",
    "    def AddTags(self, movie, tag):\n",
    "        if movie not in self.movieTags:\n",
    "            self.movieTags[movie] = []\n",
    "        self.movieTags[movie].append(tag)\n",
    "\n",
    "    def UpdateGenomTags(self, lookUpTableGenom):\n",
    "        for movie in self.movieTags:\n",
    "            inside = list()\n",
    "            for tag in self.movieTags[movie]:\n",
    "                for values in lookUpTags:\n",
    "                    if lookUpTags[values] == tag:\n",
    "                        inside.append(values)\n",
    "                        \n",
    "            self.genomMovieTags[movie] = inside\n"
   ]
  },
  {
   "attachments": {},
   "cell_type": "markdown",
   "metadata": {},
   "source": [
    "**Creates a list in User with every movie ranked by the User the calculates the generel movie ratings**"
   ]
  },
  {
   "attachments": {},
   "cell_type": "markdown",
   "metadata": {},
   "source": [
    "takes 5 minutes..."
   ]
  },
  {
   "cell_type": "code",
   "execution_count": null,
   "metadata": {},
   "outputs": [],
   "source": [
    "# userId,movieId,rating,timestamp\n",
    "def CreateUsers(allMovies):\n",
    "    ratings = pd.read_csv('ratings.csv')\n",
    "    UserDic = {}\n",
    "    userId = -1\n",
    "\n",
    "    for i in range(len(ratings)):\n",
    "        movie = allMovies[ratings['movieId'][i]]\n",
    "        userID = ratings['userId'][i]\n",
    "        ratingsRow = ratings['rating'][i]\n",
    "\n",
    "        if userID != userId:\n",
    "            userId = userID\n",
    "            newUser = User(userId)      \n",
    "            UserDic[newUser.id] = newUser\n",
    "\n",
    "        newUser.AddRating(movie, ratingsRow)\n",
    "        movie.AddRatingCount(ratingsRow)\n",
    "    return UserDic\n",
    "\n",
    "users = CreateUsers(movies)\n"
   ]
  },
  {
   "cell_type": "code",
   "execution_count": null,
   "metadata": {},
   "outputs": [],
   "source": [
    "# 7045,4896,4.0\n",
    "print(movies[4896].name)\n",
    "print(\"Movie Rating:\", movies[4896].rating)\n",
    "print(\"Random User Rating: \", users[7045].movieRatings[movies[4896]])\n"
   ]
  },
  {
   "attachments": {},
   "cell_type": "markdown",
   "metadata": {},
   "source": [
    "**Addind tags that user rated on movies (not every rated movie has a tag vice versa)**"
   ]
  },
  {
   "cell_type": "code",
   "execution_count": null,
   "metadata": {},
   "outputs": [],
   "source": [
    "#userId,movieId,tag,timestamp\n",
    "def UserDefinedTag(allUsers, movies):\n",
    "    userTags = pd.read_csv('tags.csv')\n",
    "\n",
    "    activeUser = allUsers[userTags['userId'][0]]\n",
    "    \n",
    "    movie = movies[userTags['movieId'][0]]\n",
    "    for i in range(len(userTags)):\n",
    "        if activeUser.id != userTags['userId'][i]:\n",
    "            activeUser = allUsers[userTags['userId'][i]]\n",
    "\n",
    "        if movie.id != userTags['movieId'][i]:\n",
    "            movie = movies[userTags['movieId'][i]]\n",
    "\n",
    "        activeUser.AddTags(movie, userTags['tag'][i])\n",
    "       \n",
    "UserDefinedTag(users, movies) \n"
   ]
  },
  {
   "attachments": {},
   "cell_type": "markdown",
   "metadata": {},
   "source": [
    "**Adding the Genom tags in numerical form**"
   ]
  },
  {
   "cell_type": "code",
   "execution_count": null,
   "metadata": {},
   "outputs": [],
   "source": [
    "def SetGenomTags(allUsers):\n",
    "    for userId in allUsers:\n",
    "        allUsers[userId].UpdateGenomTags(lookUpTags)\n",
    "\n",
    "SetGenomTags(users)"
   ]
  },
  {
   "attachments": {},
   "cell_type": "markdown",
   "metadata": {},
   "source": [
    "# !!! Important !!!"
   ]
  },
  {
   "attachments": {},
   "cell_type": "markdown",
   "metadata": {},
   "source": [
    "**There are some Userdefined tags that arent in the 1128 tags** Example [Hayao Miyazaki,Miyazaki]"
   ]
  },
  {
   "attachments": {},
   "cell_type": "markdown",
   "metadata": {},
   "source": [
    "Should we create a new Table for all Tags? Or should we just change them into numbers and only work with the 1128 table?"
   ]
  },
  {
   "cell_type": "code",
   "execution_count": null,
   "metadata": {},
   "outputs": [],
   "source": [
    "# print(\"Movie:\", movies[7099].name)\n",
    "\n",
    "def CheckIfInLoopUpTable(genresToCheck):\n",
    "    inside = list()\n",
    "    keys = []\n",
    "    for item in genresToCheck:\n",
    "        for values in lookUpTags:\n",
    "            if lookUpTags[values] == item:\n",
    "                inside.append(item)\n",
    "                keys.append(values)\n",
    "\n",
    "    outside = list(set(genresToCheck) - set(inside))\n",
    "    print(\"Genres:\", genresToCheck)\n",
    "    print(\"Inside:\", inside)\n",
    "    print(\"Inside (numeric):\", keys)\n",
    "    print(\"Not inside:\", outside)\n",
    "    return inside\n",
    "\n",
    "CheckIfInLoopUpTable(list(users[19].movieTags[movies[7099]]))\n",
    "print(\"Genom Tags(inside):\", users[19].genomMovieTags[movies[7099]])"
   ]
  },
  {
   "cell_type": "markdown",
   "metadata": {},
   "source": [
    "# TODOS\n",
    "* search depending on tags\n",
    "* search depending on title similarity with than searches for a similar movie\n",
    "* seach query for getting ranking based best movie in specific genre (There are 19 genres (readme)!!)\n",
    "* beim ML teil können wir die filme die ein User gerated hat und ein genom tag haben aufteilen in test und training und predicten wie der score sein soll\n",
    "* jaccard similarity machen mit tags (brauchen die tags zu den einzelnen filmen) und dann 0 oder 1.\n",
    "* Powerpoint presentation machen"
   ]
  },
  {
   "cell_type": "code",
   "execution_count": null,
   "metadata": {},
   "outputs": [],
   "source": []
  }
 ],
 "metadata": {
  "kernelspec": {
   "display_name": "Python 3.10.8 64-bit (microsoft store)",
   "language": "python",
   "name": "python3"
  },
  "language_info": {
   "codemirror_mode": {
    "name": "ipython",
    "version": 3
   },
   "file_extension": ".py",
   "mimetype": "text/x-python",
   "name": "python",
   "nbconvert_exporter": "python",
   "pygments_lexer": "ipython3",
   "version": "3.10.9"
  },
  "vscode": {
   "interpreter": {
    "hash": "da3ac80dfd32d6bcda3ee285f394072c7bb8dfa40397edd1d8e4ae25456395eb"
   }
  }
 },
 "nbformat": 4,
 "nbformat_minor": 4
}
