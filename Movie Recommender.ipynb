{
 "cells": [
  {
   "attachments": {},
   "cell_type": "markdown",
   "metadata": {},
   "source": [
    "# Advanced Information Retrieval - Project\n",
    "\n",
    "### Organizational infos:\n",
    "* 30 Points in total\n",
    "* Deadline: 09.01.2023 23:59"
   ]
  },
  {
   "cell_type": "code",
   "execution_count": null,
   "metadata": {},
   "outputs": [],
   "source": [
    "#imports\n",
    "\n",
    "import pandas as pd\n",
    "import numpy as np\n",
    "import random\n",
    "import ast\n",
    "import gensim\n",
    "from torch import nn\n",
    "import torch\n",
    "from nltk.tokenize import WhitespaceTokenizer\n",
    "from scipy.stats import pearsonr\n",
    "from thefuzz import fuzz\n",
    "from thefuzz import process"
   ]
  },
  {
   "attachments": {},
   "cell_type": "markdown",
   "metadata": {},
   "source": [
    "## Movie struct\n",
    "Create a struct that contains all  the movie relevant Information to work with.\n",
    "Could be changed at any given time.\n"
   ]
  },
  {
   "attachments": {},
   "cell_type": "markdown",
   "metadata": {},
   "source": [
    "**Define all relevante class attributes**"
   ]
  },
  {
   "cell_type": "code",
   "execution_count": null,
   "metadata": {},
   "outputs": [],
   "source": [
    "class Movie:\n",
    "    def __init__(self, id, name, genres):\n",
    "        self.id = id\n",
    "        self.name = name\n",
    "        self.genres = genres\n",
    "        self.tagsRelevance = [0] * 1128\n",
    "        self.tagsList = []\n",
    "        self.ratingCount = 0\n",
    "        self.ratingSum = 0\n",
    "        self.rating = 0\n",
    "\n",
    "    def SetTagRelevanceVector(self, tagsRelevance):\n",
    "        self.tagsRelevance = tagsRelevance\n",
    "\n",
    "    def SetTagsList(self, tagsList):\n",
    "        self.tagsList = tagsList\n",
    "    \n",
    "    def SetSumRatings(self, userRatings):\n",
    "        self.rating = userRatings\n",
    "    \n",
    "    def AddRatingCount(self, userRating):\n",
    "        self.ratingCount += 1\n",
    "        self.ratingSum += userRating\n",
    "        self.rating = self.ratingSum / self.ratingCount\n",
    "    "
   ]
  },
  {
   "attachments": {},
   "cell_type": "markdown",
   "metadata": {},
   "source": [
    "**Create A List of Movies and a look up Table for the Genres for later usage.**"
   ]
  },
  {
   "attachments": {},
   "cell_type": "markdown",
   "metadata": {},
   "source": [
    "The Genres could also be used for a similarity measurement so i just saved the just in case.\n",
    "Also i am not to sure if genre-14 (Imax) should really be inluded. "
   ]
  },
  {
   "cell_type": "code",
   "execution_count": null,
   "metadata": {},
   "outputs": [],
   "source": [
    "\n",
    "def CreateMovieList(lookUpGenre):\n",
    "    allMovies = {}\n",
    "    moviedocs = pd.read_csv('movies.csv')\n",
    "    lookUpIndex = 1\n",
    "\n",
    "    for i in range(len(moviedocs)):\n",
    "        movieGenres = moviedocs['genres'][i]\n",
    "        movieGenresList = movieGenres.split('|')\n",
    "        movieGenresNumericalList = []\n",
    "        for word in movieGenresList:\n",
    "            if word not in lookUpGenre:\n",
    "                lookUpGenre[word] = lookUpIndex\n",
    "                lookUpIndex += 1\n",
    "\n",
    "            movieGenresNumericalList.append(lookUpGenre[word])\n",
    "        movie = Movie(moviedocs['movieId'][i], moviedocs['title'][i], movieGenresNumericalList)\n",
    "\n",
    "        allMovies[movie.id] = movie\n",
    "    return allMovies\n",
    "    "
   ]
  },
  {
   "attachments": {},
   "cell_type": "markdown",
   "metadata": {},
   "source": [
    "**Adds the Genom Score relevances to the Movies**"
   ]
  },
  {
   "attachments": {},
   "cell_type": "markdown",
   "metadata": {},
   "source": [
    "The genom score is the relevances the tags have to the movies. We also have a csv file mapping the tags to an index.\n",
    "So i created a tags look up table."
   ]
  },
  {
   "cell_type": "code",
   "execution_count": null,
   "metadata": {},
   "outputs": [],
   "source": [
    "def CreateTagsLookUpTable():\n",
    "    genres = pd.read_csv('genome-tags.csv')\n",
    "    tagsLookUpTable = {}\n",
    "    for index in range(len(genres)):\n",
    "        tagsLookUpTable[genres['tagId'][index]] = genres['tag'][index]\n",
    "        index += 1\n",
    "    return tagsLookUpTable\n",
    "\n",
    "tags_lookup_table = CreateTagsLookUpTable()\n",
    "\n",
    "\n",
    "def AddGenoScoresToMovies(movieList):\n",
    "    genomeScores = pd.read_csv('genome-scores.csv')\n",
    "    movieTagsRelevance = []\n",
    "    tags = []\n",
    "    movieId = genomeScores['movieId'][0]\n",
    "    for i in range(len(genomeScores)):\n",
    "        if genomeScores['movieId'][i] != movieId:\n",
    "            movieList[movieId].SetTagRelevanceVector(movieTagsRelevance.copy())\n",
    "            movieList[movieId].SetTagsList(tags.copy())\n",
    "            movieId = genomeScores['movieId'][i]\n",
    "            movieTagsRelevance.clear()\n",
    "            tags.clear()\n",
    "\n",
    "        tags.append(tags_lookup_table[genomeScores[\"tagId\"][i]])\n",
    "        movieTagsRelevance.append(genomeScores['relevance'][i])\n",
    "    movieList[movieId].SetTagRelevanceVector(movieTagsRelevance)\n",
    "    return\n",
    "\n",
    "\n",
    "genomeScores = pd.read_csv('genome-scores.csv')\n",
    "print(genomeScores['movieId'][0])\n",
    "print(genomeScores['relevance'][0])"
   ]
  },
  {
   "attachments": {},
   "cell_type": "markdown",
   "metadata": {},
   "source": [
    "**Using all the Functions above**\n"
   ]
  },
  {
   "attachments": {},
   "cell_type": "markdown",
   "metadata": {},
   "source": [
    "well it's not takes a lot of time to add all the relevance scores..."
   ]
  },
  {
   "cell_type": "code",
   "execution_count": null,
   "metadata": {},
   "outputs": [],
   "source": [
    "lookUpTableGenres = {}\n",
    "movies = CreateMovieList(lookUpTableGenres)\n",
    "AddGenoScoresToMovies(movies)\n",
    "lookUpTags = CreateTagsLookUpTable()\n",
    "\n"
   ]
  },
  {
   "attachments": {},
   "cell_type": "markdown",
   "metadata": {},
   "source": [
    "**Use the tags as a similarity measurement vector.**"
   ]
  },
  {
   "attachments": {},
   "cell_type": "markdown",
   "metadata": {},
   "source": [
    "Get a sorted List with a given size depending on the count. Uses the Cosine similiarity or Jaccard similarity to calculate the tags similarity between movies."
   ]
  },
  {
   "cell_type": "code",
   "execution_count": null,
   "metadata": {},
   "outputs": [],
   "source": [
    "print(movies[1].tagsList)\n",
    "def calc_cosine(movieOne, movieTwo):\n",
    "\n",
    "    d_1 = 0\n",
    "    d_2 = 0\n",
    "    numerator = 0\n",
    "    for index in range(len(movieOne)):\n",
    "        numerator += movieOne[index] * movieTwo[index]\n",
    "        d_1 += movieOne[index] * movieOne[index]\n",
    "        d_2 += movieTwo[index] * movieTwo[index]\n",
    "\n",
    "    denominator = np.sqrt(d_1) * np.sqrt(d_2)\n",
    "    res = numerator / denominator\n",
    "    return res\n",
    "\n",
    "\n",
    "def jaccard_sim(movie1,movie2):\n",
    "    number_both=set(movie1).intersection(set(movie2))\n",
    "    number_oberservations_in_either = len(movie1)+len(movie2)-len(number_both)\n",
    "    similarity= float(len(number_both)) / number_oberservations_in_either\n",
    "    return similarity\n",
    "\n",
    "\n",
    "def GetTopTagsCosineSims(count, movies, query):\n",
    "\n",
    "    #empty\n",
    "    if query.tagsRelevance.count(0) == 1128:\n",
    "        return -1\n",
    "        \n",
    "    smiliarMovies = {}\n",
    "    simValues = []\n",
    "    for mID in movies:\n",
    "        if movies[mID].name == query.name or movies[mID].tagsRelevance.count(0) == 1128:\n",
    "            continue\n",
    "        sim = calc_cosine(movies[mID].tagsRelevance, query.tagsRelevance)\n",
    "        simValues.append(sim)\n",
    "        smiliarMovies[sim] = movies[mID].name\n",
    "\n",
    "    TopSimilar = {}\n",
    "\n",
    "\n",
    "    for i in range(count):\n",
    "        v = max(simValues)\n",
    "        TopSimilar[v] = smiliarMovies[v]\n",
    "        simValues.remove(v)\n",
    "    return TopSimilar\n",
    "\n",
    "def get_top_tags_jaccard_sims(count, movies, query):\n",
    "\n",
    "    if query.tagsRelevance.count(0) == 1128:\n",
    "        return -1\n",
    "\n",
    "    smiliar_movies = {}\n",
    "    sim_values = []\n",
    "    for mID in movies:\n",
    "        if movies[mID].name == query.name or movies[mID].tagsRelevance.count(0) == 1128:\n",
    "            continue\n",
    "        sim = jaccard_sim(movies[mID].tagsRelevance, query.tagsRelevance)\n",
    "        sim_values.append(sim)\n",
    "        smiliar_movies[sim] = movies[mID].name\n",
    "\n",
    "    top_similar = {}\n",
    "\n",
    "    sim_values.sort(reverse=True)\n",
    "\n",
    "    for i in range(count):\n",
    "        top_similar[sim_values[i]] = smiliar_movies[sim_values[i]]\n",
    "    return top_similar\n",
    "\n",
    "\n",
    "def PrintSimilarity(similarMovies):\n",
    "    if similarMovies != -1:\n",
    "        #print(\"Query: \", query.name)\n",
    "        print(\"similar Movies: \")\n",
    "        count = 1\n",
    "        for sim in similarMovies:\n",
    "            print(count, similarMovies[sim] + \":\", sim)\n",
    "            count += 1\n",
    "    else:\n",
    "        print(\"Query deosn't have tags!\")\n"
   ]
  },
  {
   "cell_type": "markdown",
   "metadata": {
    "collapsed": false
   },
   "source": [
    "Get a sorted List with a given size depending on the count. Uses the Pearson Correlation Coefficient to calculate the tags similarity between movies."
   ]
  },
  {
   "cell_type": "code",
   "execution_count": null,
   "metadata": {
    "collapsed": false
   },
   "outputs": [],
   "source": [
    "def calcPearsonCoefficient(movie, query):\n",
    "    correlation, _ = pearsonr(movie, query)\n",
    "    return correlation\n",
    "\n",
    "def GetTopTagsPearsonCorrelation(count, movies, query):\n",
    "\n",
    "    if query.tagsRelevance.count(0) == 1128:\n",
    "        return -1\n",
    "\n",
    "    similarity = dict()\n",
    "    for mID in movies:\n",
    "        if movies[mID].name == query.name or movies[mID].tagsRelevance.count(0) == 1128:\n",
    "            continue\n",
    "        sim = calcPearsonCoefficient(movies[mID].tagsRelevance, query.tagsRelevance)\n",
    "        similarity[movies[mID].name] = sim\n",
    "\n",
    "    top_movies = dict()\n",
    "    for key in sorted(similarity, key=similarity.get, reverse=True)[:count]:\n",
    "        top_movies[key] = similarity[key]\n",
    "\n",
    "    return top_movies\n",
    "\n",
    "def PrintPearsonCorrelation(similarMovies):\n",
    "    if similarMovies != -1:\n",
    "        print(\"\\nQuery: \", query.name)\n",
    "        print(\"similar Movies according to Pearson Correlation Coefficient: \")\n",
    "        for idx, movie_key in enumerate(similarMovies):\n",
    "            print(idx + 1, str(movie_key) + \" : \" + str(similarMovies[movie_key]))\n",
    "    else:\n",
    "        print(\"Query deosn't have tags!\")"
   ]
  },
  {
   "attachments": {},
   "cell_type": "markdown",
   "metadata": {},
   "source": [
    "**Create a query and get/prints the movies with similar tags**"
   ]
  },
  {
   "cell_type": "markdown",
   "metadata": {},
   "source": [
    "Uses the functions above to print the query result."
   ]
  },
  {
   "cell_type": "code",
   "execution_count": null,
   "metadata": {},
   "outputs": [],
   "source": [
    "query = movies[4896]\n",
    "count = 10\n",
    "\n",
    "similarMovies = GetTopTagsCosineSims(count, movies, query)\n",
    "PrintSimilarity(similarMovies)\n",
    "\n",
    "similar_movies_with_jaccard = get_top_tags_jaccard_sims(count, movies, query)\n",
    "PrintSimilarity(similar_movies_with_jaccard)\n",
    "\n",
    "similarPearsonMovies = GetTopTagsPearsonCorrelation(count, movies, query)\n",
    "PrintPearsonCorrelation(similarPearsonMovies)\n"
   ]
  },
  {
   "attachments": {},
   "cell_type": "markdown",
   "metadata": {},
   "source": [
    "# Fuzzy Title Matching - Levenshtein\n",
    "\n",
    "Fuzzy matches the given title against all movie titles using the levenshtein distance"
   ]
  },
  {
   "cell_type": "code",
   "execution_count": null,
   "metadata": {},
   "outputs": [],
   "source": [
    "def fuzzyMatch(movies, user_title):\n",
    "    movie_titles = [movies[mID].name for mID in movies]\n",
    "    return process.extractOne(user_title, movie_titles, scorer=fuzz.partial_ratio)\n",
    "\n",
    "matched_title = fuzzyMatch(movies, \"Serch fo Spick\")\n",
    "print(matched_title)"
   ]
  },
  {
   "attachments": {},
   "cell_type": "markdown",
   "metadata": {},
   "source": [
    "# Fuzzy Title Matching - TF-IDF w. Cosine Similarity\n",
    "Fuzzy matches the given title against all movies title using tf-idf and the cosine similarity measure"
   ]
  },
  {
   "cell_type": "code",
   "execution_count": null,
   "metadata": {},
   "outputs": [],
   "source": [
    "from sklearn.metrics.pairwise import cosine_similarity\n",
    "\n",
    "def getTitleTokens(title):\n",
    "    title = title.lower()\n",
    "    return [title[idx] + title[idx + 1] for idx in range(len(title) - 1)]\n",
    "\n",
    "def getAllDistinctTitleTokens(titles):\n",
    "    title_tokens = set()\n",
    "    for title in titles:\n",
    "        title_tokens.update(getTitleTokens(title))\n",
    "    return sorted(title_tokens)\n",
    "\n",
    "def getTF(titles, title_tokens):\n",
    "    tf_dict = dict.fromkeys(title_tokens, 0)\n",
    "    for title in titles:\n",
    "        for token in set(getTitleTokens(title)):\n",
    "            tf_dict[token] += 1\n",
    "    return tf_dict\n",
    "\n",
    "def getIDF(termFrequencyDict, num_titles, title_tokens):\n",
    "    idf_dict = dict.fromkeys(title_tokens, 0)\n",
    "    for token in title_tokens:\n",
    "        idf_dict[token] = np.log10(num_titles / (termFrequencyDict[token]))\n",
    "    return idf_dict\n",
    "\n",
    "def getTFIDF(title, title_tokens, idf_dict):\n",
    "    tfidf_dict = dict.fromkeys(title_tokens, 0)\n",
    "    for token in set(getTitleTokens(title)):\n",
    "        tfidf_dict[token] += idf_dict[token]\n",
    "    return tfidf_dict\n",
    "\n",
    "def cosineSimilarity(vector1, vector2):\n",
    "    d_1 = 0\n",
    "    d_2 = 0\n",
    "    numerator = 0\n",
    "    for v1, v2 in zip(vector1, vector2):\n",
    "        numerator += v1 * v2\n",
    "        d_1 += v1 ** 2\n",
    "        d_2 += v2 ** 2\n",
    "\n",
    "    d1_euclid = np.sqrt(d_1)\n",
    "    d2_euclid = np.sqrt(d_2)\n",
    "    denominator = (d1_euclid * d2_euclid) if (d1_euclid * d2_euclid) >= 0 else -(d1_euclid * d2_euclid)\n",
    "    return numerator / denominator\n",
    "    \n",
    "\n",
    "def fuzzyMatchTFIDF(user_title, titles):\n",
    "    titles = set([movies[mID].name for mID in movies] + [user_title])\n",
    "    title_tokens = getAllDistinctTitleTokens(titles)\n",
    "\n",
    "    tf_dict = getTF(titles, title_tokens)\n",
    "    idf_dict = getIDF(tf_dict, len(titles), title_tokens)\n",
    "    \n",
    "    user_title_dict = dict.fromkeys(title_tokens, 0)\n",
    "    for token in getTitleTokens(user_title):\n",
    "        user_title_dict[token] += idf_dict[token]\n",
    "\n",
    "    most_similar_title = \" \"\n",
    "    highest_similarity, title_similarity = 0.0, 0.0\n",
    "    current_title_dict = dict.fromkeys(title_tokens, 0)\n",
    "    for title in titles:\n",
    "        current_title_dict = getTFIDF(title, title_tokens, idf_dict)\n",
    "        title_similarity = cosine_similarity([list(current_title_dict.values())], [list(user_title_dict.values())])\n",
    "        if title_similarity > highest_similarity and title != user_title:\n",
    "            highest_similarity = title_similarity\n",
    "            most_similar_title = title\n",
    "\n",
    "    return most_similar_title\n",
    "\n",
    "print(fuzzyMatchTFIDF(\"Ded and living\", movies))\n"
   ]
  },
  {
   "attachments": {},
   "cell_type": "markdown",
   "metadata": {},
   "source": [
    "# User Struct\n",
    "\n",
    "A struct that contains the user ratings and also the tags the user choosed for a movie."
   ]
  },
  {
   "cell_type": "code",
   "execution_count": null,
   "metadata": {},
   "outputs": [],
   "source": [
    "class User:\n",
    "    def __init__(self, id):\n",
    "        self.id = id\n",
    "        self.movieRatings = {}\n",
    "        self.movieTags = {}\n",
    "        self.genomMovieTags = {}\n",
    "    \n",
    "    def AddRating(self, movie, rating):\n",
    "        self.movieRatings[movie] = rating\n",
    "    \n",
    "    def AddTags(self, movie, tag):\n",
    "        if movie not in self.movieTags:\n",
    "            self.movieTags[movie] = []\n",
    "        self.movieTags[movie].append(tag)\n",
    "\n",
    "    def UpdateGenomTags(self, lookUpTableGenom):\n",
    "        for movie in self.movieTags:\n",
    "            inside = list()\n",
    "            for tag in self.movieTags[movie]:\n",
    "                for values in lookUpTags:\n",
    "                    if lookUpTags[values] == tag:\n",
    "                        inside.append(values)\n",
    "                        \n",
    "            self.genomMovieTags[movie] = inside\n"
   ]
  },
  {
   "attachments": {},
   "cell_type": "markdown",
   "metadata": {},
   "source": [
    "**Creates a list in User with every movie ranked by the User the calculates the generel movie ratings**"
   ]
  },
  {
   "attachments": {},
   "cell_type": "markdown",
   "metadata": {},
   "source": [
    "takes 5 minutes..."
   ]
  },
  {
   "cell_type": "code",
   "execution_count": null,
   "metadata": {},
   "outputs": [],
   "source": [
    "# userId,movieId,rating,timestamp\n",
    "def CreateUsers(allMovies):\n",
    "    ratings = pd.read_csv('ratings.csv')\n",
    "    UserDic = {}\n",
    "    userId = -1\n",
    "\n",
    "    for i in range(len(ratings)):\n",
    "        movie = allMovies[ratings['movieId'][i]]\n",
    "        userID = ratings['userId'][i]\n",
    "        ratingsRow = ratings['rating'][i]\n",
    "\n",
    "        if userID != userId:\n",
    "            userId = userID\n",
    "            newUser = User(userId)      \n",
    "            UserDic[newUser.id] = newUser\n",
    "\n",
    "        newUser.AddRating(movie, ratingsRow)\n",
    "        movie.AddRatingCount(ratingsRow)\n",
    "    return UserDic\n",
    "\n",
    "users = CreateUsers(movies)\n"
   ]
  },
  {
   "cell_type": "code",
   "execution_count": null,
   "metadata": {},
   "outputs": [],
   "source": [
    "# 7045,4896,4.0\n",
    "print(movies[4896].name)\n",
    "print(\"Movie Rating:\", movies[4896].rating)\n",
    "print(\"Random User Rating: \", users[7045].movieRatings[movies[4896]])\n"
   ]
  },
  {
   "attachments": {},
   "cell_type": "markdown",
   "metadata": {},
   "source": [
    "**Addind tags that user rated on movies (not every rated movie has a tag vice versa)**"
   ]
  },
  {
   "cell_type": "code",
   "execution_count": null,
   "metadata": {},
   "outputs": [],
   "source": [
    "#userId,movieId,tag,timestamp\n",
    "def UserDefinedTag(allUsers, movies):\n",
    "    userTags = pd.read_csv('tags.csv')\n",
    "\n",
    "    activeUser = allUsers[userTags['userId'][0]]\n",
    "    \n",
    "    movie = movies[userTags['movieId'][0]]\n",
    "    for i in range(len(userTags)):\n",
    "        if activeUser.id != userTags['userId'][i]:\n",
    "            activeUser = allUsers[userTags['userId'][i]]\n",
    "\n",
    "        if movie.id != userTags['movieId'][i]:\n",
    "            movie = movies[userTags['movieId'][i]]\n",
    "\n",
    "        activeUser.AddTags(movie, userTags['tag'][i])\n",
    "       \n",
    "UserDefinedTag(users, movies) \n"
   ]
  },
  {
   "attachments": {},
   "cell_type": "markdown",
   "metadata": {},
   "source": [
    "**Adding the Genom tags in numerical form**"
   ]
  },
  {
   "cell_type": "code",
   "execution_count": null,
   "metadata": {},
   "outputs": [],
   "source": [
    "def SetGenomTags(allUsers):\n",
    "    for userId in allUsers:\n",
    "        allUsers[userId].UpdateGenomTags(lookUpTags)\n",
    "\n",
    "SetGenomTags(users)"
   ]
  },
  {
   "attachments": {},
   "cell_type": "markdown",
   "metadata": {},
   "source": [
    "# !!! Important !!!"
   ]
  },
  {
   "attachments": {},
   "cell_type": "markdown",
   "metadata": {},
   "source": [
    "**There are some Userdefined tags that arent in the 1128 tags** Example [Hayao Miyazaki,Miyazaki]"
   ]
  },
  {
   "attachments": {},
   "cell_type": "markdown",
   "metadata": {},
   "source": [
    "Should we create a new Table for all Tags? Or should we just change them into numbers and only work with the 1128 table?"
   ]
  },
  {
   "cell_type": "code",
   "execution_count": null,
   "metadata": {},
   "outputs": [],
   "source": [
    "# print(\"Movie:\", movies[7099].name)\n",
    "\n",
    "def CheckIfInLoopUpTable(genresToCheck):\n",
    "    inside = list()\n",
    "    keys = []\n",
    "    for item in genresToCheck:\n",
    "        for values in lookUpTags:\n",
    "            if lookUpTags[values] == item:\n",
    "                inside.append(item)\n",
    "                keys.append(values)\n",
    "\n",
    "    outside = list(set(genresToCheck) - set(inside))\n",
    "    print(\"Genres:\", genresToCheck)\n",
    "    print(\"Inside:\", inside)\n",
    "    print(\"Inside (numeric):\", keys)\n",
    "    print(\"Not inside:\", outside)\n",
    "    return inside\n",
    "\n",
    "CheckIfInLoopUpTable(list(users[19].movieTags[movies[7099]]))\n",
    "print(\"Genom Tags(inside):\", users[19].genomMovieTags[movies[7099]])"
   ]
  },
  {
   "cell_type": "markdown",
   "metadata": {},
   "source": [
    "# TODOS\n",
    "* search depending on tags\n",
    "* search depending on title similarity with than searches for a similar movie\n",
    "* seach query for getting ranking based best movie in specific genre (There are 19 genres (readme)!!)\n",
    "* beim ML teil können wir die filme die ein User gerated hat und ein genom tag haben aufteilen in test und training und predicten wie der score sein soll\n",
    "* jaccard similarity machen mit tags (brauchen die tags zu den einzelnen filmen) und dann 0 oder 1.\n",
    "* Powerpoint presentation machen"
   ]
  },
  {
   "cell_type": "markdown",
   "metadata": {
    "collapsed": false
   },
   "source": [
    "Tags class and lookup table for tag name and id"
   ]
  },
  {
   "cell_type": "code",
   "execution_count": null,
   "metadata": {},
   "outputs": [],
   "source": [
    "\n",
    "class Tags:\n",
    "    def __init__(self, tag_id, tag_name):\n",
    "        self.tags_relevance = [0] * 1128\n",
    "        self.tag_id = tag_id\n",
    "        self.tag_name = tag_name\n",
    "\n",
    "    def set_tag_relevance_vector(self, tags_relevance):\n",
    "        self.tags_relevance = tags_relevance\n",
    "\n",
    "\n",
    "\n",
    "def create_tag_list():\n",
    "    tags_dict = {}\n",
    "    genome_tags = pd.read_csv('genome-tags.csv')\n",
    "\n",
    "    for i in range(len(genome_tags)):\n",
    "\n",
    "        tag = Tags(genome_tags['tagId'][i], genome_tags['tag'][i])\n",
    "        tags_dict[tag.tag_name] = tag\n",
    "\n",
    "    return tags_dict\n",
    "\n",
    "\n",
    "def create_tags_id_lookup_table():\n",
    "    genres = pd.read_csv('genome-tags.csv')\n",
    "    tags_lookup_table = {}\n",
    "    for index in range(len(genres)):\n",
    "        tags_lookup_table[genres['tag'][index]] = genres['tagId'][index]\n",
    "        index += 1\n",
    "    return tags_lookup_table\n",
    "\n",
    "\n",
    "lookup_table_tags = create_tags_id_lookup_table()\n",
    "tags_list = create_tag_list()\n",
    "\n",
    "\n"
   ]
  },
  {
   "cell_type": "markdown",
   "metadata": {
    "collapsed": false
   },
   "source": []
  },
  {
   "cell_type": "code",
   "execution_count": null,
   "metadata": {
    "collapsed": false
   },
   "outputs": [],
   "source": [
    "def user_tag_search(tags_test, movies, count):\n",
    "\n",
    "    tags_counter_vector = [0] * 1128\n",
    "\n",
    "    for tag in tags_test:\n",
    "        tags_counter_vector[lookup_table_tags[tag]] = 1\n",
    "\n",
    "    similar_movies = {}\n",
    "    sim_values = []\n",
    "    for mID in movies:\n",
    "        if movies[mID].tagsRelevance.count(0) == 1128:\n",
    "            continue\n",
    "        sim = calc_cosine(movies[mID].tagsRelevance, tags_counter_vector)\n",
    "        sim_values.append(sim)\n",
    "        similar_movies[sim] = movies[mID].name\n",
    "\n",
    "    top_similar = {}\n",
    "    sim_values.sort(reverse=True)\n",
    "\n",
    "    for i in range(count):\n",
    "        top_similar[sim_values[i]] = similar_movies[sim_values[i]]\n",
    "    return top_similar\n",
    "\n"
   ]
  },
  {
   "cell_type": "markdown",
   "metadata": {
    "collapsed": false
   },
   "source": [
    "User can use the function user_tag_search to insert genome tags and get movie recommendations as a result"
   ]
  },
  {
   "cell_type": "code",
   "execution_count": null,
   "metadata": {
    "collapsed": false
   },
   "outputs": [],
   "source": [
    "\n",
    "user_tag_result = user_tag_search([\"action\", \"action packed\"], movies, 10)\n",
    "PrintSimilarity(user_tag_result)"
   ]
  }
 ],
 "metadata": {
  "kernelspec": {
   "display_name": ".venv",
   "language": "python",
   "name": "python3"
  },
  "language_info": {
   "codemirror_mode": {
    "name": "ipython",
    "version": 3
   },
   "file_extension": ".py",
   "mimetype": "text/x-python",
   "name": "python",
   "nbconvert_exporter": "python",
   "pygments_lexer": "ipython3",
   "version": "3.10.7"
  },
  "vscode": {
   "interpreter": {
    "hash": "1f6f13b05dbb56b424638b5b05df7e75f24b9a95478ea20b2b714e16a407293f"
   }
  }
 },
 "nbformat": 4,
 "nbformat_minor": 4
}
