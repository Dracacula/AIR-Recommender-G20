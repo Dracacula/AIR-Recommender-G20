{
 "cells": [
  {
   "attachments": {},
   "cell_type": "markdown",
   "metadata": {
    "pycharm": {
     "name": "#%% md\n"
    }
   },
   "source": [
    "# Advanced Information Retrieval - Project\n",
    "\n",
    "### Organizational infos:\n",
    "* 30 Points in total\n",
    "* Deadline: 09.01.2023 23:59"
   ]
  },
  {
   "cell_type": "code",
   "execution_count": 4,
   "metadata": {
    "pycharm": {
     "name": "#%%\n"
    }
   },
   "outputs": [
    {
     "name": "stderr",
     "output_type": "stream",
     "text": [
      "C:\\Users\\Salva\\AppData\\Local\\Packages\\PythonSoftwareFoundation.Python.3.10_qbz5n2kfra8p0\\LocalCache\\local-packages\\Python310\\site-packages\\tqdm\\auto.py:22: TqdmWarning: IProgress not found. Please update jupyter and ipywidgets. See https://ipywidgets.readthedocs.io/en/stable/user_install.html\n",
      "  from .autonotebook import tqdm as notebook_tqdm\n"
     ]
    }
   ],
   "source": [
    "#imports \n",
    "import pandas as pd\n",
    "import numpy as np\n",
    "import random\n",
    "import ast\n",
    "\n",
    "from torch import nn\n",
    "import torch\n",
    "from nltk.tokenize import WhitespaceTokenizer\n"
   ]
  },
  {
   "attachments": {},
   "cell_type": "markdown",
   "metadata": {
    "pycharm": {
     "name": "#%% md\n"
    }
   },
   "source": [
    "## Movie struct\n",
    "Create a struct that contains all  the movie relevant Information to work with.\n",
    "Could be changed at any given time.\n"
   ]
  },
  {
   "attachments": {},
   "cell_type": "markdown",
   "metadata": {
    "pycharm": {
     "name": "#%% md\n"
    }
   },
   "source": [
    "**Define all relevante class attributes**"
   ]
  },
  {
   "cell_type": "code",
   "execution_count": 72,
   "metadata": {},
   "outputs": [],
   "source": [
    "class Movie:\n",
    "    def __init__(self, id, name, genres):\n",
    "        self.id = id\n",
    "        self.name = name\n",
    "        self.genres = genres\n",
    "        self.tagsRelevance = 0\n",
    "\n",
    "    def SetTagRelevanceVector(self, tagsRelevance):\n",
    "        self.tagsRelevance = tagsRelevance"
   ]
  },
  {
   "attachments": {},
   "cell_type": "markdown",
   "metadata": {},
   "source": [
    "**Create A List of Movies and a look up Table for the Genres for later usage.**"
   ]
  },
  {
   "attachments": {},
   "cell_type": "markdown",
   "metadata": {},
   "source": [
    "The Genres could also be used for a similarity measurement so i just saved the just in case.\n",
    "Also i am not to sure if genre-14 (Imax) should really be inluded. "
   ]
  },
  {
   "cell_type": "code",
   "execution_count": 73,
   "metadata": {},
   "outputs": [],
   "source": [
    "\n",
    "def CreateMovieList(lookUpGenre):\n",
    "    allMovies = {}\n",
    "    moviedocs = pd.read_csv('movies.csv')\n",
    "    lookUpIndex = 1\n",
    "\n",
    "    for i in range(len(moviedocs)):\n",
    "        movieGenres = moviedocs['genres'][i]\n",
    "        movieGenresList = movieGenres.split('|')\n",
    "        movieGenresNumericalList = []\n",
    "        for word in movieGenresList:\n",
    "            if word not in lookUpGenre:\n",
    "                lookUpGenre[word] = lookUpIndex\n",
    "                lookUpIndex += 1\n",
    "\n",
    "            movieGenresNumericalList.append(lookUpGenre[word])\n",
    "        movie = Movie(moviedocs['movieId'][i], moviedocs['title'][i], movieGenresNumericalList)\n",
    "\n",
    "        allMovies[movie.id] = movie\n",
    "    return allMovies\n",
    "    "
   ]
  },
  {
   "attachments": {},
   "cell_type": "markdown",
   "metadata": {},
   "source": [
    "**Adds the Genom Score relevances to the Movies**"
   ]
  },
  {
   "attachments": {},
   "cell_type": "markdown",
   "metadata": {},
   "source": [
    "The genom score is the relevances the tags have to the movies. We also have a csv file mapping the tags to an index.\n",
    "So i created a tags look up table."
   ]
  },
  {
   "cell_type": "code",
   "execution_count": 76,
   "metadata": {},
   "outputs": [],
   "source": [
    "def AddGenoScoresToMovies(movieList):\n",
    "    genomeScores = pd.read_csv('genome-scores.csv')\n",
    "    movieTagsRelevance = []\n",
    "    movieId = genomeScores['movieId'][0]\n",
    "    for i in range(len(genomeScores)):\n",
    "        if genomeScores['movieId'][i] != movieId:\n",
    "            movieList[movieId].SetTagRelevanceVector(movieTagsRelevance.copy())\n",
    "            movieId = genomeScores['movieId'][i]\n",
    "            movieTagsRelevance.clear()\n",
    "        \n",
    "        movieTagsRelevance.append(genomeScores['relevance'][i])\n",
    "    movieList[movieId].SetTagRelevanceVector(movieTagsRelevance)\n",
    "    return\n",
    "\n",
    "def CreateTagsLookUpTable():\n",
    "    genres = pd.read_csv('genome-tags.csv')\n",
    "    tagsLookUpTable = {}\n",
    "    for index in range(len(genres)):\n",
    "        tagsLookUpTable[genres['tagId'][index]] = genres['tag'][index]\n",
    "        index += 1\n",
    "\n",
    "    for i in range(5):\n",
    "        print(tagsLookUpTable[i+1])\n",
    "    return tagsLookUpTable"
   ]
  },
  {
   "attachments": {},
   "cell_type": "markdown",
   "metadata": {
    "pycharm": {
     "name": "#%% md\n"
    }
   },
   "source": [
    "**Using all the Functions above**\n"
   ]
  },
  {
   "cell_type": "markdown",
   "metadata": {},
   "source": [
    "well it's not takes a loot of time to add all the relevance scores..."
   ]
  },
  {
   "cell_type": "code",
   "execution_count": 92,
   "metadata": {
    "pycharm": {
     "name": "#%%\n"
    }
   },
   "outputs": [],
   "source": [
    "lookUpTableGenres = {}\n",
    "movies = CreateMovieList(lookUpTableGenres)\n",
    "AddGenoScoresToMovies(movies)\n",
    "lookUpTags = CreateTagsLookUpTable()\n"
   ]
  },
  {
   "attachments": {},
   "cell_type": "markdown",
   "metadata": {},
   "source": [
    "**Use the tags as a similarity measurement vector.**"
   ]
  },
  {
   "cell_type": "markdown",
   "metadata": {},
   "source": [
    "Use the tags as a similarity measurement vector."
   ]
  },
  {
   "cell_type": "code",
   "execution_count": 91,
   "metadata": {
    "pycharm": {
     "name": "#%%\n"
    }
   },
   "outputs": [
    {
     "name": "stdout",
     "output_type": "stream",
     "text": [
      "1.0\n"
     ]
    }
   ],
   "source": [
    "\n",
    "# print(movies[1].name)\n",
    "# print(lookUpTableGenres)\n",
    "# print(lookUpTags)\n",
    "query = movies[2]\n",
    "\n",
    "def calc_cosine(movieOne, movieTwo):\n",
    "\n",
    "    d_1 = 0\n",
    "    d_2 = 0\n",
    "    numerator = 0\n",
    "    for index in range(len(movieOne)):\n",
    "        numerator += movieOne[index] * movieTwo[index]\n",
    "        d_1 += movieOne[index] * movieOne[index]\n",
    "        d_2 += movieTwo[index] * movieTwo[index]\n",
    "\n",
    "    denominator = np.sqrt(d_1) * np.sqrt(d_2)\n",
    "    res = numerator / denominator\n",
    "    return res\n",
    "\n",
    "print(calc_cosine(movies[2].tagsRelevance, query.tagsRelevance))\n"
   ]
  }
 ],
 "metadata": {
  "kernelspec": {
   "display_name": "Python 3.10.8 64-bit (microsoft store)",
   "language": "python",
   "name": "python3"
  },
  "language_info": {
   "codemirror_mode": {
    "name": "ipython",
    "version": 3
   },
   "file_extension": ".py",
   "mimetype": "text/x-python",
   "name": "python",
   "nbconvert_exporter": "python",
   "pygments_lexer": "ipython3",
   "version": "3.10.9"
  },
  "vscode": {
   "interpreter": {
    "hash": "da3ac80dfd32d6bcda3ee285f394072c7bb8dfa40397edd1d8e4ae25456395eb"
   }
  }
 },
 "nbformat": 4,
 "nbformat_minor": 4
}
