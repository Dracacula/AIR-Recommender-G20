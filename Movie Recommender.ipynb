{
 "cells": [
  {
   "attachments": {},
   "cell_type": "markdown",
   "metadata": {},
   "source": [
    "# Advanced Information Retrieval - Project\n",
    "\n",
    "### Organizational infos:\n",
    "* 30 Points in total\n",
    "* Deadline: 09.01.2023 23:59"
   ]
  },
  {
   "cell_type": "code",
   "execution_count": 5,
   "metadata": {},
   "outputs": [
    {
     "name": "stderr",
     "output_type": "stream",
     "text": [
      "C:\\Users\\schae\\AppData\\Local\\Programs\\Python\\Python310\\lib\\site-packages\\thefuzz\\fuzz.py:11: UserWarning: Using slow pure-python SequenceMatcher. Install python-Levenshtein to remove this warning\n",
      "  warnings.warn('Using slow pure-python SequenceMatcher. Install python-Levenshtein to remove this warning')\n"
     ]
    }
   ],
   "source": [
    "#imports\n",
    "\n",
    "import pandas as pd\n",
    "import numpy as np\n",
    "import random\n",
    "import ast\n",
    "import gensim\n",
    "from torch import nn\n",
    "import torch\n",
    "from nltk.tokenize import WhitespaceTokenizer\n",
    "from scipy.stats import pearsonr\n",
    "from thefuzz import fuzz\n",
    "from thefuzz import process"
   ]
  },
  {
   "attachments": {},
   "cell_type": "markdown",
   "metadata": {},
   "source": [
    "## Movie struct\n",
    "Create a struct that contains all  the movie relevant Information to work with.\n",
    "Could be changed at any given time.\n"
   ]
  },
  {
   "attachments": {},
   "cell_type": "markdown",
   "metadata": {},
   "source": [
    "**Define all relevante class attributes**"
   ]
  },
  {
   "cell_type": "code",
   "execution_count": 6,
   "metadata": {},
   "outputs": [],
   "source": [
    "class Movie:\n",
    "    def __init__(self, id, name, genres):\n",
    "        self.id = id\n",
    "        self.name = name\n",
    "        self.genres = genres\n",
    "        self.tagsRelevance = [0] * 1128\n",
    "        self.tagsList = []\n",
    "        self.ratingCount = 0\n",
    "        self.ratingSum = 0\n",
    "        self.rating = 0\n",
    "\n",
    "    def SetTagRelevanceVector(self, tagsRelevance):\n",
    "        self.tagsRelevance = tagsRelevance\n",
    "\n",
    "    def SetTagsList(self, tagsList):\n",
    "        self.tagsList = tagsList\n",
    "    \n",
    "    def SetSumRatings(self, userRatings):\n",
    "        self.rating = userRatings\n",
    "    \n",
    "    def AddRatingCount(self, userRating):\n",
    "        self.ratingCount += 1\n",
    "        self.ratingSum += userRating\n",
    "        self.rating = self.ratingSum / self.ratingCount\n",
    "    "
   ]
  },
  {
   "attachments": {},
   "cell_type": "markdown",
   "metadata": {},
   "source": [
    "**Create A List of Movies and a look up Table for the Genres for later usage.**"
   ]
  },
  {
   "attachments": {},
   "cell_type": "markdown",
   "metadata": {},
   "source": [
    "The Genres could also be used for a similarity measurement so i just saved the just in case.\n",
    "Also i am not to sure if genre-14 (Imax) should really be inluded. "
   ]
  },
  {
   "cell_type": "code",
   "execution_count": 7,
   "metadata": {},
   "outputs": [],
   "source": [
    "\n",
    "def CreateMovieList(lookUpGenre):\n",
    "    allMovies = {}\n",
    "    moviedocs = pd.read_csv('movies.csv')\n",
    "    lookUpIndex = 1\n",
    "\n",
    "    for i in range(len(moviedocs)):\n",
    "        movieGenres = moviedocs['genres'][i]\n",
    "        movieGenresList = movieGenres.split('|')\n",
    "        movieGenresNumericalList = []\n",
    "        for word in movieGenresList:\n",
    "            if word not in lookUpGenre:\n",
    "                lookUpGenre[word] = lookUpIndex\n",
    "                lookUpIndex += 1\n",
    "\n",
    "            movieGenresNumericalList.append(lookUpGenre[word])\n",
    "        movie = Movie(moviedocs['movieId'][i], moviedocs['title'][i], movieGenresNumericalList)\n",
    "\n",
    "        allMovies[movie.id] = movie\n",
    "    return allMovies\n",
    "    "
   ]
  },
  {
   "attachments": {},
   "cell_type": "markdown",
   "metadata": {},
   "source": [
    "**Adds the Genom Score relevances to the Movies**"
   ]
  },
  {
   "attachments": {},
   "cell_type": "markdown",
   "metadata": {},
   "source": [
    "The genom score is the relevances the tags have to the movies. We also have a csv file mapping the tags to an index.\n",
    "So i created a tags look up table."
   ]
  },
  {
   "cell_type": "code",
   "execution_count": 8,
   "metadata": {},
   "outputs": [
    {
     "name": "stdout",
     "output_type": "stream",
     "text": [
      "1\n",
      "0.0287499999999999\n"
     ]
    }
   ],
   "source": [
    "def CreateTagsLookUpTable():\n",
    "    genres = pd.read_csv('genome-tags.csv')\n",
    "    tagsLookUpTable = {}\n",
    "    for index in range(len(genres)):\n",
    "        tagsLookUpTable[genres['tagId'][index]] = genres['tag'][index]\n",
    "        index += 1\n",
    "    return tagsLookUpTable\n",
    "\n",
    "tags_lookup_table = CreateTagsLookUpTable()\n",
    "\n",
    "\n",
    "def AddGenoScoresToMovies(movieList):\n",
    "    genomeScores = pd.read_csv('genome-scores.csv')\n",
    "    movieTagsRelevance = []\n",
    "    tags = []\n",
    "    movieId = genomeScores['movieId'][0]\n",
    "    for i in range(len(genomeScores)):\n",
    "        if genomeScores['movieId'][i] != movieId:\n",
    "            movieList[movieId].SetTagRelevanceVector(movieTagsRelevance.copy())\n",
    "            movieList[movieId].SetTagsList(tags.copy())\n",
    "            movieId = genomeScores['movieId'][i]\n",
    "            movieTagsRelevance.clear()\n",
    "            tags.clear()\n",
    "\n",
    "        tags.append(tags_lookup_table[genomeScores[\"tagId\"][i]])\n",
    "        movieTagsRelevance.append(genomeScores['relevance'][i])\n",
    "    movieList[movieId].SetTagRelevanceVector(movieTagsRelevance)\n",
    "    return\n",
    "\n",
    "\n",
    "genomeScores = pd.read_csv('genome-scores.csv')\n",
    "print(genomeScores['movieId'][0])\n",
    "print(genomeScores['relevance'][0])"
   ]
  },
  {
   "attachments": {},
   "cell_type": "markdown",
   "metadata": {},
   "source": [
    "**Using all the Functions above**\n"
   ]
  },
  {
   "attachments": {},
   "cell_type": "markdown",
   "metadata": {},
   "source": [
    "well it's not takes a lot of time to add all the relevance scores..."
   ]
  },
  {
   "cell_type": "code",
   "execution_count": 9,
   "metadata": {},
   "outputs": [],
   "source": [
    "lookUpTableGenres = {}\n",
    "movies = CreateMovieList(lookUpTableGenres)\n",
    "AddGenoScoresToMovies(movies)\n",
    "lookUpTags = CreateTagsLookUpTable()\n",
    "\n"
   ]
  },
  {
   "attachments": {},
   "cell_type": "markdown",
   "metadata": {},
   "source": [
    "**Use the tags as a similarity measurement vector.**"
   ]
  },
  {
   "attachments": {},
   "cell_type": "markdown",
   "metadata": {},
   "source": [
    "Get a sorted List with a given size depending on the count. Uses the Cosine similiarity or Jaccard similarity to calculate the tags similarity between movies."
   ]
  },
  {
   "cell_type": "code",
   "execution_count": 10,
   "metadata": {},
   "outputs": [
    {
     "name": "stdout",
     "output_type": "stream",
     "text": [
      "['007', '007 (series)', '18th century', '1920s', '1930s', '1950s', '1960s', '1970s', '1980s', '19th century', '3d', '70mm', '80s', '9/11', 'aardman', 'aardman studios', 'abortion', 'absurd', 'action', 'action packed', 'adaptation', 'adapted from:book', 'adapted from:comic', 'adapted from:game', 'addiction', 'adolescence', 'adoption', 'adultery', 'adventure', 'affectionate', 'afi 100', 'afi 100 (laughs)', 'afi 100 (movie quotes)', 'africa', 'afterlife', 'aging', 'aids', 'airplane', 'airport', 'alaska', 'alcatraz', 'alcoholism', 'alien', 'alien invasion', 'aliens', 'allegory', 'almodovar', 'alone in the world', 'alter ego', 'alternate endings', 'alternate history', 'alternate reality', 'alternate universe', 'amazing cinematography', 'amazing photography', 'american civil war', 'amnesia', 'amy smart', 'android(s)/cyborg(s)', 'androids', 'animal movie', 'animals', 'animated', 'animation', 'anime', 'antarctica', 'anti-hero', 'anti-semitism', 'anti-war', 'apocalypse', 'archaeology', 'argentina', 'arms dealer', 'arnold', 'art', 'art house', 'artificial intelligence', 'artist', 'artistic', 'artsy', 'assassin', 'assassination', 'assassins', 'astronauts', 'atheism', 'atmospheric', 'australia', 'australian', 'author:alan moore', 'author:neil gaiman', 'autism', 'aviation', 'awesome', 'awesome soundtrack', 'awful', 'bad', 'bad acting', 'bad cgi', 'bad ending', 'bad plot', 'bad science', 'bad script', 'bad sequel', 'ballet', 'bank robbery', 'baseball', 'based on a book', 'based on a comic', 'based on a play', 'based on a true story', 'based on a tv show', 'based on a video game', 'based on book', 'based on comic', 'based on true story', 'basketball', 'batman', 'bdsm', 'beatles', 'beautiful', 'beautiful scenery', 'beautifully filmed', 'beauty pageant', 'beer', 'berlin', 'best of 2005', 'best war films', 'betrayal', 'better than expected', 'better than the american version', 'biblical', 'big budget', 'biographical', 'biography', 'biopic', 'birds', 'biting', 'bittersweet', 'bizarre', 'black and white', 'black comedy', 'blaxploitation', 'bleak', 'blindness', 'blood', 'bloody', 'boarding school', 'boat', 'bollywood', 'bombs', 'bond', 'book', 'book was better', 'books', 'boring', 'boring!', 'boston', 'bowling', 'boxing', 'brainwashing', 'brazil', 'breathtaking', 'brilliant', 'british', 'british comedy', 'broadway', 'brothers', 'brutal', 'brutality', 'buddy movie', 'bullshit history', 'bullying', 'business', 'c.s. lewis', 'california', 'camp', 'campy', 'canada', 'cancer', 'cannibalism', 'caper', 'capitalism', 'car chase', 'carrie-anne moss', 'cars', 'cartoon', 'casino', 'catastrophe', 'cathartic', 'catholicism', 'censorship', 'cerebral', 'cgi', 'character study', 'chase', 'cheating', 'cheerleading', 'cheesy', 'chess', 'chicago', 'chick flick', 'child abuse', 'childhood', 'children', 'china', 'chocolate', 'chris tucker', 'christian', 'christianity', 'christmas', 'cia', 'cinematography', 'circus', 'civil war', 'classic', 'classic car', 'classical music', 'claustrophobic', 'claymation', 'clever', 'clones', 'cloning', 'clowns', 'coen bros', 'coen brothers', 'cold war', 'college', 'colonialism', 'colourful', 'comedy', 'comic', 'comic book', 'comic book adaption', 'comics', 'coming of age', 'coming-of-age', 'communism', 'compassionate', 'competition', 'complex', 'complex characters', 'complicated', 'complicated plot', 'computer animation', 'computer game', 'computers', 'con artists', 'con men', 'confrontational', 'confusing', 'conspiracy', 'conspiracy theory', 'controversial', 'cooking', 'cool', 'corny', 'corporate america', 'corruption', 'costume drama', 'courage', 'court', 'courtroom', 'courtroom drama', 'crappy sequel', 'crazy', 'creativity', 'creepy', 'crime', 'crime gone awry', 'criterion', 'cross dressing', 'crude humor', 'cuba', 'cult', 'cult classic', 'cult film', 'culture clash', 'cute', 'cute!', 'cyberpunk', 'cyborgs', 'cynical', 'dance', 'dancing', 'dark', 'dark comedy', 'dark fantasy', 'dark hero', 'dark humor', 'dc comics', 'deadpan', 'death', 'death penalty', 'demons', 'depp & burton', 'depressing', 'depression', 'desert', 'destiny', 'detective', 'devil', 'dialogue', 'dialogue driven', 'dinosaurs', 'directorial debut', 'disability', 'disappointing', 'disaster', 'disney', 'disney animated feature', 'distopia', 'disturbing', 'divorce', 'doctors', 'documentary', 'dog', 'dogs', 'dolphins', 'downbeat', 'dr. seuss', 'dragon', 'dragons', 'drama', 'dramatic', 'dreamlike', 'dreams', 'dreamworks', 'drinking', 'drug abuse', 'drug addiction', 'drugs', 'dumb', 'dumb but funny', 'dynamic cgi action', 'dysfunctional family', 'dystopia', 'dystopic future', 'earnest', 'easily confused with other movie(s) (title)', 'east germany', 'eccentricity', 'ecology', 'educational', 'eerie', 'effects', 'egypt', 'emma watson', 'emotional', 'end of the world', 'england', 'enigmatic', 'ennio morricone', 'enormously long battle scene', 'ensemble cast', 'entertaining', 'entirely dialogue', 'environment', 'environmental', 'epic', 'erotic', 'espionage', 'ethnic conflict', 'evolution', 'excellent', 'excellent script', 'exceptional acting', 'exciting', 'existentialism', 'explosions', 'factual', 'fairy tale', 'fairy tales', 'fake documentary', 'family', 'family bonds', 'family drama', 'fantasy', 'fantasy world', 'farce', 'fascism', 'fashion', 'fast paced', 'father daughter relationship', 'father son relationship', 'father-son relationship', 'fbi', 'feel good movie', 'feel-good', 'fight scenes', 'fighting', 'fighting the system', 'figure skating', 'film noir', 'finnish', 'firefly', 'first contact', 'fish', 'flashbacks', 'food', 'football', 'forceful', 'foreign', 'foul language', 'fountain of youth', 'france', 'franchise', 'francis ford copolla', 'free speech', 'free to download', 'freedom', 'french', 'friendship', 'frightening', 'fun', 'fun movie', 'funniest movies', 'funny', 'funny as hell', 'future', 'futuristic', 'gambling', 'gangs', 'gangster', 'gangsters', 'gay', 'gay character', 'geek', 'geeks', 'genetics', 'genius', 'genocide', 'george orwell', 'german', 'germany', 'ghosts', 'ghosts/afterlife', 'giant robots', 'gilliam', 'girlie movie', 'glbt', 'global warming', 'god', 'golden palm', 'golf', 'good', 'good acting', 'good action', 'good dialogue', 'good music', 'good romantic comedies', 'good sequel', 'good soundtrack', 'good story', 'good versus evil', 'goofy', 'gore', 'goretastic', 'gory', 'goth', 'gothic', 'graphic design', 'graphic novel', 'gratuitous violence', 'great', 'great acting', 'great cinematography', 'great dialogue', 'great ending', 'great movie', 'great music', 'great soundtrack', 'greed', 'grim', 'grindhouse', 'gritty', 'gross-out', 'gruesome', 'guilt', 'guilty pleasure', 'gulf war', 'gunfight', 'guns', 'gypsy accent', 'hackers', 'hacking', 'halloween', 'hallucinatory', 'handycam', 'hannibal lecter', 'happy ending', 'hard to watch', 'harry potter', 'harsh', 'haunted house', 'hawaii', 'heartbreaking', 'heartwarming', 'heist', 'heroin', 'heroine', 'heroine in tight suit', 'high fantasy', 'high school', 'highly quotable', 'hilarious', 'hillarious', 'hip hop', 'historical', 'history', 'hit men', 'hitchcock', 'hitman', 'holiday', 'hollywood', 'holocaust', 'homeless', 'homophobia', 'homosexuality', 'honest', 'hong kong', 'horrible', 'horror', 'horses', 'hospital', 'hostage', 'hotel', 'humanity', 'humor', 'humorous', 'hunting', 'idealism', 'identity', 'idiotic', 'imaginary friend', 'imagination', 'imdb top 250', 'immigrants', 'immortality', 'incest', 'independent film', 'india', 'indiana jones', 'indians', 'indie', 'infidelity', 'innocence lost', 'insanity', 'inspirational', 'inspiring', 'intellectual', 'intelligent', 'intelligent sci-fi', 'intense', 'interesting', 'internet', 'interracial romance', 'intimate', 'investigation', 'iran', 'iraq', 'iraq war', 'ireland', 'irish', 'irish accent', 'ironic', 'irreverent', 'islam', 'island', 'isolation', 'israel', 'italian', 'italy', 'james bond', 'jane austen', 'japan', 'japanese', 'jay and silent bob', 'jazz', 'jesus', 'jewish', 'jews', 'journalism', 'judaism', 'jungle', 'justice', 'kick-butt women', 'kidnapping', 'kids', 'kids and family', 'king arthur', 'kubrick', 'kung fu', 'kurosawa', 'lame', 'las vegas', 'latin america', 'lawyer', 'lawyers', 'lesbian', 'life', 'life & death', 'life philosophy', 'light', 'lions', 'literary adaptation', 'literature', 'liv tyler', 'london', 'lone hero', 'loneliness', 'long', 'los angeles', 'love', 'love story', 'love triangles', 'low budget', 'lynch', 'lyrical', 'macabre', 'mad scientist', 'made for tv', 'mafia', 'magic', 'magic realism', 'male nudity', 'man versus machine', 'manipulation', 'marijuana', 'marriage', 'mars', 'martial arts', 'marvel', 'marx brothers', 'masterpiece', 'math', 'mathematics', 'maze', 'medieval', 'meditative', 'melancholic', 'melancholy', 'memory', 'memory loss', 'mental hospital', 'mental illness', 'mentor', 'metaphysics', 'mexico', 'middle east', 'midlife crisis', 'military', 'mindfuck', 'mining', 'minnesota', 'mission from god', 'mistaken identity', 'miyazaki', 'mob', 'mockumentary', 'modern fantasy', 'money', 'monkey', 'monster', 'monsters', 'monty python', 'moody', 'moon', 'moral ambiguity', 'morality', 'mother daughter relationship', 'mother-son relationship', 'motorcycle', 'mountain climbing', 'movie business', 'movielens top pick', 'moving', 'mozart', 'mtv', 'multiple storylines', 'mummy', 'muppets', 'murder', 'murder mystery', 'music', 'music business', 'musical', 'musicians', 'mutants', 'mystery', 'mythology', 'narrated', 'nasa', 'native americans', 'natural disaster', 'nature', 'nazi', 'nazis', 'neil gaiman', 'neo-nazis', 'neo-noir', 'nerds', 'new jersey', 'new orleans', 'new york', 'new york city', 'new zealand', 'ninja', 'no dialogue', 'no plot', 'nocturnal', 'noir', 'noir thriller', 'non-hollywood ending', 'non-linear', 'nonlinear', 'nostalgia', 'nostalgic', 'not as good as the first', 'not funny', 'notable nudity', 'notable soundtrack', 'nuclear', 'nuclear bomb', 'nuclear war', 'nudity', 'nudity (full frontal - brief)', 'nudity (full frontal - notable)', 'nudity (full frontal)', 'nudity (rear)', 'nudity (topless - brief)', 'nudity (topless - notable)', 'nudity (topless)', 'obsession', 'ocean', 'off-beat comedy', 'office', 'oil', 'olympics', 'ominous', 'opera', 'organized crime', 'original', 'original plot', 'orphans', 'oscar', 'oscar (best actor)', 'oscar (best actress)', 'oscar (best animated feature)', 'oscar (best cinematography)', 'oscar (best directing)', 'oscar (best editing)', 'oscar (best effects - visual effects)', 'oscar (best foreign language film)', 'oscar (best music - original score)', 'oscar (best music - original song)', 'oscar (best picture)', 'oscar (best sound)', 'oscar (best supporting actor)', 'oscar (best supporting actress)', 'oscar (best writing - screenplay written directly for the screen)', 'oscar winner', 'over the top', 'overrated', 'palestine', 'parallel universe', 'paranoia', 'paranoid', 'parenthood', 'paris', 'parody', 'passionate', 'penguins', 'perfect', 'period piece', 'peter pan', 'pg', 'pg-13', 'philip k. dick', 'philosophical', 'philosophy', 'photographer', 'photography', 'pigs', 'pirates', 'pixar', 'pixar animation', 'plot', 'plot holes', 'plot twist', 'poetry', 'poignant', 'pointless', 'poker', 'poland', 'police', 'police corruption', 'police investigation', 'political', 'political corruption', 'politics', 'pornography', 'post apocalyptic', 'post-apocalyptic', 'potential oscar nom', 'poverty', 'powerful ending', 'predictable', 'pregnancy', 'prejudice', 'prequel', 'president', 'pretentious', 'prison', 'prison escape', 'private detective', 'product placement', 'prohibition', 'propaganda', 'prostitution', 'psychedelic', 'psychiatrist', 'psychiatry', 'psychological', 'psychology', 'pulp', 'punk', 'puppets', 'queer', 'quirky', 'quotable', 'rabbits', 'race', 'race issues', 'racing', 'racism', 'radio', 'rags to riches', 'rape', 'rats', 'realistic', 'realistic action', 'reality tv', 'rebellion', 'redemption', 'reflective', 'relationships', 'religion', 'remade', 'remake', 'revenge', 'revolution', 'ridiculous', 'rio de janeiro', 'road movie', 'road trip', 'roald dahl', 'robbery', 'robert downey jr', 'robert ludlum', 'robot', 'robots', 'rock and roll', 'romance', 'romantic', 'romantic comedy', 'rome', 'runaway', 'russia', 'russian', 'sacrifice', 'sad', 'sad but good', 'samurai', 'san francisco', 'sappy', 'sarcasm', 'satire', 'satirical', 'saturday night live', 'saturn award (best science fiction film)', 'saturn award (best special effects)', 'scary', 'scenic', 'schizophrenia', 'school', 'sci fi', 'sci-fi', 'science', 'science fiction', 'scifi', 'scifi cult', 'scotland', 'screwball', 'screwball comedy', 'script', 'secret service', 'secrets', 'segregation', 'self discovery', 'sentimental', 'sequel', 'sequels', 'serial killer', 'series', 'sex', 'sex comedy', 'sexual', 'sexual abuse', 'sexuality', 'sexualized violence', 'sexy', 'shakespeare', 'shallow', 'shark', 'shopping', 'short', 'short-term memory loss', 'silent', 'silly', 'silly fun', 'simple', 'single father', 'sisters', 'skinhead', 'slackers', 'slapstick', 'slasher', 'slavery', 'slow', 'slow paced', 'small town', 'snakes', \"so bad it's funny\", \"so bad it's good\", 'soccer', 'social commentary', 'solitude', 'sophia coppola', 'south africa', 'south america', 'southern theme', 'space', 'space opera', 'space program', 'space travel', 'spaghetti western', 'spain', 'spanish', 'spanish civil war', 'special', 'special effects', 'spelling bee', 'spiders', 'spielberg', 'spies', 'splatter', 'spock', 'spoof', 'sports', 'spy', 'spying', 'stage magic', 'stand-up comedy', 'star trek', 'star wars', 'steampunk', 'stereotypes', 'stoner movie', 'stop motion', 'stop-motion', 'story', 'storytelling', 'stranded', 'strange', 'strippers', 'studio ghibli', 'stunning', 'stupid', 'stupid as hell', 'stupidity', 'stylish', 'stylized', 'submarine', 'suburbia', 'suicide', 'suicide attempt', 'super hero', 'super-hero', 'superhero', 'superheroes', 'supernatural', 'suprisingly clever', 'surfing', 'surprise ending', 'surreal', 'surrealism', 'surveillance', 'survival', 'suspense', 'suspenseful', 'swashbuckler', 'swedish', 'sweet', 'switching places', 'sword fight', 'sword fighting', 'talking animals', 'talky', 'tarantino', 'teacher', 'tear jerker', 'technology', 'teen', 'teen movie', 'teenager', 'teenagers', 'teens', 'teleportation', 'television', 'tense', 'terminal illness', 'terrorism', 'texas', 'thought-provoking', 'thriller', 'time', 'time loop', 'time travel', 'tokyo', 'tolkien', 'tom clancy', 'too long', 'too short', 'torture', 'touching', 'toys', 'tragedy', 'train', 'trains', 'transformation', 'transgender', 'travel', 'treasure', 'treasure hunt', 'tricky', 'trilogy', 'true story', 'truman capote', 'twist', 'twist ending', 'twists & turns', 'undercover cop', 'underdog', 'underrated', 'understated', 'underwater', 'unfunny', 'unintentionally funny', 'unique', 'united nations', 'unlikeable characters', 'unlikely friendships', 'unrealistic', 'unusual plot structure', 'us history', 'utopia', 'vampire', 'vampire human love', 'vampires', 'vengeance', 'very funny', 'very good', 'very interesting', 'video game', 'video game adaptation', 'video games', 'videogame', 'vienna', 'vietnam', 'vietnam war', 'view askew', 'vigilante', 'vigilantism', 'violence', 'violent', 'virginity', 'virtual reality', 'virus', 'visceral', 'visual', 'visually appealing', 'visually stunning', 'visuals', 'voodoo', 'voyeurism', 'war', 'war movie', 'wartime', 'waste of time', 'watch the credits', 'weapons', 'wedding', 'weed', 'weird', 'werewolf', 'werewolves', 'western', 'whimsical', 'wilderness', 'wine', 'wistful', 'witch', 'witches', 'witty', 'wizards', 'women', 'working class', 'workplace', 'world politics', 'world war i', 'world war ii', \"writer's life\", 'writers', 'writing', 'wuxia', 'wwii', 'zombie', 'zombies']\n"
     ]
    }
   ],
   "source": [
    "print(movies[1].tagsList)\n",
    "def calc_cosine(movieOne, movieTwo):\n",
    "\n",
    "    d_1 = 0\n",
    "    d_2 = 0\n",
    "    numerator = 0\n",
    "    for index in range(len(movieOne)):\n",
    "        numerator += movieOne[index] * movieTwo[index]\n",
    "        d_1 += movieOne[index] * movieOne[index]\n",
    "        d_2 += movieTwo[index] * movieTwo[index]\n",
    "\n",
    "    denominator = np.sqrt(d_1) * np.sqrt(d_2)\n",
    "    res = numerator / denominator\n",
    "    return res\n",
    "\n",
    "\n",
    "def jaccard_sim(movie1,movie2):\n",
    "    number_both=set(movie1).intersection(set(movie2))\n",
    "    number_oberservations_in_either = len(movie1)+len(movie2)-len(number_both)\n",
    "    similarity= float(len(number_both)) / number_oberservations_in_either\n",
    "    return similarity\n",
    "\n",
    "\n",
    "def GetTopTagsCosineSims(count, movies, query):\n",
    "\n",
    "    #empty\n",
    "    if query.tagsRelevance.count(0) == 1128:\n",
    "        return -1\n",
    "        \n",
    "    smiliarMovies = {}\n",
    "    simValues = []\n",
    "    for mID in movies:\n",
    "        if movies[mID].name == query.name or movies[mID].tagsRelevance.count(0) == 1128:\n",
    "            continue\n",
    "        sim = calc_cosine(movies[mID].tagsRelevance, query.tagsRelevance)\n",
    "        simValues.append(sim)\n",
    "        smiliarMovies[sim] = movies[mID].name\n",
    "\n",
    "    TopSimilar = {}\n",
    "\n",
    "\n",
    "    for i in range(count):\n",
    "        v = max(simValues)\n",
    "        TopSimilar[v] = smiliarMovies[v]\n",
    "        simValues.remove(v)\n",
    "    return TopSimilar\n",
    "\n",
    "def get_top_tags_jaccard_sims(count, movies, query):\n",
    "\n",
    "    if query.tagsRelevance.count(0) == 1128:\n",
    "        return -1\n",
    "\n",
    "    smiliar_movies = {}\n",
    "    sim_values = []\n",
    "    for mID in movies:\n",
    "        if movies[mID].name == query.name or movies[mID].tagsRelevance.count(0) == 1128:\n",
    "            continue\n",
    "        sim = jaccard_sim(movies[mID].tagsRelevance, query.tagsRelevance)\n",
    "        sim_values.append(sim)\n",
    "        smiliar_movies[sim] = movies[mID].name\n",
    "\n",
    "    top_similar = {}\n",
    "\n",
    "    sim_values.sort(reverse=True)\n",
    "\n",
    "    for i in range(count):\n",
    "        top_similar[sim_values[i]] = smiliar_movies[sim_values[i]]\n",
    "    return top_similar\n",
    "\n",
    "\n",
    "def PrintSimilarity(similarMovies):\n",
    "    if similarMovies != -1:\n",
    "        #print(\"Query: \", query.name)\n",
    "        print(\"similar Movies: \")\n",
    "        count = 1\n",
    "        for sim in similarMovies:\n",
    "            print(count, similarMovies[sim] + \":\", sim)\n",
    "            count += 1\n",
    "    else:\n",
    "        print(\"Query deosn't have tags!\")\n"
   ]
  },
  {
   "cell_type": "markdown",
   "metadata": {
    "collapsed": false
   },
   "source": [
    "Get a sorted List with a given size depending on the count. Uses the Pearson Correlation Coefficient to calculate the tags similarity between movies."
   ]
  },
  {
   "cell_type": "code",
   "execution_count": 11,
   "metadata": {
    "collapsed": false
   },
   "outputs": [],
   "source": [
    "def calcPearsonCoefficient(movie, query):\n",
    "    correlation, _ = pearsonr(movie, query)\n",
    "    return correlation\n",
    "\n",
    "def GetTopTagsPearsonCorrelation(count, movies, query):\n",
    "\n",
    "    if query.tagsRelevance.count(0) == 1128:\n",
    "        return -1\n",
    "\n",
    "    similarity = dict()\n",
    "    for mID in movies:\n",
    "        if movies[mID].name == query.name or movies[mID].tagsRelevance.count(0) == 1128:\n",
    "            continue\n",
    "        sim = calcPearsonCoefficient(movies[mID].tagsRelevance, query.tagsRelevance)\n",
    "        similarity[movies[mID].name] = sim\n",
    "\n",
    "    top_movies = dict()\n",
    "    for key in sorted(similarity, key=similarity.get, reverse=True)[:count]:\n",
    "        top_movies[key] = similarity[key]\n",
    "\n",
    "    return top_movies\n",
    "\n",
    "def PrintPearsonCorrelation(similarMovies):\n",
    "    if similarMovies != -1:\n",
    "        print(\"\\nQuery: \", query.name)\n",
    "        print(\"similar Movies according to Pearson Correlation Coefficient: \")\n",
    "        for idx, movie_key in enumerate(similarMovies):\n",
    "            print(idx + 1, str(movie_key) + \" : \" + str(similarMovies[movie_key]))\n",
    "    else:\n",
    "        print(\"Query deosn't have tags!\")"
   ]
  },
  {
   "attachments": {},
   "cell_type": "markdown",
   "metadata": {},
   "source": [
    "**Create a query and get/prints the movies with similar tags**"
   ]
  },
  {
   "cell_type": "markdown",
   "metadata": {},
   "source": [
    "Uses the functions above to print the query result."
   ]
  },
  {
   "cell_type": "code",
   "execution_count": 12,
   "metadata": {},
   "outputs": [
    {
     "name": "stdout",
     "output_type": "stream",
     "text": [
      "Query:  Harry Potter and the Sorcerer's Stone (a.k.a. Harry Potter and the Philosopher's Stone) (2001)\n",
      "similar Movies: \n",
      "1 Harry Potter and the Chamber of Secrets (2002): 0.977978451828736\n",
      "2 Harry Potter and the Goblet of Fire (2005): 0.9697791461817978\n",
      "3 Harry Potter and the Prisoner of Azkaban (2004): 0.9688240598617508\n",
      "4 Harry Potter and the Order of the Phoenix (2007): 0.9637341256626571\n",
      "5 Harry Potter and the Deathly Hallows: Part 1 (2010): 0.9437881725876737\n",
      "6 Harry Potter and the Half-Blood Prince (2009): 0.9437512850141854\n",
      "7 Harry Potter and the Deathly Hallows: Part 2 (2011): 0.9359784057024187\n",
      "8 Chronicles of Narnia: The Lion, the Witch and the Wardrobe, The (2005): 0.8976148003424176\n",
      "9 Spiderwick Chronicles, The (2008): 0.8844944457999436\n",
      "10 Chronicles of Narnia: Prince Caspian, The (2008): 0.8802772014082358\n",
      "Query:  Harry Potter and the Sorcerer's Stone (a.k.a. Harry Potter and the Philosopher's Stone) (2001)\n",
      "similar Movies: \n",
      "1 Bird Box (2018): 0.2\n",
      "2 The Hustle (2019): 0.19936204146730463\n",
      "3 A Wrinkle in Time (2018): 0.19872476089266738\n",
      "4 Summer of 84 (2018): 0.1980881571959639\n",
      "5 Death Note Rewrite: Genshisuru Kami (2007): 0.19745222929936307\n",
      "6 Murder on the Orient Express (2017): 0.19618239660657477\n",
      "\n",
      "Query:  Harry Potter and the Sorcerer's Stone (a.k.a. Harry Potter and the Philosopher's Stone) (2001)\n",
      "similar Movies according to Pearson Correlation Coefficient: \n",
      "1 Harry Potter and the Chamber of Secrets (2002) : 0.9681462276013315\n",
      "2 Harry Potter and the Goblet of Fire (2005) : 0.9556747131508766\n",
      "3 Harry Potter and the Prisoner of Azkaban (2004) : 0.9538342215071711\n",
      "4 Harry Potter and the Order of the Phoenix (2007) : 0.9473326251234182\n",
      "5 Harry Potter and the Half-Blood Prince (2009) : 0.9177768864808546\n",
      "6 Harry Potter and the Deathly Hallows: Part 1 (2010) : 0.9170932300981532\n",
      "7 Harry Potter and the Deathly Hallows: Part 2 (2011) : 0.9047565933587378\n",
      "8 Chronicles of Narnia: The Lion, the Witch and the Wardrobe, The (2005) : 0.8474966884821409\n",
      "9 Spiderwick Chronicles, The (2008) : 0.8314586849346502\n",
      "10 Chronicles of Narnia: Prince Caspian, The (2008) : 0.8247042251381136\n"
     ]
    }
   ],
   "source": [
    "query = movies[4896]\n",
    "count = 10\n",
    "\n",
    "similarMovies = GetTopTagsCosineSims(count, movies, query)\n",
    "PrintSimilarity(similarMovies)\n",
    "\n",
    "similar_movies_with_jaccard = get_top_tags_jaccard_sims(count, movies, query)\n",
    "PrintSimilarity(similar_movies_with_jaccard)\n",
    "\n",
    "similarPearsonMovies = GetTopTagsPearsonCorrelation(count, movies, query)\n",
    "PrintPearsonCorrelation(similarPearsonMovies)\n"
   ]
  },
  {
   "attachments": {},
   "cell_type": "markdown",
   "metadata": {},
   "source": [
    "# Fuzzy Title Matching - Levenshtein\n",
    "\n",
    "Fuzzy matches the given title against all movie titles using the levenshtein distance"
   ]
  },
  {
   "cell_type": "code",
   "execution_count": 13,
   "metadata": {},
   "outputs": [
    {
     "name": "stdout",
     "output_type": "stream",
     "text": [
      "('Star Trek III: The Search for Spock (1984)', 79)\n"
     ]
    }
   ],
   "source": [
    "def fuzzyMatch(movies, user_title):\n",
    "    movie_titles = [movies[mID].name for mID in movies]\n",
    "    return process.extractOne(user_title, movie_titles, scorer=fuzz.partial_ratio)\n",
    "\n",
    "matched_title = fuzzyMatch(movies, \"Serch fo Spick\")\n",
    "print(matched_title)"
   ]
  },
  {
   "attachments": {},
   "cell_type": "markdown",
   "metadata": {},
   "source": [
    "# User Struct\n",
    "\n",
    "A struct that contains the user ratings and also the tags the user choosed for a movie."
   ]
  },
  {
   "cell_type": "code",
   "execution_count": 14,
   "metadata": {},
   "outputs": [],
   "source": [
    "class User:\n",
    "    def __init__(self, id):\n",
    "        self.id = id\n",
    "        self.movieRatings = {}\n",
    "        self.movieTags = {}\n",
    "        self.genomMovieTags = {}\n",
    "    \n",
    "    def AddRating(self, movie, rating):\n",
    "        self.movieRatings[movie] = rating\n",
    "    \n",
    "    def AddTags(self, movie, tag):\n",
    "        if movie not in self.movieTags:\n",
    "            self.movieTags[movie] = []\n",
    "        self.movieTags[movie].append(tag)\n",
    "\n",
    "    def UpdateGenomTags(self, lookUpTableGenom):\n",
    "        for movie in self.movieTags:\n",
    "            inside = list()\n",
    "            for tag in self.movieTags[movie]:\n",
    "                for values in lookUpTags:\n",
    "                    if lookUpTags[values] == tag:\n",
    "                        inside.append(values)\n",
    "                        \n",
    "            self.genomMovieTags[movie] = inside\n"
   ]
  },
  {
   "attachments": {},
   "cell_type": "markdown",
   "metadata": {},
   "source": [
    "**Creates a list in User with every movie ranked by the User the calculates the generel movie ratings**"
   ]
  },
  {
   "attachments": {},
   "cell_type": "markdown",
   "metadata": {},
   "source": [
    "takes 5 minutes..."
   ]
  },
  {
   "cell_type": "code",
   "execution_count": 15,
   "metadata": {},
   "outputs": [],
   "source": [
    "# userId,movieId,rating,timestamp\n",
    "def CreateUsers(allMovies):\n",
    "    ratings = pd.read_csv('ratings.csv')\n",
    "    UserDic = {}\n",
    "    userId = -1\n",
    "\n",
    "    for i in range(len(ratings)):\n",
    "        movie = allMovies[ratings['movieId'][i]]\n",
    "        userID = ratings['userId'][i]\n",
    "        ratingsRow = ratings['rating'][i]\n",
    "\n",
    "        if userID != userId:\n",
    "            userId = userID\n",
    "            newUser = User(userId)      \n",
    "            UserDic[newUser.id] = newUser\n",
    "\n",
    "        newUser.AddRating(movie, ratingsRow)\n",
    "        movie.AddRatingCount(ratingsRow)\n",
    "    return UserDic\n",
    "\n",
    "users = CreateUsers(movies)\n"
   ]
  },
  {
   "cell_type": "code",
   "execution_count": 16,
   "metadata": {},
   "outputs": [
    {
     "name": "stdout",
     "output_type": "stream",
     "text": [
      "Harry Potter and the Sorcerer's Stone (a.k.a. Harry Potter and the Philosopher's Stone) (2001)\n",
      "Movie Rating: 3.678158491145853\n",
      "Random User Rating:  4.0\n"
     ]
    }
   ],
   "source": [
    "# 7045,4896,4.0\n",
    "print(movies[4896].name)\n",
    "print(\"Movie Rating:\", movies[4896].rating)\n",
    "print(\"Random User Rating: \", users[7045].movieRatings[movies[4896]])\n"
   ]
  },
  {
   "attachments": {},
   "cell_type": "markdown",
   "metadata": {},
   "source": [
    "**Addind tags that user rated on movies (not every rated movie has a tag vice versa)**"
   ]
  },
  {
   "cell_type": "code",
   "execution_count": 17,
   "metadata": {},
   "outputs": [],
   "source": [
    "#userId,movieId,tag,timestamp\n",
    "def UserDefinedTag(allUsers, movies):\n",
    "    userTags = pd.read_csv('tags.csv')\n",
    "\n",
    "    activeUser = allUsers[userTags['userId'][0]]\n",
    "    \n",
    "    movie = movies[userTags['movieId'][0]]\n",
    "    for i in range(len(userTags)):\n",
    "        if activeUser.id != userTags['userId'][i]:\n",
    "            activeUser = allUsers[userTags['userId'][i]]\n",
    "\n",
    "        if movie.id != userTags['movieId'][i]:\n",
    "            movie = movies[userTags['movieId'][i]]\n",
    "\n",
    "        activeUser.AddTags(movie, userTags['tag'][i])\n",
    "       \n",
    "UserDefinedTag(users, movies) \n"
   ]
  },
  {
   "attachments": {},
   "cell_type": "markdown",
   "metadata": {},
   "source": [
    "**Adding the Genom tags in numerical form**"
   ]
  },
  {
   "cell_type": "code",
   "execution_count": 18,
   "metadata": {},
   "outputs": [],
   "source": [
    "def SetGenomTags(allUsers):\n",
    "    for userId in allUsers:\n",
    "        allUsers[userId].UpdateGenomTags(lookUpTags)\n",
    "\n",
    "SetGenomTags(users)"
   ]
  },
  {
   "attachments": {},
   "cell_type": "markdown",
   "metadata": {},
   "source": [
    "# !!! Important !!!"
   ]
  },
  {
   "attachments": {},
   "cell_type": "markdown",
   "metadata": {},
   "source": [
    "**There are some Userdefined tags that arent in the 1128 tags** Example [Hayao Miyazaki,Miyazaki]"
   ]
  },
  {
   "attachments": {},
   "cell_type": "markdown",
   "metadata": {},
   "source": [
    "Should we create a new Table for all Tags? Or should we just change them into numbers and only work with the 1128 table?"
   ]
  },
  {
   "cell_type": "code",
   "execution_count": 19,
   "metadata": {},
   "outputs": [
    {
     "name": "stdout",
     "output_type": "stream",
     "text": [
      "Genres: ['adventure', 'anime', 'ecology', 'fantasy', 'Hayao Miyazaki', 'Miyazaki', 'post-apocalyptic']\n",
      "Inside: ['adventure', 'anime', 'ecology', 'fantasy', 'post-apocalyptic']\n",
      "Inside (numeric): [29, 65, 342, 377, 803]\n",
      "Not inside: ['Miyazaki', 'Hayao Miyazaki']\n",
      "Genom Tags(inside): [29, 65, 342, 377, 803]\n"
     ]
    }
   ],
   "source": [
    "# print(\"Movie:\", movies[7099].name)\n",
    "\n",
    "def CheckIfInLoopUpTable(genresToCheck):\n",
    "    inside = list()\n",
    "    keys = []\n",
    "    for item in genresToCheck:\n",
    "        for values in lookUpTags:\n",
    "            if lookUpTags[values] == item:\n",
    "                inside.append(item)\n",
    "                keys.append(values)\n",
    "\n",
    "    outside = list(set(genresToCheck) - set(inside))\n",
    "    print(\"Genres:\", genresToCheck)\n",
    "    print(\"Inside:\", inside)\n",
    "    print(\"Inside (numeric):\", keys)\n",
    "    print(\"Not inside:\", outside)\n",
    "    return inside\n",
    "\n",
    "CheckIfInLoopUpTable(list(users[19].movieTags[movies[7099]]))\n",
    "print(\"Genom Tags(inside):\", users[19].genomMovieTags[movies[7099]])"
   ]
  },
  {
   "cell_type": "markdown",
   "metadata": {},
   "source": [
    "# TODOS\n",
    "* search depending on tags\n",
    "* search depending on title similarity with than searches for a similar movie\n",
    "* seach query for getting ranking based best movie in specific genre (There are 19 genres (readme)!!)\n",
    "* beim ML teil können wir die filme die ein User gerated hat und ein genom tag haben aufteilen in test und training und predicten wie der score sein soll\n",
    "* jaccard similarity machen mit tags (brauchen die tags zu den einzelnen filmen) und dann 0 oder 1.\n",
    "* Powerpoint presentation machen"
   ]
  },
  {
   "cell_type": "markdown",
   "source": [
    "Tags class and lookup table for tag name and id"
   ],
   "metadata": {
    "collapsed": false
   }
  },
  {
   "cell_type": "code",
   "execution_count": 20,
   "metadata": {},
   "outputs": [],
   "source": [
    "\n",
    "class Tags:\n",
    "    def __init__(self, tag_id, tag_name):\n",
    "        self.tags_relevance = [0] * 1128\n",
    "        self.tag_id = tag_id\n",
    "        self.tag_name = tag_name\n",
    "\n",
    "    def set_tag_relevance_vector(self, tags_relevance):\n",
    "        self.tags_relevance = tags_relevance\n",
    "\n",
    "\n",
    "\n",
    "def create_tag_list():\n",
    "    tags_dict = {}\n",
    "    genome_tags = pd.read_csv('genome-tags.csv')\n",
    "\n",
    "    for i in range(len(genome_tags)):\n",
    "\n",
    "        tag = Tags(genome_tags['tagId'][i], genome_tags['tag'][i])\n",
    "        tags_dict[tag.tag_name] = tag\n",
    "\n",
    "    return tags_dict\n",
    "\n",
    "\n",
    "def create_tags_id_lookup_table():\n",
    "    genres = pd.read_csv('genome-tags.csv')\n",
    "    tags_lookup_table = {}\n",
    "    for index in range(len(genres)):\n",
    "        tags_lookup_table[genres['tag'][index]] = genres['tagId'][index]\n",
    "        index += 1\n",
    "    return tags_lookup_table\n",
    "\n",
    "\n",
    "lookup_table_tags = create_tags_id_lookup_table()\n",
    "tags_list = create_tag_list()\n",
    "\n",
    "\n"
   ]
  },
  {
   "cell_type": "markdown",
   "source": [],
   "metadata": {
    "collapsed": false
   }
  },
  {
   "cell_type": "code",
   "execution_count": 26,
   "outputs": [
    {
     "name": "stdout",
     "output_type": "stream",
     "text": [
      "{0.19079710782699305: 'Chinese Zodiac (Armour of God III) (CZ12) (2012)', 0.19050150367796725: 'Drop Zone (1994)', 0.18538631781912157: 'Sudden Death (1995)', 0.18329967839226147: 'Braddock: Missing in Action III (1988)', 0.1801669051334233: 'Yes, Madam (a.k.a. Police Assassins) (a.k.a. In the Line of Duty 2) (Huang gu shi jie) (1985)', 0.17750807765539783: 'Under Siege 2: Dark Territory (1995)', 0.17698470226297763: 'Passenger 57 (1992)', 0.17448684498089345: '12 Rounds (2009)', 0.1735743151350222: 'Terminal Velocity (1994)', 0.17329838519968369: 'Momentum (2015)'}\n"
     ]
    }
   ],
   "source": [
    "def user_tag_search(tags_test, movies, count):\n",
    "\n",
    "    tags_counter_vector = [0] * 1128\n",
    "\n",
    "    for tag in tags_test:\n",
    "        tags_counter_vector[lookup_table_tags[tag]] = 1\n",
    "\n",
    "    similar_movies = {}\n",
    "    sim_values = []\n",
    "    for mID in movies:\n",
    "        if movies[mID].tagsRelevance.count(0) == 1128:\n",
    "            continue\n",
    "        sim = calc_cosine(movies[mID].tagsRelevance, tags_counter_vector)\n",
    "        sim_values.append(sim)\n",
    "        similar_movies[sim] = movies[mID].name\n",
    "\n",
    "    top_similar = {}\n",
    "    sim_values.sort(reverse=True)\n",
    "\n",
    "    for i in range(count):\n",
    "        top_similar[sim_values[i]] = similar_movies[sim_values[i]]\n",
    "    return top_similar\n",
    "\n"
   ],
   "metadata": {
    "collapsed": false
   }
  },
  {
   "cell_type": "markdown",
   "source": [
    "User can use the function user_tag_search to insert genome tags and get movie recommendations as a result"
   ],
   "metadata": {
    "collapsed": false
   }
  },
  {
   "cell_type": "code",
   "execution_count": 33,
   "outputs": [
    {
     "name": "stdout",
     "output_type": "stream",
     "text": [
      "Query:  Harry Potter and the Sorcerer's Stone (a.k.a. Harry Potter and the Philosopher's Stone) (2001)\n",
      "similar Movies: \n",
      "1 Chinese Zodiac (Armour of God III) (CZ12) (2012): 0.18733320883806595\n",
      "2 Tom and Huck (1995): 0.17766026440448682\n",
      "3 Patriot, The (1998): 0.1752875931207842\n",
      "4 Three Musketeers, The (2011): 0.17522993506272752\n",
      "5 Punisher, The (1989): 0.17487741593470277\n",
      "6 Drop Zone (1994): 0.17060262204576068\n",
      "7 Braddock: Missing in Action III (1988): 0.16947919499357886\n",
      "8 Pinocchio (2002): 0.16857685215785298\n",
      "9 Yes, Madam (a.k.a. Police Assassins) (a.k.a. In the Line of Duty 2) (Huang gu shi jie) (1985): 0.16717386334646753\n",
      "10 Three Musketeers, The (1993): 0.16694866466481667\n"
     ]
    }
   ],
   "source": [
    "\n",
    "user_tag_result = user_tag_search([\"action\", \"action packed\"], movies, 10)\n",
    "PrintSimilarity(user_tag_result)"
   ],
   "metadata": {
    "collapsed": false
   }
  }
 ],
 "metadata": {
  "kernelspec": {
   "display_name": ".venv",
   "language": "python",
   "name": "python3"
  },
  "language_info": {
   "codemirror_mode": {
    "name": "ipython",
    "version": 3
   },
   "file_extension": ".py",
   "mimetype": "text/x-python",
   "name": "python",
   "nbconvert_exporter": "python",
   "pygments_lexer": "ipython3",
   "version": "3.10.7"
  },
  "vscode": {
   "interpreter": {
    "hash": "1f6f13b05dbb56b424638b5b05df7e75f24b9a95478ea20b2b714e16a407293f"
   }
  }
 },
 "nbformat": 4,
 "nbformat_minor": 4
}
